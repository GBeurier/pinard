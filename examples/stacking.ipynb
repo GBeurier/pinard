{
 "cells": [
  {
   "cell_type": "code",
   "execution_count": null,
   "metadata": {},
   "outputs": [],
   "source": [
    "!pip install pinard"
   ]
  },
  {
   "cell_type": "markdown",
   "metadata": {},
   "source": [
    "## Combine predictors using Stacking\n",
    "\n",
    "In this Notebook we will use multiple regressor to predict a data set.\n",
    "\n",
    "## Loading data"
   ]
  },
  {
   "cell_type": "code",
   "execution_count": 2,
   "metadata": {},
   "outputs": [
    {
     "name": "stdout",
     "output_type": "stream",
     "text": [
      "(270, 2151) (270,) (91, 2151) (91,)\n"
     ]
    }
   ],
   "source": [
    "# Standard loading and preprocessing code\n",
    "\n",
    "from pinard import utils\n",
    "from pinard.model_selection import train_test_split_idx\n",
    "import numpy as np\n",
    "\n",
    "# Init basic random\n",
    "rd_seed = 42\n",
    "np.random.seed(rd_seed)\n",
    "\n",
    "xcal_csv = \"https://raw.githubusercontent.com/GBeurier/pinard/main/examples/Xcal.csv\"\n",
    "ycal_csv = \"https://raw.githubusercontent.com/GBeurier/pinard/main/examples/Ycal.csv\"\n",
    "\n",
    "# Create a set named data\n",
    "x, y = utils.load_csv(xcal_csv, ycal_csv, x_hdr=0, y_hdr=0, remove_na=True)\n",
    "train_index, test_index = train_test_split_idx(x, y=y, method=\"random\", test_size=0.25, random_state=rd_seed)\n",
    "X_train, y_train, X_test, y_test = x[train_index], y[train_index], x[test_index], y[test_index]\n",
    "print(X_train.shape, y_train.shape, X_test.shape, y_test.shape)\n",
    "\n",
    "\n",
    "from pinard import preprocessing as pp\n",
    "from sklearn.pipeline import Pipeline\n",
    "\n",
    "### Declare preprocessing pipeline components\n",
    "preprocessing = [   ('id', pp.IdentityTransformer()),\n",
    "                    ('savgol', pp.SavitzkyGolay()),\n",
    "                    ('gaussian1', pp.Gaussian(order = 1, sigma = 2)),\n",
    "                    ('gaussian2', pp.Gaussian(order = 2, sigma = 1)),\n",
    "                    ('haar', pp.Wavelet('haar')),\n",
    "                    ('savgol*savgol', Pipeline([('_sg1',pp.SavitzkyGolay()),('_sg2',pp.SavitzkyGolay())])),\n",
    "                    ('gaussian1*savgol', Pipeline([('_g1',pp.Gaussian(order = 1, sigma = 2)),('_sg3',pp.SavitzkyGolay())])),\n",
    "                    ('gaussian2*savgol', Pipeline([('_g2',pp.Gaussian(order = 1, sigma = 2)),('_sg4',pp.SavitzkyGolay())])),\n",
    "                    ('haar*savgol', Pipeline([('_haar2',pp.Wavelet('haar')),('_sg5',pp.SavitzkyGolay())]))\n",
    "                ]\n",
    "\n"
   ]
  },
  {
   "cell_type": "markdown",
   "metadata": {},
   "source": [
    "## Pipelines creation\n",
    "\n",
    "Here we create the multiple pipelines and estimators for the stack"
   ]
  },
  {
   "cell_type": "code",
   "execution_count": 3,
   "metadata": {},
   "outputs": [],
   "source": [
    "from xgboost import XGBRegressor\n",
    "from sklearn.cross_decomposition import PLSRegression\n",
    "from sklearn.ensemble import RandomForestRegressor\n",
    "from sklearn.linear_model import LassoCV\n",
    "\n",
    "from sklearn.pipeline import FeatureUnion, make_pipeline\n",
    "from sklearn.preprocessing import MinMaxScaler\n",
    "from sklearn.compose import TransformedTargetRegressor\n",
    "\n",
    "from sklearn.ensemble import StackingRegressor\n",
    "from sklearn.linear_model import RidgeCV\n",
    "\n",
    "union_pipeline = make_pipeline(MinMaxScaler(), FeatureUnion(preprocessing))\n",
    "\n",
    "def get_estimator(regressor):\n",
    "    pipeline = make_pipeline(union_pipeline, regressor)\n",
    "    return TransformedTargetRegressor(regressor = pipeline, transformer = MinMaxScaler())\n",
    "\n",
    "estimators = [\n",
    "    # (\"Random Forest\", get_estimator( RandomForestRegressor(random_state=rd_seed) ) ),\n",
    "    (\"PLS\", get_estimator( PLSRegression(n_components=20) ) ),\n",
    "    (\"PLS_small\", get_estimator( PLSRegression(n_components=7) ) ),\n",
    "    (\"LassoCV\", get_estimator( LassoCV() ) ),\n",
    "    (\"XGBoost\", get_estimator( XGBRegressor() ) )\n",
    "]\n",
    "\n",
    "\n",
    "stacking_regressor = StackingRegressor(estimators=estimators, final_estimator=RidgeCV())\n"
   ]
  },
  {
   "cell_type": "code",
   "execution_count": 5,
   "metadata": {},
   "outputs": [
    {
     "ename": "NameError",
     "evalue": "name 'X' is not defined",
     "output_type": "error",
     "traceback": [
      "\u001b[1;31m---------------------------------------------------------------------------\u001b[0m",
      "\u001b[1;31mNameError\u001b[0m                                 Traceback (most recent call last)",
      "\u001b[1;32m~\\AppData\\Local\\Temp/ipykernel_20928/4171509.py\u001b[0m in \u001b[0;36m<module>\u001b[1;34m\u001b[0m\n\u001b[0;32m     37\u001b[0m     \u001b[0mstart_time\u001b[0m \u001b[1;33m=\u001b[0m \u001b[0mtime\u001b[0m\u001b[1;33m.\u001b[0m\u001b[0mtime\u001b[0m\u001b[1;33m(\u001b[0m\u001b[1;33m)\u001b[0m\u001b[1;33m\u001b[0m\u001b[1;33m\u001b[0m\u001b[0m\n\u001b[0;32m     38\u001b[0m     score = cross_validate(\n\u001b[1;32m---> 39\u001b[1;33m         \u001b[0mest\u001b[0m\u001b[1;33m,\u001b[0m \u001b[0mX\u001b[0m\u001b[1;33m,\u001b[0m \u001b[0my\u001b[0m\u001b[1;33m,\u001b[0m \u001b[0mcv\u001b[0m\u001b[1;33m=\u001b[0m\u001b[1;36m4\u001b[0m\u001b[1;33m,\u001b[0m \u001b[0mscoring\u001b[0m\u001b[1;33m=\u001b[0m\u001b[1;33m[\u001b[0m\u001b[1;34m\"r2\"\u001b[0m\u001b[1;33m,\u001b[0m \u001b[1;34m\"neg_mean_absolute_error\"\u001b[0m\u001b[1;33m]\u001b[0m\u001b[1;33m,\u001b[0m \u001b[0mn_jobs\u001b[0m\u001b[1;33m=\u001b[0m\u001b[1;36m2\u001b[0m\u001b[1;33m,\u001b[0m \u001b[0mverbose\u001b[0m\u001b[1;33m=\u001b[0m\u001b[1;36m2\u001b[0m\u001b[1;33m\u001b[0m\u001b[1;33m\u001b[0m\u001b[0m\n\u001b[0m\u001b[0;32m     40\u001b[0m     )\n\u001b[0;32m     41\u001b[0m     \u001b[0melapsed_time\u001b[0m \u001b[1;33m=\u001b[0m \u001b[0mtime\u001b[0m\u001b[1;33m.\u001b[0m\u001b[0mtime\u001b[0m\u001b[1;33m(\u001b[0m\u001b[1;33m)\u001b[0m \u001b[1;33m-\u001b[0m \u001b[0mstart_time\u001b[0m\u001b[1;33m\u001b[0m\u001b[1;33m\u001b[0m\u001b[0m\n",
      "\u001b[1;31mNameError\u001b[0m: name 'X' is not defined"
     ]
    },
    {
     "data": {
      "image/png": "[encoded data removed]",
      "text/plain": [
       "<Figure size 648x504 with 4 Axes>"
      ]
     },
     "metadata": {
      "needs_background": "light"
     },
     "output_type": "display_data"
    }
   ],
   "source": [
    "import time\n",
    "import matplotlib.pyplot as plt\n",
    "from sklearn.model_selection import cross_validate, cross_val_predict\n",
    "\n",
    "\n",
    "def plot_regression_results(ax, y_true, y_pred, title, scores, elapsed_time):\n",
    "    \"\"\"Scatter plot of the predicted vs true targets.\"\"\"\n",
    "    ax.plot(\n",
    "        [y_true.min(), y_true.max()], [y_true.min(), y_true.max()], \"--r\", linewidth=2\n",
    "    )\n",
    "    ax.scatter(y_true, y_pred, alpha=0.2)\n",
    "\n",
    "    ax.spines[\"top\"].set_visible(False)\n",
    "    ax.spines[\"right\"].set_visible(False)\n",
    "    ax.get_xaxis().tick_bottom()\n",
    "    ax.get_yaxis().tick_left()\n",
    "    ax.spines[\"left\"].set_position((\"outward\", 10))\n",
    "    ax.spines[\"bottom\"].set_position((\"outward\", 10))\n",
    "    ax.set_xlim([y_true.min(), y_true.max()])\n",
    "    ax.set_ylim([y_true.min(), y_true.max()])\n",
    "    ax.set_xlabel(\"Measured\")\n",
    "    ax.set_ylabel(\"Predicted\")\n",
    "    extra = plt.Rectangle(\n",
    "        (0, 0), 0, 0, fc=\"w\", fill=False, edgecolor=\"none\", linewidth=0\n",
    "    )\n",
    "    ax.legend([extra], [scores], loc=\"upper left\")\n",
    "    title = title + \"\\n Evaluation in {:.2f} seconds\".format(elapsed_time)\n",
    "    ax.set_title(title)\n",
    "\n",
    "\n",
    "fig, axs = plt.subplots(2, 2, figsize=(9, 7))\n",
    "axs = np.ravel(axs)\n",
    "\n",
    "for ax, (name, est) in zip(\n",
    "    axs, estimators + [(\"Stacking Regressor\", stacking_regressor)]\n",
    "):\n",
    "    start_time = time.time()\n",
    "    score = cross_validate(\n",
    "        est, x, y, cv=4, scoring=[\"r2\", \"neg_mean_absolute_error\"], n_jobs=2, verbose=2\n",
    "    )\n",
    "    elapsed_time = time.time() - start_time\n",
    "\n",
    "    y_pred = cross_val_predict(est, x, y, cv=4, n_jobs=2, verbose=1)\n",
    "\n",
    "    plot_regression_results(\n",
    "        ax,\n",
    "        y,\n",
    "        y_pred,\n",
    "        name,\n",
    "        (r\"$R^2={:.2f} \\pm {:.2f}$\" + \"\\n\" + r\"$MAE={:.2f} \\pm {:.2f}$\").format(\n",
    "            np.mean(score[\"test_r2\"]),\n",
    "            np.std(score[\"test_r2\"]),\n",
    "            -np.mean(score[\"test_neg_mean_absolute_error\"]),\n",
    "            np.std(score[\"test_neg_mean_absolute_error\"]),\n",
    "        ),\n",
    "        elapsed_time,\n",
    "    )\n",
    "\n",
    "plt.suptitle(\"Single predictors versus stacked predictors\")\n",
    "plt.tight_layout()\n",
    "plt.subplots_adjust(top=0.9)\n",
    "plt.show()"
   ]
  }
 ],
 "metadata": {
  "kernelspec": {
   "display_name": "Python 3.7.6 ('PyNIRS_env')",
   "language": "python",
   "name": "python3"
  },
  "language_info": {
   "codemirror_mode": {
    "name": "ipython",
    "version": 3
   },
   "file_extension": ".py",
   "mimetype": "text/x-python",
   "name": "python",
   "nbconvert_exporter": "python",
   "pygments_lexer": "ipython3",
   "version": "3.7.6"
  },
  "orig_nbformat": 4,
  "vscode": {
   "interpreter": {
    "hash": "c3c3249a294db370905b327c25644ce18610bfebb370223cf3414a9c437db486"
   }
  }
 },
 "nbformat": 4,
 "nbformat_minor": 2
}
