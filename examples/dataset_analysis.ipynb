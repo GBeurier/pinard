{
 "cells": [
  {
   "cell_type": "code",
   "execution_count": 7,
   "metadata": {},
   "outputs": [
    {
     "name": "stderr",
     "output_type": "stream",
     "text": [
      "2024-10-16 00:57:11,422 - INFO - ================================================================================\n",
      "2024-10-16 00:57:11,423 - INFO - ### PREPARING DATA ###\n",
      "2024-10-16 00:57:11,423 - INFO - ### LOADING DATASET ###\n"
     ]
    },
    {
     "name": "stdout",
     "output_type": "stream",
     "text": [
      "Number of experiments: 4\n",
      ">> Browsing FOOD_CHEM\\Rice_Amylose_313_Sampaio\n",
      "No train_group file found for FOOD_CHEM\\Rice_Amylose_313_Sampaio.\n",
      "No test_group file found for FOOD_CHEM\\Rice_Amylose_313_Sampaio.\n"
     ]
    },
    {
     "name": "stderr",
     "output_type": "stream",
     "text": [
      "2024-10-16 00:57:11,724 - INFO - Dataset(x_train:(203, 1154) - y_train:(203, 1), x_test:(110, 1154) - y_test:(110, 1))\n",
      "2024-10-16 00:57:11,725 - INFO - ### PROCESSING DATASET ###\n",
      "2024-10-16 00:57:11,729 - INFO - Dataset(x_train:(203, 1154) - y_train:(203, 1), x_test:(110, 1154) - y_test:(110, 1))\n",
      "Folds size: 135-68, 135-68, 136-67\n",
      "2024-10-16 00:57:11,730 - INFO - ### PREPARING MODEL ###\n",
      "2024-10-16 00:57:11,731 - INFO - Running config > {'dataset': 'FOOD_CHEM\\\\Rice_Amylose_313_Sampaio', 'x_pipeline': [{'class': 'sklearn.preprocessing.MinMaxScaler', 'params': {'clip': False, 'copy': True, 'feature_range': [0, 1]}}, {'split': {'class': 'sklearn.model_selection.RepeatedKFold', 'params': {'cv': {'class': 'sklearn.model_selection.KFold', 'params': None}, 'n_repeats': 1, 'random_state': None, 'cvargs': {'n_splits': 3}}}}, None, {'class': 'sklearn.preprocessing.MinMaxScaler', 'params': {'clip': False, 'copy': True, 'feature_range': [0, 1]}}], 'y_pipeline': {'class': 'sklearn.preprocessing.MinMaxScaler', 'params': {'clip': False, 'copy': True, 'feature_range': [0, 1]}}, 'model': {'class': 'sklearn.cross_decomposition.PLSRegression', 'params': None}, 'experiment': {'action': 'train', 'finetune_params': {'cv': 5, 'n_trials': 35, 'model_params': {'n_components': ['int', 5, 40]}, 'tuner': 'sklearn'}, 'metrics': ['mse', 'mae'], 'task': 'regression'}, 'seed': 123459456}\n",
      "2024-10-16 00:57:11,732 - INFO - Starting new experiment experiment_57e3d41c.\n",
      "2024-10-16 00:57:11,734 - INFO - Experiment prepared at results\\FOOD_CHEMRice_Amylose_313_Sampaio\\PLSRegression\\experiment_57e3d41c\n",
      "2024-10-16 00:57:11,735 - INFO - Training the model\n",
      "2024-10-16 00:57:11,766 - INFO - Saved model to results\\FOOD_CHEMRice_Amylose_313_Sampaio\\PLSRegression\\experiment_57e3d41c\n",
      "2024-10-16 00:57:11,773 - INFO - Metrics saved to results\\FOOD_CHEMRice_Amylose_313_Sampaio\\PLSRegression\\experiment_57e3d41c\\metrics.json\n",
      "2024-10-16 00:57:11,773 - INFO - Evaluation Metrics: {'mse': 24.776783367745235, 'mae': 3.687351762290033}\n",
      "2024-10-16 00:57:11,779 - INFO - Metrics saved to results\\FOOD_CHEMRice_Amylose_313_Sampaio\\PLSRegression\\experiment_57e3d41c\\metrics.json\n",
      "2024-10-16 00:57:11,780 - INFO - Evaluation Metrics: {'mse': 25.789525184242496, 'mae': 3.7532076013358577}\n",
      "2024-10-16 00:57:11,795 - INFO - Metrics saved to results\\FOOD_CHEMRice_Amylose_313_Sampaio\\PLSRegression\\experiment_57e3d41c\\metrics.json\n",
      "2024-10-16 00:57:11,795 - INFO - Evaluation Metrics: {'mse': 24.858367588276455, 'mae': 3.8352716458536373}\n",
      "2024-10-16 00:57:11,798 - INFO - Predictions saved to results\\FOOD_CHEMRice_Amylose_313_Sampaio\\PLSRegression\\experiment_57e3d41c\\predictions.csv\n",
      "2024-10-16 00:57:11,809 - INFO - Updated experiments at results\\FOOD_CHEMRice_Amylose_313_Sampaio\\PLSRegression\\experiments.json\n",
      "2024-10-16 00:57:11,813 - INFO - Updated experiments at results\\FOOD_CHEMRice_Amylose_313_Sampaio\\experiments.json\n",
      "2024-10-16 00:57:11,813 - INFO - Updated experiments at results\\FOOD_CHEMRice_Amylose_313_Sampaio\\PLSRegression\\experiments.json and results\\FOOD_CHEMRice_Amylose_313_Sampaio\\experiments.json\n",
      "2024-10-16 00:57:11,814 - INFO - ================================================================================\n",
      "2024-10-16 00:57:11,814 - INFO - ### PREPARING DATA ###\n",
      "2024-10-16 00:57:11,815 - INFO - ### LOADING DATASET ###\n"
     ]
    },
    {
     "name": "stdout",
     "output_type": "stream",
     "text": [
      "{'initial_shape': (203, 1154), 'delimiter': ';', 'numeric_delimiter': '.', 'header_line': 0, 'final_shape': (203, 1154), 'na_handling': {'strategy': 'abort', 'nb_removed_rows': None, 'removed_rows': None}}\n",
      "{'initial_shape': (110, 1154), 'delimiter': ';', 'numeric_delimiter': '.', 'header_line': 0, 'final_shape': (110, 1154), 'na_handling': {'strategy': 'abort', 'nb_removed_rows': None, 'removed_rows': None}}\n",
      "Using framework: sklearn\n",
      "Training fold 1, with shapes: (135, 1154) (135, 1) (68, 1154) (68, 1)\n",
      "Training fold 2, with shapes: (135, 1154) (135, 1) (68, 1154) (68, 1)\n",
      "Training fold 3, with shapes: (136, 1154) (136, 1) (67, 1154) (67, 1)\n",
      ">> Browsing FOOD_CHEM\\Wheat_Proteine_100_Kalivas1\n",
      "No train_group file found for FOOD_CHEM\\Wheat_Proteine_100_Kalivas1.\n",
      "No test_group file found for FOOD_CHEM\\Wheat_Proteine_100_Kalivas1.\n"
     ]
    },
    {
     "name": "stderr",
     "output_type": "stream",
     "text": [
      "2024-10-16 00:57:11,910 - INFO - Dataset(x_train:(50, 701) - y_train:(50, 1), x_test:(20, 701) - y_test:(20, 1))\n",
      "2024-10-16 00:57:11,910 - INFO - ### PROCESSING DATASET ###\n",
      "2024-10-16 00:57:11,912 - INFO - Dataset(x_train:(50, 701) - y_train:(50, 1), x_test:(20, 701) - y_test:(20, 1))\n",
      "Folds size: 33-17, 33-17, 34-16\n",
      "2024-10-16 00:57:11,912 - INFO - ### PREPARING MODEL ###\n",
      "2024-10-16 00:57:11,913 - INFO - Running config > {'dataset': 'FOOD_CHEM\\\\Wheat_Proteine_100_Kalivas1', 'x_pipeline': [{'class': 'sklearn.preprocessing.MinMaxScaler', 'params': {'clip': False, 'copy': True, 'feature_range': [0, 1]}}, {'split': {'class': 'sklearn.model_selection.RepeatedKFold', 'params': {'cv': {'class': 'sklearn.model_selection.KFold', 'params': None}, 'n_repeats': 1, 'random_state': None, 'cvargs': {'n_splits': 3}}}}, None, {'class': 'sklearn.preprocessing.MinMaxScaler', 'params': {'clip': False, 'copy': True, 'feature_range': [0, 1]}}], 'y_pipeline': {'class': 'sklearn.preprocessing.MinMaxScaler', 'params': {'clip': False, 'copy': True, 'feature_range': [0, 1]}}, 'model': {'class': 'sklearn.cross_decomposition.PLSRegression', 'params': None}, 'experiment': {'action': 'train', 'finetune_params': {'cv': 5, 'n_trials': 35, 'model_params': {'n_components': ['int', 5, 40]}, 'tuner': 'sklearn'}, 'metrics': ['mse', 'mae'], 'task': 'regression'}, 'seed': 123459456}\n",
      "2024-10-16 00:57:11,914 - INFO - Starting new experiment experiment_38c2051c.\n",
      "2024-10-16 00:57:11,917 - INFO - Experiment prepared at results\\FOOD_CHEMWheat_Proteine_100_Kalivas1\\PLSRegression\\experiment_38c2051c\n",
      "2024-10-16 00:57:11,918 - INFO - Training the model\n",
      "2024-10-16 00:57:11,931 - INFO - Saved model to results\\FOOD_CHEMWheat_Proteine_100_Kalivas1\\PLSRegression\\experiment_38c2051c\n",
      "2024-10-16 00:57:11,946 - INFO - Metrics saved to results\\FOOD_CHEMWheat_Proteine_100_Kalivas1\\PLSRegression\\experiment_38c2051c\\metrics.json\n",
      "2024-10-16 00:57:11,947 - INFO - Evaluation Metrics: {'mse': 0.5463142746095676, 'mae': 0.5848632825023705}\n",
      "2024-10-16 00:57:11,949 - INFO - Metrics saved to results\\FOOD_CHEMWheat_Proteine_100_Kalivas1\\PLSRegression\\experiment_38c2051c\\metrics.json\n",
      "2024-10-16 00:57:11,950 - INFO - Evaluation Metrics: {'mse': 0.4908766654950673, 'mae': 0.5556651141503632}\n",
      "2024-10-16 00:57:11,952 - INFO - Metrics saved to results\\FOOD_CHEMWheat_Proteine_100_Kalivas1\\PLSRegression\\experiment_38c2051c\\metrics.json\n",
      "2024-10-16 00:57:11,952 - INFO - Evaluation Metrics: {'mse': 0.47495680153727304, 'mae': 0.5876373202839521}\n",
      "2024-10-16 00:57:11,962 - INFO - Predictions saved to results\\FOOD_CHEMWheat_Proteine_100_Kalivas1\\PLSRegression\\experiment_38c2051c\\predictions.csv\n",
      "2024-10-16 00:57:11,972 - INFO - Updated experiments at results\\FOOD_CHEMWheat_Proteine_100_Kalivas1\\PLSRegression\\experiments.json\n",
      "2024-10-16 00:57:11,978 - INFO - Updated experiments at results\\FOOD_CHEMWheat_Proteine_100_Kalivas1\\experiments.json\n",
      "2024-10-16 00:57:11,979 - INFO - Updated experiments at results\\FOOD_CHEMWheat_Proteine_100_Kalivas1\\PLSRegression\\experiments.json and results\\FOOD_CHEMWheat_Proteine_100_Kalivas1\\experiments.json\n",
      "2024-10-16 00:57:11,979 - INFO - ================================================================================\n",
      "2024-10-16 00:57:11,979 - INFO - ### PREPARING DATA ###\n",
      "2024-10-16 00:57:11,980 - INFO - ### LOADING DATASET ###\n"
     ]
    },
    {
     "name": "stdout",
     "output_type": "stream",
     "text": [
      "{'initial_shape': (50, 701), 'delimiter': ';', 'numeric_delimiter': '.', 'header_line': 0, 'final_shape': (50, 701), 'na_handling': {'strategy': 'abort', 'nb_removed_rows': None, 'removed_rows': None}}\n",
      "{'initial_shape': (20, 701), 'delimiter': ';', 'numeric_delimiter': '.', 'header_line': 0, 'final_shape': (20, 701), 'na_handling': {'strategy': 'abort', 'nb_removed_rows': None, 'removed_rows': None}}\n",
      "Using framework: sklearn\n",
      "Training fold 1, with shapes: (33, 701) (33, 1) (17, 701) (17, 1)\n",
      "Training fold 2, with shapes: (33, 701) (33, 1) (17, 701) (17, 1)\n",
      "Training fold 3, with shapes: (34, 701) (34, 1) (16, 701) (16, 1)\n",
      ">> Browsing FOOD_CHEM\\Wheat_Proteine_100_Marx\n",
      "No train_group file found for FOOD_CHEM\\Wheat_Proteine_100_Marx.\n",
      "No test_group file found for FOOD_CHEM\\Wheat_Proteine_100_Marx.\n",
      "{'initial_shape': (67, 701), 'delimiter': ';', 'numeric_delimiter': '.', 'header_line': 0, 'final_shape': (67, 701), 'na_handling': {'strategy': 'abort', 'nb_removed_rows': None, 'removed_rows': None}}\n"
     ]
    },
    {
     "name": "stderr",
     "output_type": "stream",
     "text": [
      "2024-10-16 00:57:12,080 - INFO - Dataset(x_train:(67, 701) - y_train:(67, 1), x_test:(33, 701) - y_test:(33, 1))\n",
      "2024-10-16 00:57:12,081 - INFO - ### PROCESSING DATASET ###\n",
      "2024-10-16 00:57:12,083 - INFO - Dataset(x_train:(67, 701) - y_train:(67, 1), x_test:(33, 701) - y_test:(33, 1))\n",
      "Folds size: 44-23, 45-22, 45-22\n",
      "2024-10-16 00:57:12,084 - INFO - ### PREPARING MODEL ###\n",
      "2024-10-16 00:57:12,084 - INFO - Running config > {'dataset': 'FOOD_CHEM\\\\Wheat_Proteine_100_Marx', 'x_pipeline': [{'class': 'sklearn.preprocessing.MinMaxScaler', 'params': {'clip': False, 'copy': True, 'feature_range': [0, 1]}}, {'split': {'class': 'sklearn.model_selection.RepeatedKFold', 'params': {'cv': {'class': 'sklearn.model_selection.KFold', 'params': None}, 'n_repeats': 1, 'random_state': None, 'cvargs': {'n_splits': 3}}}}, None, {'class': 'sklearn.preprocessing.MinMaxScaler', 'params': {'clip': False, 'copy': True, 'feature_range': [0, 1]}}], 'y_pipeline': {'class': 'sklearn.preprocessing.MinMaxScaler', 'params': {'clip': False, 'copy': True, 'feature_range': [0, 1]}}, 'model': {'class': 'sklearn.cross_decomposition.PLSRegression', 'params': None}, 'experiment': {'action': 'train', 'finetune_params': {'cv': 5, 'n_trials': 35, 'model_params': {'n_components': ['int', 5, 40]}, 'tuner': 'sklearn'}, 'metrics': ['mse', 'mae'], 'task': 'regression'}, 'seed': 123459456}\n",
      "2024-10-16 00:57:12,086 - INFO - Starting new experiment experiment_a52f8632.\n",
      "2024-10-16 00:57:12,092 - INFO - Experiment prepared at results\\FOOD_CHEMWheat_Proteine_100_Marx\\PLSRegression\\experiment_a52f8632\n",
      "2024-10-16 00:57:12,095 - INFO - Training the model\n",
      "2024-10-16 00:57:12,109 - INFO - Saved model to results\\FOOD_CHEMWheat_Proteine_100_Marx\\PLSRegression\\experiment_a52f8632\n",
      "2024-10-16 00:57:12,117 - INFO - Metrics saved to results\\FOOD_CHEMWheat_Proteine_100_Marx\\PLSRegression\\experiment_a52f8632\\metrics.json\n",
      "2024-10-16 00:57:12,117 - INFO - Evaluation Metrics: {'mse': 0.8301664515378827, 'mae': 0.619845349329022}\n",
      "2024-10-16 00:57:12,122 - INFO - Metrics saved to results\\FOOD_CHEMWheat_Proteine_100_Marx\\PLSRegression\\experiment_a52f8632\\metrics.json\n",
      "2024-10-16 00:57:12,123 - INFO - Evaluation Metrics: {'mse': 0.8506460666161068, 'mae': 0.6489277751802077}\n",
      "2024-10-16 00:57:12,125 - INFO - Metrics saved to results\\FOOD_CHEMWheat_Proteine_100_Marx\\PLSRegression\\experiment_a52f8632\\metrics.json\n",
      "2024-10-16 00:57:12,125 - INFO - Evaluation Metrics: {'mse': 0.801988350572427, 'mae': 0.6354732618718233}\n",
      "2024-10-16 00:57:12,129 - INFO - Predictions saved to results\\FOOD_CHEMWheat_Proteine_100_Marx\\PLSRegression\\experiment_a52f8632\\predictions.csv\n",
      "2024-10-16 00:57:12,131 - INFO - Updated experiments at results\\FOOD_CHEMWheat_Proteine_100_Marx\\PLSRegression\\experiments.json\n",
      "2024-10-16 00:57:12,133 - INFO - Updated experiments at results\\FOOD_CHEMWheat_Proteine_100_Marx\\experiments.json\n",
      "2024-10-16 00:57:12,134 - INFO - Updated experiments at results\\FOOD_CHEMWheat_Proteine_100_Marx\\PLSRegression\\experiments.json and results\\FOOD_CHEMWheat_Proteine_100_Marx\\experiments.json\n",
      "2024-10-16 00:57:12,134 - INFO - ================================================================================\n",
      "2024-10-16 00:57:12,134 - INFO - ### PREPARING DATA ###\n",
      "2024-10-16 00:57:12,135 - INFO - ### LOADING DATASET ###\n",
      "2024-10-16 00:57:12,236 - INFO - Dataset(x_train:(80, 701) - y_train:(80, 1), x_test:(20, 701) - y_test:(20, 1))\n",
      "2024-10-16 00:57:12,237 - INFO - ### PROCESSING DATASET ###\n",
      "2024-10-16 00:57:12,239 - INFO - Dataset(x_train:(80, 701) - y_train:(80, 1), x_test:(20, 701) - y_test:(20, 1))\n",
      "Folds size: 53-27, 53-27, 54-26\n",
      "2024-10-16 00:57:12,240 - INFO - ### PREPARING MODEL ###\n",
      "2024-10-16 00:57:12,240 - INFO - Running config > {'dataset': 'FOOD_CHEM\\\\Wheat_Proteine_100_Wang', 'x_pipeline': [{'class': 'sklearn.preprocessing.MinMaxScaler', 'params': {'clip': False, 'copy': True, 'feature_range': [0, 1]}}, {'split': {'class': 'sklearn.model_selection.RepeatedKFold', 'params': {'cv': {'class': 'sklearn.model_selection.KFold', 'params': None}, 'n_repeats': 1, 'random_state': None, 'cvargs': {'n_splits': 3}}}}, None, {'class': 'sklearn.preprocessing.MinMaxScaler', 'params': {'clip': False, 'copy': True, 'feature_range': [0, 1]}}], 'y_pipeline': {'class': 'sklearn.preprocessing.MinMaxScaler', 'params': {'clip': False, 'copy': True, 'feature_range': [0, 1]}}, 'model': {'class': 'sklearn.cross_decomposition.PLSRegression', 'params': None}, 'experiment': {'action': 'train', 'finetune_params': {'cv': 5, 'n_trials': 35, 'model_params': {'n_components': ['int', 5, 40]}, 'tuner': 'sklearn'}, 'metrics': ['mse', 'mae'], 'task': 'regression'}, 'seed': 123459456}\n",
      "2024-10-16 00:57:12,242 - INFO - Starting new experiment experiment_4069ade2.\n",
      "2024-10-16 00:57:12,244 - INFO - Experiment prepared at results\\FOOD_CHEMWheat_Proteine_100_Wang\\PLSRegression\\experiment_4069ade2\n",
      "2024-10-16 00:57:12,246 - INFO - Training the model\n",
      "2024-10-16 00:57:12,261 - INFO - Saved model to results\\FOOD_CHEMWheat_Proteine_100_Wang\\PLSRegression\\experiment_4069ade2\n"
     ]
    },
    {
     "name": "stdout",
     "output_type": "stream",
     "text": [
      "{'initial_shape': (33, 701), 'delimiter': ';', 'numeric_delimiter': '.', 'header_line': 0, 'final_shape': (33, 701), 'na_handling': {'strategy': 'abort', 'nb_removed_rows': None, 'removed_rows': None}}\n",
      "Using framework: sklearn\n",
      "Training fold 1, with shapes: (44, 701) (44, 1) (23, 701) (23, 1)\n",
      "Training fold 2, with shapes: (45, 701) (45, 1) (22, 701) (22, 1)\n",
      "Training fold 3, with shapes: (45, 701) (45, 1) (22, 701) (22, 1)\n",
      ">> Browsing FOOD_CHEM\\Wheat_Proteine_100_Wang\n",
      "No train_group file found for FOOD_CHEM\\Wheat_Proteine_100_Wang.\n",
      "No test_group file found for FOOD_CHEM\\Wheat_Proteine_100_Wang.\n",
      "{'initial_shape': (80, 701), 'delimiter': ';', 'numeric_delimiter': '.', 'header_line': 0, 'final_shape': (80, 701), 'na_handling': {'strategy': 'abort', 'nb_removed_rows': None, 'removed_rows': None}}\n",
      "{'initial_shape': (20, 701), 'delimiter': ';', 'numeric_delimiter': '.', 'header_line': 0, 'final_shape': (20, 701), 'na_handling': {'strategy': 'abort', 'nb_removed_rows': None, 'removed_rows': None}}\n",
      "Using framework: sklearn\n",
      "Training fold 1, with shapes: (53, 701) (53, 1) (27, 701) (27, 1)\n",
      "Training fold 2, with shapes: (53, 701) (53, 1) (27, 701) (27, 1)\n",
      "Training fold 3, with shapes: (54, 701) (54, 1) (26, 701) (26, 1)\n"
     ]
    },
    {
     "name": "stderr",
     "output_type": "stream",
     "text": [
      "2024-10-16 00:57:12,266 - INFO - Metrics saved to results\\FOOD_CHEMWheat_Proteine_100_Wang\\PLSRegression\\experiment_4069ade2\\metrics.json\n",
      "2024-10-16 00:57:12,267 - INFO - Evaluation Metrics: {'mse': 0.3366562451867744, 'mae': 0.4582088099712861}\n",
      "2024-10-16 00:57:12,270 - INFO - Metrics saved to results\\FOOD_CHEMWheat_Proteine_100_Wang\\PLSRegression\\experiment_4069ade2\\metrics.json\n",
      "2024-10-16 00:57:12,271 - INFO - Evaluation Metrics: {'mse': 0.29992427105254343, 'mae': 0.44998654267176014}\n",
      "2024-10-16 00:57:12,274 - INFO - Metrics saved to results\\FOOD_CHEMWheat_Proteine_100_Wang\\PLSRegression\\experiment_4069ade2\\metrics.json\n",
      "2024-10-16 00:57:12,274 - INFO - Evaluation Metrics: {'mse': 0.3095706125334708, 'mae': 0.44181682138740197}\n",
      "2024-10-16 00:57:12,279 - INFO - Predictions saved to results\\FOOD_CHEMWheat_Proteine_100_Wang\\PLSRegression\\experiment_4069ade2\\predictions.csv\n",
      "2024-10-16 00:57:12,283 - INFO - Updated experiments at results\\FOOD_CHEMWheat_Proteine_100_Wang\\PLSRegression\\experiments.json\n",
      "2024-10-16 00:57:12,287 - INFO - Updated experiments at results\\FOOD_CHEMWheat_Proteine_100_Wang\\experiments.json\n",
      "2024-10-16 00:57:12,288 - INFO - Updated experiments at results\\FOOD_CHEMWheat_Proteine_100_Wang\\PLSRegression\\experiments.json and results\\FOOD_CHEMWheat_Proteine_100_Wang\\experiments.json\n",
      "2024-10-16 00:57:12,288 - INFO - All experiments completed.\n"
     ]
    },
    {
     "name": "stdout",
     "output_type": "stream",
     "text": [
      "Time elapsed: 0.8678500652313232 seconds\n"
     ]
    }
   ],
   "source": [
    "%reload_ext autoreload\n",
    "%autoreload 2\n",
    "\n",
    "import time\n",
    "\n",
    "import sys\n",
    "import os\n",
    "sys.path.append(os.path.abspath(os.path.join(os.path.dirname('__file__'), '..')))\n",
    "\n",
    "\n",
    "from sklearn.preprocessing import StandardScaler, MinMaxScaler, RobustScaler\n",
    "from sklearn.cross_decomposition import PLSRegression\n",
    "from sklearn.model_selection import RepeatedKFold\n",
    "\n",
    "from experiments.runner import ExperimentRunner\n",
    "from experiments.config import Config\n",
    "from operators.preprocessings import list_of_2D_sets\n",
    "\n",
    "\n",
    "def get_dataset_list(path):\n",
    "    datasets = []\n",
    "    for r, d, _ in os.walk(path):\n",
    "        for folder in d:\n",
    "            path = os.path.join(r, folder)\n",
    "            if os.path.isdir(path):\n",
    "                datasets.append(str(path))\n",
    "    return datasets\n",
    "\n",
    "\n",
    "seed = 123459456\n",
    "y_pipeline = MinMaxScaler()\n",
    "list_of_x_transformations = list_of_2D_sets()\n",
    "path = \"FOOD_CHEM\"\n",
    "datasets = get_dataset_list(path)\n",
    "\n",
    "\n",
    "pls_finetune_experiment = {\n",
    "    \"action\": \"finetune\",\n",
    "    \"finetune_params\": {\n",
    "        'cv': 5,\n",
    "        'n_trials': 35,\n",
    "        'model_params': {\n",
    "            'n_components': ('int', 5, 40),\n",
    "        },\n",
    "        'tuner': 'sklearn'\n",
    "    }\n",
    "}\n",
    "\n",
    "\n",
    "configs = []\n",
    "for dataset in datasets:\n",
    "    # print(dataset)\n",
    "    for x_tr in list_of_x_transformations:\n",
    "        x_pipeline = [\n",
    "            MinMaxScaler(),\n",
    "            {\"split\": RepeatedKFold(n_splits=3, n_repeats=1)},\n",
    "            x_tr,\n",
    "            MinMaxScaler()\n",
    "        ]\n",
    "        \n",
    "        configs.append(\n",
    "            Config(\n",
    "                dataset=dataset,\n",
    "                model=PLSRegression,\n",
    "                y_pipeline=y_pipeline,\n",
    "                x_pipeline=x_pipeline,\n",
    "                experiment=pls_finetune_experiment,\n",
    "                seed=seed\n",
    "            )\n",
    "        )\n",
    "        \n",
    "print(f\"Number of experiments: {len(configs)}\")\n",
    "start = time.time()\n",
    "runner = ExperimentRunner(configs, resume_mode=\"restart\")\n",
    "dataset, model_manager = runner.run()\n",
    "end = time.time()\n",
    "print(f\"Time elapsed: {end-start} seconds\")"
   ]
  },
  {
   "cell_type": "code",
   "execution_count": null,
   "metadata": {},
   "outputs": [],
   "source": []
  },
  {
   "cell_type": "code",
   "execution_count": null,
   "metadata": {},
   "outputs": [],
   "source": []
  }
 ],
 "metadata": {
  "kernelspec": {
   "display_name": "venv",
   "language": "python",
   "name": "python3"
  },
  "language_info": {
   "codemirror_mode": {
    "name": "ipython",
    "version": 3
   },
   "file_extension": ".py",
   "mimetype": "text/x-python",
   "name": "python",
   "nbconvert_exporter": "python",
   "pygments_lexer": "ipython3",
   "version": "3.10.11"
  }
 },
 "nbformat": 4,
 "nbformat_minor": 2
}
