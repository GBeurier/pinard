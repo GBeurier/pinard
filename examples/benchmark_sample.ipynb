{
 "cells": [
  {
   "cell_type": "code",
   "execution_count": null,
   "id": "4280f4b2",
   "metadata": {},
   "outputs": [
    {
     "name": "stderr",
     "output_type": "stream",
     "text": [
      "2025-03-31 17:04:42,695 - INFO - ================================================================================\n",
      "2025-03-31 17:04:42,696 - INFO - ### PREPARING DATA ###\n",
      "2025-03-31 17:04:42,696 - INFO - ### LOADING DATASET ###\n"
     ]
    },
    {
     "name": "stdout",
     "output_type": "stream",
     "text": [
      "####################\n",
      "Config 0: config1\n",
      "####################\n",
      ">> Browsing sample_data/mock_data3_classif\n",
      "No train_group file found for sample_data/mock_data3_classif.\n",
      "No test_group file found for sample_data/mock_data3_classif.\n",
      "{'file_path': 'sample_data/mock_data3_classif/Xcal.csv', 'detection_params': {'delimiter': ';', 'decimal_separator': '.', 'has_header': False, 'quote_char': '\"', 'confidence': 1.0}, 'initial_shape': (3093, 1050), 'final_shape': (3093, 1050), 'na_handling': {'strategy': 'abort', 'na_detected': False, 'nb_removed_rows': 0, 'removed_rows_indices': []}, 'error': None, 'delimiter': ';', 'numeric_delimiter': '.', 'header_line': None}\n"
     ]
    },
    {
     "name": "stderr",
     "output_type": "stream",
     "text": [
      "2025-03-31 17:04:44,341 - INFO - Dataset(x_train:(3093, 1050) - y_train:(3093, 1), x_test:(732, 1050) - y_test:(732, 1))\n",
      "2025-03-31 17:04:44,341 - INFO - ### PROCESSING DATASET ###\n"
     ]
    },
    {
     "name": "stdout",
     "output_type": "stream",
     "text": [
      "{'file_path': 'sample_data/mock_data3_classif/Xval.csv', 'detection_params': {'delimiter': ';', 'decimal_separator': '.', 'has_header': True, 'quote_char': '\"', 'confidence': 1.0}, 'initial_shape': (732, 1050), 'final_shape': (732, 1050), 'na_handling': {'strategy': 'abort', 'na_detected': False, 'nb_removed_rows': 0, 'removed_rows_indices': []}, 'error': None, 'delimiter': ';', 'numeric_delimiter': '.', 'header_line': 0}\n"
     ]
    },
    {
     "name": "stderr",
     "output_type": "stream",
     "text": [
      "2025-03-31 17:04:44,516 - INFO - Dataset(x_train:(3093, 1050) - y_train:(3093, 1), x_test:(732, 1050) - y_test:(732, 1))\n",
      "Folds size: 2062-1031, 2062-1031, 2062-1031\n",
      "2025-03-31 17:04:44,517 - INFO - ### PREPARING MODEL ###\n",
      "2025-03-31 17:04:44,600 - INFO - Running config > {'dataset': 'sample_data/mock_data3_classif', 'x_pipeline': [{'class': 'sklearn.preprocessing.RobustScaler', 'params': {'copy': True, 'quantile_range': [25.0, 75.0], 'unit_variance': False, 'with_centering': True, 'with_scaling': True}}, {'split': {'class': 'sklearn.model_selection.RepeatedKFold', 'params': {'cv': {'class': 'sklearn.model_selection.KFold', 'params': None}, 'n_repeats': 1, 'random_state': None, 'cvargs': {'n_splits': 3}}}}, {'class': 'sklearn.preprocessing.MinMaxScaler', 'params': {'clip': False, 'copy': True, 'feature_range': [0, 1]}}], 'y_pipeline': None, 'model': {'function': 'pinard.presets.ref_models.nicon_classification'}, 'experiment': {'action': 'finetune', 'task': 'classification', 'finetune_params': {'n_trials': 5, 'model_params': {'filters_1': [8, 16, 32, 64], 'filters_2': [8, 16, 32, 64], 'filters_3': [8, 16, 32, 64]}}, 'training_params': {'epochs': 5, 'verbose': 0, 'loss': 'sparse_categorical_crossentropy'}, 'metrics': ['accuracy'], 'num_classes': 21}, 'seed': 246918912}\n",
      "2025-03-31 17:04:44,601 - INFO - Starting new experiment experiment_22fb0268.\n",
      "2025-03-31 17:04:44,602 - INFO - Experiment prepared at results\\sample_datamock_data3_classif\\nicon_classification\\experiment_22fb0268\n",
      "2025-03-31 17:04:44,603 - INFO - Finetuning the model\n",
      "[I 2025-03-31 17:04:44,677] A new study created in memory with name: no-name-109e58d4-a6a2-46af-a761-6e53df25ab89\n"
     ]
    },
    {
     "name": "stdout",
     "output_type": "stream",
     "text": [
      "Model cloned\n",
      "Model cloned\n",
      "Using framework: tensorflow\n",
      "Model cloned\n",
      "Model cloned\n",
      "Using framework: tensorflow\n",
      "Training fold with shapes: (3093, 1050, 1) (3093, 1) (732, 1050, 1) (732, 1)\n",
      "Training fold with shapes: (3093, 1050, 1) (3093, 1) (732, 1050, 1) (732, 1)\n",
      "sparse_categorical_crossentropy ['accuracy']\n",
      "sparse_categorical_crossentropy ['accuracy']\n",
      "Training fold with shapes: (3093, 1050, 1) (3093, 1) (732, 1050, 1) (732, 1)\n",
      "Training with shapes: (3093, 1050, 1) (3093,) (732, 1050, 1) (732,)\n",
      "sparse_categorical_crossentropyTraining with shapes: (3093, 1050, 1) (3093,) (732, 1050, 1) (732,)\n",
      " ['accuracy']\n",
      "Training with shapes: (3093, 1050, 1) (3093,) (732, 1050, 1) (732,)\n",
      "Training fold with shapes: (3093, 1050, 1) (3093, 1) (732, 1050, 1) (732, 1)\n",
      "sparse_categorical_crossentropy ['accuracy']\n",
      "Training with shapes: (3093, 1050, 1) (3093,) (732, 1050, 1) (732,)\n",
      "Training fold with shapes: (3093, 1050, 1) (3093, 1) (732, 1050, 1) (732, 1)\n",
      "sparse_categorical_crossentropy ['accuracy']\n",
      "Training with shapes: (3093, 1050, 1) (3093,) (732, 1050, 1) (732,)\n",
      "\u001b[1m23/23\u001b[0m \u001b[32m━━━━━━━━━━━━━━━━━━━━\u001b[0m\u001b[37m\u001b[0m \u001b[1m0s\u001b[0m 6ms/step\n",
      "\u001b[1m23/23\u001b[0m \u001b[32m━━━━━━━━━━━━━━━━━━━━\u001b[0m\u001b[37m\u001b[0m \u001b[1m0s\u001b[0m 6ms/step\n",
      "\u001b[1m23/23\u001b[0m \u001b[32m━━━━━━━━━━━━━━━━━━━━\u001b[0m\u001b[37m\u001b[0m \u001b[1m0s\u001b[0m 4ms/step \n"
     ]
    },
    {
     "name": "stderr",
     "output_type": "stream",
     "text": [
      "[I 2025-03-31 17:04:54,331] Trial 3 finished with value: 0.08743169398907104 and parameters: {'filters_1': 32, 'filters_2': 32, 'filters_3': 8}. Best is trial 3 with value: 0.08743169398907104.\n",
      "[I 2025-03-31 17:04:54,339] Trial 0 finished with value: 0.07650273224043716 and parameters: {'filters_1': 32, 'filters_2': 64, 'filters_3': 64}. Best is trial 0 with value: 0.07650273224043716.\n",
      "[I 2025-03-31 17:04:54,347] Trial 1 finished with value: 0.0860655737704918 and parameters: {'filters_1': 64, 'filters_2': 16, 'filters_3': 8}. Best is trial 0 with value: 0.07650273224043716.\n"
     ]
    },
    {
     "name": "stdout",
     "output_type": "stream",
     "text": [
      "\u001b[1m23/23\u001b[0m \u001b[32m━━━━━━━━━━━━━━━━━━━━\u001b[0m\u001b[37m\u001b[0m \u001b[1m0s\u001b[0m 2ms/step \n",
      "\u001b[1m23/23\u001b[0m \u001b[32m━━━━━━━━━━━━━━━━━━━━\u001b[0m\u001b[37m\u001b[0m \u001b[1m0s\u001b[0m 2ms/step \n"
     ]
    },
    {
     "name": "stderr",
     "output_type": "stream",
     "text": [
      "[I 2025-03-31 17:04:54,441] Trial 2 finished with value: 0.09016393442622951 and parameters: {'filters_1': 32, 'filters_2': 32, 'filters_3': 32}. Best is trial 0 with value: 0.07650273224043716.\n",
      "[I 2025-03-31 17:04:54,442] Trial 4 finished with value: 0.09016393442622951 and parameters: {'filters_1': 32, 'filters_2': 8, 'filters_3': 16}. Best is trial 0 with value: 0.07650273224043716.\n"
     ]
    },
    {
     "name": "stdout",
     "output_type": "stream",
     "text": [
      "Best model params: {'filters_1': 32, 'filters_2': 64, 'filters_3': 64}\n",
      "Model cloned\n",
      "Model cloned\n",
      "Training fold with shapes: (2062, 1050, 1) (2062, 1) (1031, 1050, 1) (1031, 1)\n",
      "sparse_categorical_crossentropy None\n",
      "Training with shapes: (2062, 1050, 1) (2062,) (1031, 1050, 1) (1031,)\n",
      "Training fold with shapes: (2062, 1050, 1) (2062, 1) (1031, 1050, 1) (1031, 1)\n",
      "sparse_categorical_crossentropy None\n",
      "Training with shapes: (2062, 1050, 1) (2062,) (1031, 1050, 1) (1031,)\n",
      "Training fold with shapes: (2062, 1050, 1) (2062, 1) (1031, 1050, 1) (1031, 1)\n",
      "sparse_categorical_crossentropy None\n",
      "Training with shapes: (2062, 1050, 1) (2062,) (1031, 1050, 1) (1031,)\n",
      "\u001b[1m23/23\u001b[0m \u001b[32m━━━━━━━━━━━━━━━━━━━━\u001b[0m\u001b[37m\u001b[0m \u001b[1m0s\u001b[0m 4ms/step\n",
      "\u001b[1m23/23\u001b[0m \u001b[32m━━━━━━━━━━━━━━━━━━━━\u001b[0m\u001b[37m\u001b[0m \u001b[1m0s\u001b[0m 4ms/step\n",
      "\u001b[1m23/23\u001b[0m \u001b[32m━━━━━━━━━━━━━━━━━━━━\u001b[0m\u001b[37m\u001b[0m \u001b[1m0s\u001b[0m 4ms/step\n"
     ]
    },
    {
     "name": "stderr",
     "output_type": "stream",
     "text": [
      "2025-03-31 17:05:02,605 - INFO - Evaluation Metrics fold_0: {'accuracy': 0.09562841530054644}\n"
     ]
    },
    {
     "name": "stdout",
     "output_type": "stream",
     "text": [
      "Weights: [0.34146341 0.24878049 0.4097561 ]\n"
     ]
    },
    {
     "name": "stderr",
     "output_type": "stream",
     "text": [
      "2025-03-31 17:05:02,606 - INFO - Evaluation Metrics fold_1: {'accuracy': 0.06967213114754098}\n",
      "2025-03-31 17:05:02,607 - INFO - Evaluation Metrics fold_2: {'accuracy': 0.11475409836065574}\n",
      "2025-03-31 17:05:02,608 - INFO - Evaluation Metrics mean: {'accuracy': 0.06420765027322405}\n",
      "2025-03-31 17:05:02,608 - INFO - Evaluation Metrics best: {'accuracy': 0.11475409836065574}\n",
      "2025-03-31 17:05:02,609 - INFO - Evaluation Metrics weighted: {'accuracy': 0.06420765027322405}\n",
      "2025-03-31 17:05:02,610 - INFO - Metrics saved to results\\sample_datamock_data3_classif\\nicon_classification\\experiment_22fb0268\\metrics.json\n",
      "2025-03-31 17:05:02,612 - INFO - Best parameters {'filters_1': 32, 'filters_2': 64, 'filters_3': 64} saved to results\\sample_datamock_data3_classif\\nicon_classification\\experiment_22fb0268\\best_params.json\n",
      "2025-03-31 17:05:02,615 - INFO - Predictions saved to results\\sample_datamock_data3_classif\\nicon_classification\\experiment_22fb0268\\predictions.csv\n",
      "2025-03-31 17:05:02,617 - INFO - Updated experiments at results\\sample_datamock_data3_classif\\nicon_classification\\experiments.json\n",
      "2025-03-31 17:05:02,621 - INFO - Updated experiments at results\\sample_datamock_data3_classif\\experiments.json\n",
      "2025-03-31 17:05:02,621 - INFO - Updated experiments at results\\sample_datamock_data3_classif\\nicon_classification\\experiments.json and results\\sample_datamock_data3_classif\\experiments.json\n",
      "2025-03-31 17:05:02,622 - INFO - All experiments completed.\n",
      "2025-03-31 17:05:02,624 - INFO - ================================================================================\n",
      "2025-03-31 17:05:02,625 - INFO - ### PREPARING DATA ###\n",
      "2025-03-31 17:05:02,625 - INFO - ### LOADING DATASET ###\n"
     ]
    },
    {
     "name": "stdout",
     "output_type": "stream",
     "text": [
      "Time elapsed: 19.927136421203613 seconds\n",
      "####################\n",
      "Config 1: config2\n",
      "####################\n",
      ">> Browsing sample_data/Malaria2024\n",
      "No train_group file found for sample_data/Malaria2024.\n",
      "No test_group file found for sample_data/Malaria2024.\n",
      "{'file_path': 'sample_data/Malaria2024/Xcal.csv', 'detection_params': {'delimiter': ';', 'decimal_separator': '.', 'has_header': True, 'quote_char': '\"', 'confidence': 1.0}, 'initial_shape': (2996, 1665), 'final_shape': (2996, 1665), 'na_handling': {'strategy': 'abort', 'na_detected': False, 'nb_removed_rows': 0, 'removed_rows_indices': []}, 'error': None, 'delimiter': ';', 'numeric_delimiter': '.', 'header_line': 0}\n"
     ]
    },
    {
     "name": "stderr",
     "output_type": "stream",
     "text": [
      "2025-03-31 17:05:05,249 - INFO - Dataset(x_train:(2996, 1665) - y_train:(2996, 1), x_test:(1285, 1665) - y_test:(1285, 1))\n",
      "2025-03-31 17:05:05,250 - INFO - ### PROCESSING DATASET ###\n"
     ]
    },
    {
     "name": "stdout",
     "output_type": "stream",
     "text": [
      "{'file_path': 'sample_data/Malaria2024/Xval.csv', 'detection_params': {'delimiter': ';', 'decimal_separator': '.', 'has_header': True, 'quote_char': '\"', 'confidence': 1.0}, 'initial_shape': (1285, 1665), 'final_shape': (1285, 1665), 'na_handling': {'strategy': 'abort', 'na_detected': False, 'nb_removed_rows': 0, 'removed_rows_indices': []}, 'error': None, 'delimiter': ';', 'numeric_delimiter': '.', 'header_line': 0}\n"
     ]
    },
    {
     "name": "stderr",
     "output_type": "stream",
     "text": [
      "2025-03-31 17:05:10,365 - INFO - Dataset(x_train:(5740, 1665) - y_train:(5740, 1), x_test:(1285, 1665) - y_test:(1285, 1))\n",
      "Folds size: 3826-1914, 3827-1913, 3827-1913\n",
      "2025-03-31 17:05:10,366 - INFO - ### PREPARING MODEL ###\n",
      "2025-03-31 17:05:10,367 - INFO - Running config > {'dataset': 'sample_data/Malaria2024', 'x_pipeline': [{'class': 'sklearn.preprocessing.RobustScaler', 'params': {'copy': True, 'quantile_range': [25.0, 75.0], 'unit_variance': False, 'with_centering': True, 'with_scaling': True}}, {'samples': [{'class': 'pinard.transformations.Rotate_Translate', 'params': {'apply_on': 6, 'copy': True, 'p_range': 2, 'random_state': None, 'y_factor': 3}}], 'balance': True}, {'split': {'class': 'sklearn.model_selection.RepeatedKFold', 'params': {'cv': {'class': 'sklearn.model_selection.KFold', 'params': None}, 'n_repeats': 1, 'random_state': None, 'cvargs': {'n_splits': 3}}}}, {'class': 'sklearn.preprocessing.MinMaxScaler', 'params': {'clip': False, 'copy': True, 'feature_range': [0, 1]}}], 'y_pipeline': None, 'model': {'class': 'sklearn.ensemble.RandomForestClassifier', 'params': None}, 'experiment': {'action': 'finetune', 'task': 'classification', 'finetune_params': {'model_params': {'n_estimators': ['int', 5, 20]}, 'training_params': {}, 'tuner': 'sklearn'}, 'metrics': ['accuracy'], 'num_classes': 2}, 'seed': 246918912}\n",
      "2025-03-31 17:05:10,369 - INFO - Starting new experiment experiment_26b0e21c.\n",
      "2025-03-31 17:05:10,371 - INFO - Experiment prepared at results\\sample_dataMalaria2024\\RandomForestClassifier\\experiment_26b0e21c\n",
      "2025-03-31 17:05:10,372 - INFO - Finetuning the model\n"
     ]
    },
    {
     "name": "stdout",
     "output_type": "stream",
     "text": [
      "(1, 2996, 1, 1665) (2996, 1)\n",
      "{np.float32(0.0): 2870, np.float32(1.0): 126}\n",
      "{np.float32(0.0): 0, np.float32(1.0): 2744}\n",
      "(1, 5740, 1, 1665) (5740, 1)\n",
      "{np.float32(0.0): 2870, np.float32(1.0): 2870}\n",
      "Using framework: sklearn\n",
      "Best model params: {'n_estimators': 16, 'num_classes': 2}\n",
      "Training fold 1, with shapes: (3826, 1665) (3826, 1) (1914, 1665) (1914, 1)\n",
      "Training fold 2, with shapes: (3827, 1665) (3827, 1) (1913, 1665) (1913, 1)\n",
      "Training fold 3, with shapes: (3827, 1665) (3827, 1) (1913, 1665) (1913, 1)\n"
     ]
    },
    {
     "name": "stderr",
     "output_type": "stream",
     "text": [
      "2025-03-31 17:05:14,003 - INFO - Evaluation Metrics fold_0: {'accuracy': 0.9494163424124513}\n",
      "2025-03-31 17:05:14,004 - INFO - Evaluation Metrics fold_1: {'accuracy': 0.9517509727626459}\n",
      "2025-03-31 17:05:14,005 - INFO - Evaluation Metrics fold_2: {'accuracy': 0.9501945525291828}\n",
      "2025-03-31 17:05:14,006 - INFO - Evaluation Metrics mean: {'accuracy': 0.9509727626459143}\n",
      "2025-03-31 17:05:14,006 - INFO - Evaluation Metrics best: {'accuracy': 0.9517509727626459}\n",
      "2025-03-31 17:05:14,007 - INFO - Evaluation Metrics weighted: {'accuracy': 0.9509727626459143}\n",
      "2025-03-31 17:05:14,010 - INFO - Metrics saved to results\\sample_dataMalaria2024\\RandomForestClassifier\\experiment_26b0e21c\\metrics.json\n",
      "2025-03-31 17:05:14,011 - INFO - Best parameters {'n_estimators': 16, 'num_classes': 2} saved to results\\sample_dataMalaria2024\\RandomForestClassifier\\experiment_26b0e21c\\best_params.json\n",
      "2025-03-31 17:05:14,015 - INFO - Predictions saved to results\\sample_dataMalaria2024\\RandomForestClassifier\\experiment_26b0e21c\\predictions.csv\n",
      "2025-03-31 17:05:14,018 - INFO - Updated experiments at results\\sample_dataMalaria2024\\RandomForestClassifier\\experiments.json\n",
      "2025-03-31 17:05:14,022 - INFO - Updated experiments at results\\sample_dataMalaria2024\\experiments.json\n",
      "2025-03-31 17:05:14,022 - INFO - Updated experiments at results\\sample_dataMalaria2024\\RandomForestClassifier\\experiments.json and results\\sample_dataMalaria2024\\experiments.json\n",
      "2025-03-31 17:05:14,023 - INFO - All experiments completed.\n",
      "2025-03-31 17:05:14,027 - INFO - ================================================================================\n",
      "2025-03-31 17:05:14,028 - INFO - ### PREPARING DATA ###\n",
      "2025-03-31 17:05:14,028 - INFO - ### LOADING DATASET ###\n"
     ]
    },
    {
     "name": "stdout",
     "output_type": "stream",
     "text": [
      "Weights: [0.33296943 0.33378821 0.33324236]\n",
      "Time elapsed: 11.40144157409668 seconds\n",
      "####################\n",
      "Config 2: config3\n",
      "####################\n",
      ">> Browsing sample_data/mock_data3_classif\n",
      "No train_group file found for sample_data/mock_data3_classif.\n",
      "No test_group file found for sample_data/mock_data3_classif.\n",
      "{'file_path': 'sample_data/mock_data3_classif/Xcal.csv', 'detection_params': {'delimiter': ';', 'decimal_separator': '.', 'has_header': False, 'quote_char': '\"', 'confidence': 1.0}, 'initial_shape': (3093, 1050), 'final_shape': (3093, 1050), 'na_handling': {'strategy': 'abort', 'na_detected': False, 'nb_removed_rows': 0, 'removed_rows_indices': []}, 'error': None, 'delimiter': ';', 'numeric_delimiter': '.', 'header_line': None}\n"
     ]
    },
    {
     "name": "stderr",
     "output_type": "stream",
     "text": [
      "2025-03-31 17:05:15,853 - INFO - Dataset(x_train:(3093, 1050) - y_train:(3093, 1), x_test:(732, 1050) - y_test:(732, 1))\n",
      "2025-03-31 17:05:15,854 - INFO - ### PROCESSING DATASET ###\n",
      "2025-03-31 17:05:16,025 - INFO - Dataset(x_train:(3093, 1050) - y_train:(3093, 1), x_test:(732, 1050) - y_test:(732, 1))\n",
      "Folds size: 2062-1031, 2062-1031, 2062-1031\n",
      "2025-03-31 17:05:16,025 - INFO - ### PREPARING MODEL ###\n",
      "2025-03-31 17:05:16,026 - INFO - Running config > {'dataset': 'sample_data/mock_data3_classif', 'x_pipeline': [{'class': 'sklearn.preprocessing.RobustScaler', 'params': {'copy': True, 'quantile_range': [25.0, 75.0], 'unit_variance': False, 'with_centering': True, 'with_scaling': True}}, {'split': {'class': 'sklearn.model_selection.RepeatedKFold', 'params': {'cv': {'class': 'sklearn.model_selection.KFold', 'params': None}, 'n_repeats': 1, 'random_state': None, 'cvargs': {'n_splits': 3}}}}, {'class': 'sklearn.preprocessing.MinMaxScaler', 'params': {'clip': False, 'copy': True, 'feature_range': [0, 1]}}], 'y_pipeline': None, 'model': {'class': 'sklearn.ensemble.RandomForestClassifier', 'params': None}, 'experiment': {'action': 'finetune', 'task': 'classification', 'finetune_params': {'model_params': {'n_estimators': ['int', 5, 20]}, 'training_params': {'loss': 'binary_crossentropy'}, 'tuner': 'sklearn'}, 'metrics': ['accuracy'], 'num_classes': 21}, 'seed': 246918912}\n"
     ]
    },
    {
     "name": "stdout",
     "output_type": "stream",
     "text": [
      "{'file_path': 'sample_data/mock_data3_classif/Xval.csv', 'detection_params': {'delimiter': ';', 'decimal_separator': '.', 'has_header': True, 'quote_char': '\"', 'confidence': 1.0}, 'initial_shape': (732, 1050), 'final_shape': (732, 1050), 'na_handling': {'strategy': 'abort', 'na_detected': False, 'nb_removed_rows': 0, 'removed_rows_indices': []}, 'error': None, 'delimiter': ';', 'numeric_delimiter': '.', 'header_line': 0}\n",
      "Using framework: sklearn\n"
     ]
    },
    {
     "name": "stderr",
     "output_type": "stream",
     "text": [
      "2025-03-31 17:05:16,027 - INFO - Starting new experiment experiment_b0cb8f53.\n",
      "2025-03-31 17:05:16,030 - INFO - Experiment prepared at results\\sample_datamock_data3_classif\\RandomForestClassifier\\experiment_b0cb8f53\n",
      "2025-03-31 17:05:16,031 - INFO - Finetuning the model\n"
     ]
    },
    {
     "name": "stdout",
     "output_type": "stream",
     "text": [
      "Best model params: {'n_estimators': 13, 'num_classes': 21}\n",
      "Training fold 1, with shapes: (2062, 1050) (2062, 1) (1031, 1050) (1031, 1)\n",
      "Training fold 2, with shapes: (2062, 1050) (2062, 1) (1031, 1050) (1031, 1)\n",
      "Training fold 3, with shapes: (2062, 1050) (2062, 1) (1031, 1050) (1031, 1)\n"
     ]
    },
    {
     "name": "stderr",
     "output_type": "stream",
     "text": [
      "2025-03-31 17:05:22,917 - INFO - Evaluation Metrics fold_0: {'accuracy': 0.06830601092896176}\n",
      "2025-03-31 17:05:22,918 - INFO - Evaluation Metrics fold_1: {'accuracy': 0.07103825136612021}\n",
      "2025-03-31 17:05:22,919 - INFO - Evaluation Metrics fold_2: {'accuracy': 0.07103825136612021}\n",
      "2025-03-31 17:05:22,919 - INFO - Evaluation Metrics mean: {'accuracy': 0.07103825136612021}\n",
      "2025-03-31 17:05:22,920 - INFO - Evaluation Metrics best: {'accuracy': 0.07103825136612021}\n",
      "2025-03-31 17:05:22,921 - INFO - Evaluation Metrics weighted: {'accuracy': 0.07103825136612021}\n",
      "2025-03-31 17:05:22,923 - INFO - Metrics saved to results\\sample_datamock_data3_classif\\RandomForestClassifier\\experiment_b0cb8f53\\metrics.json\n",
      "2025-03-31 17:05:22,925 - INFO - Best parameters {'n_estimators': 13, 'num_classes': 21} saved to results\\sample_datamock_data3_classif\\RandomForestClassifier\\experiment_b0cb8f53\\best_params.json\n",
      "2025-03-31 17:05:22,928 - INFO - Predictions saved to results\\sample_datamock_data3_classif\\RandomForestClassifier\\experiment_b0cb8f53\\predictions.csv\n",
      "2025-03-31 17:05:22,932 - INFO - Updated experiments at results\\sample_datamock_data3_classif\\RandomForestClassifier\\experiments.json\n",
      "2025-03-31 17:05:22,935 - INFO - Updated experiments at results\\sample_datamock_data3_classif\\experiments.json\n",
      "2025-03-31 17:05:22,936 - INFO - Updated experiments at results\\sample_datamock_data3_classif\\RandomForestClassifier\\experiments.json and results\\sample_datamock_data3_classif\\experiments.json\n",
      "2025-03-31 17:05:22,936 - INFO - All experiments completed.\n"
     ]
    },
    {
     "name": "stdout",
     "output_type": "stream",
     "text": [
      "Weights: [0.32467532 0.33766234 0.33766234]\n",
      "Time elapsed: 8.91378116607666 seconds\n"
     ]
    }
   ],
   "source": [
    "%reload_ext autoreload\n",
    "%autoreload 2\n",
    "\n",
    "import sys\n",
    "import os\n",
    "sys.path.append(os.path.abspath(os.path.join(os.path.dirname('__file__'), '..')))\n",
    "\n",
    "import time\n",
    "from pinard.presets.ref_models import decon, nicon, customizable_nicon, nicon_classification\n",
    "from pinard.presets.preprocessings import decon_set, nicon_set\n",
    "from pinard.data_splitters import KennardStoneSplitter\n",
    "from pinard.transformations import StandardNormalVariate as SNV, SavitzkyGolay as SG, Gaussian as GS, Derivate as  Dv\n",
    "from pinard.transformations import Rotate_Translate as RT, Spline_X_Simplification as SXS, Random_X_Operation as RXO\n",
    "from pinard.transformations import CropTransformer\n",
    "from pinard.core.runner import ExperimentRunner\n",
    "from pinard.core.config import Config\n",
    "\n",
    "from sklearn.ensemble import RandomForestClassifier\n",
    "from sklearn.model_selection import KFold, RepeatedKFold, StratifiedKFold, RepeatedStratifiedKFold, ShuffleSplit, GroupKFold, StratifiedShuffleSplit, BaseCrossValidator, TimeSeriesSplit\n",
    "from sklearn.preprocessing import StandardScaler, MinMaxScaler, RobustScaler\n",
    "import warnings\n",
    "from sklearn.exceptions import ConvergenceWarning\n",
    "\n",
    "warnings.filterwarnings(\"ignore\", category=ConvergenceWarning)\n",
    "warnings.filterwarnings(\"ignore\", category=UserWarning)\n",
    "warnings.filterwarnings(\"ignore\", category=FutureWarning)\n",
    "\n",
    "\n",
    "model_sklearn = {\n",
    "    \"class\": \"sklearn.cross_decomposition.PLSRegression\",\n",
    "    \"model_params\": {\n",
    "        \"n_components\": 21,\n",
    "    }\n",
    "}\n",
    "    \n",
    "finetune_pls_experiment = {\n",
    "    \"action\": \"finetune\",\n",
    "    \"finetune_params\": {\n",
    "        'model_params': {\n",
    "            'n_components': ('int', 5, 20),\n",
    "        },\n",
    "        'training_params': {},\n",
    "        'tuner': 'sklearn'\n",
    "    }\n",
    "}\n",
    "\n",
    "bacon_train = {\"action\": \"train\", \"training_params\": {\"epochs\": 2000, \"batch_size\": 500, \"patience\": 200, \"cyclic_lr\": True, \"base_lr\": 1e-6, \"max_lr\": 1e-3, \"step_size\": 400}}\n",
    "bacon_train_short = {\"action\": \"train\", \"training_params\": {\"epochs\": 10, \"batch_size\": 500, \"patience\": 20, \"cyclic_lr\": True, \"base_lr\": 1e-6, \"max_lr\": 1e-3, \"step_size\": 40}}\n",
    "bacon_finetune = {\n",
    "    \"action\": \"finetune\",\n",
    "    \"finetune_params\": {\n",
    "        \"n_trials\": 5,\n",
    "        \"model_params\": {\n",
    "            \"filters_1\": [8, 16, 32, 64], \n",
    "            \"filters_2\": [8, 16, 32, 64], \n",
    "            \"filters_3\": [8, 16, 32, 64]\n",
    "        }\n",
    "    },\n",
    "    \"training_params\": {\n",
    "        \"epochs\": 10,\n",
    "        \"verbose\":0\n",
    "    }\n",
    "}\n",
    "\n",
    "full_bacon_finetune = {\n",
    "    \"action\": \"finetune\",\n",
    "    \"training_params\": {\n",
    "        \"epochs\": 500,\n",
    "        \"patience\": 100,\n",
    "    },\n",
    "    \"finetune_params\": {\n",
    "        \"nb_trials\": 150,\n",
    "        \"model_params\": {\n",
    "            'spatial_dropout': (float, 0.01, 0.5),\n",
    "            'filters1': [4, 8, 16, 32, 64, 128, 256],\n",
    "            'kernel_size1': [3, 5, 7, 9, 11, 13, 15],\n",
    "            # 'strides1': [1, 2, 3, 4, 5],\n",
    "            # 'activation1': ['relu', 'selu', 'elu', 'swish'],\n",
    "            'dropout_rate': (float, 0.01, 0.5),\n",
    "            'filters2': [4, 8, 16, 32, 64, 128, 256],\n",
    "            # 'kernel_size2': [3, 5, 7, 9, 11, 13, 15],\n",
    "            # 'strides2': [1, 2, 3, 4, 5],\n",
    "            'activation2': ['relu', 'selu', 'elu', 'swish'],\n",
    "            'normalization_method1': ['BatchNormalization', 'LayerNormalization'],\n",
    "            'filters3': [4, 8, 16, 32, 64, 128, 256],\n",
    "            # 'kernel_size3': [3, 5, 7, 9, 11, 13, 15],\n",
    "            # 'strides3': [1, 2, 3, 4, 5],\n",
    "            'activation3': ['relu', 'selu', 'elu', 'swish'],\n",
    "            # 'normalization_method2': ['BatchNormalization', 'LayerNormalization'],\n",
    "            # 'dense_units': [4, 8, 16, 32, 64, 128, 256],\n",
    "            'dense_activation': ['relu', 'selu', 'elu', 'swish'],\n",
    "        },\n",
    "        # \"training_params\": {\n",
    "        #     \"batch_size\": [32, 64, 128, 256, 512],\n",
    "        #     \"cyclic_lr\": [True, False],\n",
    "        #     \"base_lr\": (float, 1e-6, 1e-2),\n",
    "        #     \"max_lr\": (float, 1e-3, 1e-1),\n",
    "        #     \"step_size\": (int, 500, 5000),\n",
    "        # },\n",
    "    }\n",
    "}\n",
    "\n",
    "\n",
    "x_pipeline_full = [\n",
    "    RobustScaler(),\n",
    "    {\"samples\": [None, None, None, None, SXS, RXO]},\n",
    "    {\"split\": RepeatedKFold(n_splits=3, n_repeats=1)},\n",
    "    {\"features\": [None, GS(2,1), SG, SNV, Dv, [GS, SNV], [GS, GS],[GS, SG],[SG, SNV], [GS, Dv], [SG, Dv]]},\n",
    "    MinMaxScaler()\n",
    "]\n",
    "\n",
    "\n",
    "bacon_finetune_classif = {\n",
    "    \"action\": \"finetune\",\n",
    "    \"task\": \"classification\",\n",
    "    \"finetune_params\": {\n",
    "        \"n_trials\": 5,\n",
    "        \"model_params\": {\n",
    "            \"filters_1\": [8, 16, 32, 64], \n",
    "            \"filters_2\": [8, 16, 32, 64], \n",
    "            \"filters_3\": [8, 16, 32, 64]\n",
    "        }\n",
    "    },\n",
    "    \"training_params\": {\n",
    "        \"epochs\": 5,\n",
    "        \"verbose\":0\n",
    "    }\n",
    "}\n",
    "\n",
    "finetune_randomForestclassifier = {\n",
    "    \"action\": \"finetune\",\n",
    "    \"task\": \"classification\",\n",
    "    \"finetune_params\": {\n",
    "        'model_params': {\n",
    "            'n_estimators': ('int', 5, 20),\n",
    "        },\n",
    "        'training_params': {},\n",
    "        'tuner': 'sklearn'\n",
    "    }\n",
    "}\n",
    "\n",
    "x_pipeline_PLS = [\n",
    "    RobustScaler(),\n",
    "    {\"split\": RepeatedKFold(n_splits=3, n_repeats=1)},\n",
    "    {\"features\": [None, GS(2,1), SG, SNV, Dv, [GS, SNV], [GS, GS],[GS, SG],[SG, SNV], [GS, Dv], [SG, Dv]]},\n",
    "    MinMaxScaler()\n",
    "]\n",
    "            \n",
    "            \n",
    "x_pipeline = [\n",
    "    RobustScaler(), \n",
    "    {\"split\": RepeatedKFold(n_splits=3, n_repeats=1)}, \n",
    "    # bacon_set(),\n",
    "    MinMaxScaler()\n",
    "]\n",
    "\n",
    "x_pipelineb = [\n",
    "    RobustScaler(), \n",
    "    {\"samples\": [RT(6)], \"balance\": True},\n",
    "    # {\"samples\": [None, RT]},\n",
    "    {\"split\": RepeatedKFold(n_splits=3, n_repeats=1)}, \n",
    "    # {\"features\": [None, GS(2,1), SG, SNV, Dv, [GS, SNV], [GS, GS],[GS, SG],[SG, SNV], [GS, Dv], [SG, Dv]]},\n",
    "    MinMaxScaler()\n",
    "]\n",
    "\n",
    "\n",
    "seed = 123459456\n",
    "\n",
    "datasets = \"sample_data/mock_data3_classif\"\n",
    "y_pipeline = MinMaxScaler()\n",
    "# processing only\n",
    "config1 = Config(\"sample_data/Malaria2024\", x_pipeline_full, y_pipeline, None, None, seed)\n",
    "## TRAINING\n",
    "# regression\n",
    "config2 = Config(\"sample_data/mock_data2\", x_pipeline, y_pipeline, nicon, bacon_train_short, seed)\n",
    "config3 = Config(\"sample_data/mock_data3\", x_pipeline_PLS, y_pipeline, model_sklearn, None, seed)\n",
    "# classification\n",
    "config4 = Config(\"sample_data/mock_data3_classif\", x_pipeline, None, nicon_classification, {\"task\":\"classification\", \"training_params\":{\"epochs\":10, \"patience\": 100, \"verbose\":0}}, seed*2)\n",
    "config4b = Config(\"sample_data/Malaria2024\", x_pipelineb, None, nicon_classification, {\"task\":\"classification\", \"training_params\":{\"epochs\":10, \"patience\": 100, \"verbose\":0}}, seed*2)\n",
    "config5 = Config(\"sample_data/mock_data3_binary\", x_pipeline, None, nicon_classification, {\"task\":\"classification\", \"training_params\":{\"epochs\":5}, \"verbose\":0}, seed*2)\n",
    "config6 = Config(\"sample_data/WhiskyConcentration\", x_pipeline, None, RandomForestClassifier, {\"task\":\"classification\"}, seed*2)\n",
    "config7 = Config(\"sample_data/Malaria2024\", x_pipeline, None, RandomForestClassifier, {\"task\":\"classification\"}, seed*2)\n",
    "## FINETUNING\n",
    "# regression\n",
    "config8 = Config(\"sample_data/mock_data3\", x_pipeline, y_pipeline, nicon, bacon_finetune, seed)\n",
    "config9 = Config(\"sample_data/mock_data3\", x_pipeline, y_pipeline, model_sklearn, finetune_pls_experiment, seed)\n",
    "# classification\n",
    "config10 = Config(\"sample_data/Malaria2024\", x_pipeline, None, nicon_classification, bacon_finetune_classif, seed*2)\n",
    "config10b = Config(\"sample_data/mock_data3_classif\", x_pipeline, None, nicon_classification, bacon_finetune_classif, seed*2)\n",
    "config11 = Config(\"sample_data/Malaria2024\", x_pipelineb, None, RandomForestClassifier, finetune_randomForestclassifier, seed*2)\n",
    "config11b = Config(\"sample_data/mock_data3_classif\", x_pipeline, None, RandomForestClassifier, finetune_randomForestclassifier, seed*2)\n",
    "\n",
    "\n",
    "# configs = [config1, config2, config3, config4, config4b, config5, config6, config7, config8, config9, config10, config10b, config11, config11b]\n",
    "configs = [config10b, config11, config11b]\n",
    "config_names = [\"config1\", \"config2\", \"config3\", \"config4\", \"config4b\", \"config5\", \"config6\", \"config7\", \"config8\", \"config9\", \"config10\", \"config10b\", \"config11\", \"config11b\"]\n",
    "for i, config in enumerate(configs):\n",
    "    print(\"#\" * 20)\n",
    "    print(f\"Config {i}: {config_names[i]}\")\n",
    "    print(\"#\" * 20)\n",
    "    start = time.time()\n",
    "    runner = ExperimentRunner([config], resume_mode=\"restart\")\n",
    "    dataset, model_manager = runner.run()\n",
    "    end = time.time()\n",
    "    print(f\"Time elapsed: {end-start} seconds\")\n"
   ]
  }
 ],
 "metadata": {
  "kernelspec": {
   "display_name": "nirs4all_env",
   "language": "python",
   "name": "python3"
  },
  "language_info": {
   "codemirror_mode": {
    "name": "ipython",
    "version": 3
   },
   "file_extension": ".py",
   "mimetype": "text/x-python",
   "name": "python",
   "nbconvert_exporter": "python",
   "pygments_lexer": "ipython3",
   "version": "3.10.11"
  }
 },
 "nbformat": 4,
 "nbformat_minor": 5
}
