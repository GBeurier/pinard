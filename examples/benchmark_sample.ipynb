{
 "cells": [
  {
   "cell_type": "code",
   "execution_count": null,
   "id": "4280f4b2",
   "metadata": {},
   "outputs": [
    {
     "name": "stderr",
     "output_type": "stream",
     "text": [
      "2025-03-31 16:58:08,651 - INFO - ================================================================================\n",
      "2025-03-31 16:58:08,652 - INFO - ### PREPARING DATA ###\n",
      "2025-03-31 16:58:08,652 - INFO - ### LOADING DATASET ###\n"
     ]
    },
    {
     "name": "stdout",
     "output_type": "stream",
     "text": [
      "####################\n",
      "Config 0: config1\n",
      "####################\n",
      ">> Browsing sample_data/Malaria2024\n",
      "No train_group file found for sample_data/Malaria2024.\n",
      "No test_group file found for sample_data/Malaria2024.\n",
      "{'file_path': 'sample_data/Malaria2024/Xcal.csv', 'detection_params': {'delimiter': ';', 'decimal_separator': '.', 'has_header': True, 'quote_char': '\"', 'confidence': 1.0}, 'initial_shape': (2996, 1665), 'final_shape': (2996, 1665), 'na_handling': {'strategy': 'abort', 'na_detected': False, 'nb_removed_rows': 0, 'removed_rows_indices': []}, 'error': None, 'delimiter': ';', 'numeric_delimiter': '.', 'header_line': 0}\n"
     ]
    },
    {
     "name": "stderr",
     "output_type": "stream",
     "text": [
      "2025-03-31 16:58:11,259 - INFO - Dataset(x_train:(2996, 1665) - y_train:(2996, 1), x_test:(1285, 1665) - y_test:(1285, 1))\n",
      "2025-03-31 16:58:11,259 - INFO - ### PROCESSING DATASET ###\n"
     ]
    },
    {
     "name": "stdout",
     "output_type": "stream",
     "text": [
      "{'file_path': 'sample_data/Malaria2024/Xval.csv', 'detection_params': {'delimiter': ';', 'decimal_separator': '.', 'has_header': True, 'quote_char': '\"', 'confidence': 1.0}, 'initial_shape': (1285, 1665), 'final_shape': (1285, 1665), 'na_handling': {'strategy': 'abort', 'na_detected': False, 'nb_removed_rows': 0, 'removed_rows_indices': []}, 'error': None, 'delimiter': ';', 'numeric_delimiter': '.', 'header_line': 0}\n",
      ">>>>>>>>>>>>>>>>\n",
      "[0.97954737 1.02205403 0.99196025 ... 0.99388534 0.9787257  1.00271416]\n",
      "Augmented Data Range: -3.358218897495707 6.7624894714158295\n"
     ]
    },
    {
     "name": "stderr",
     "output_type": "stream",
     "text": [
      "2025-03-31 16:58:17,871 - INFO - Dataset(x_train:(17976, 18315) - y_train:(17976, 1), x_test:(1285, 18315) - y_test:(1285, 1))\n",
      "Folds size: 1997-999, 1997-999, 1998-998\n",
      "2025-03-31 16:58:17,873 - INFO - ### PREPARING MODEL ###\n",
      "2025-03-31 16:58:17,874 - INFO - Running config > {'dataset': 'sample_data/Malaria2024', 'x_pipeline': [{'class': 'sklearn.preprocessing.RobustScaler', 'params': {'copy': True, 'quantile_range': [25.0, 75.0], 'unit_variance': False, 'with_centering': True, 'with_scaling': True}}, {'samples': [None, None, None, None, {'class': 'pinard.transformations.Spline_X_Simplification', 'params': None}, {'class': 'pinard.transformations.Random_X_Operation', 'params': None}]}, {'split': {'class': 'sklearn.model_selection.RepeatedKFold', 'params': {'cv': {'class': 'sklearn.model_selection.KFold', 'params': None}, 'n_repeats': 1, 'random_state': None, 'cvargs': {'n_splits': 3}}}}, {'features': [None, {'class': 'pinard.transformations.Gaussian', 'params': {'copy': True, 'order': 2, 'sigma': 1}}, {'class': 'pinard.transformations.SavitzkyGolay', 'params': None}, {'class': 'sklearn.preprocessing.StandardScaler', 'params': None}, {'class': 'pinard.transformations.Derivate', 'params': None}, [{'class': 'pinard.transformations.Gaussian', 'params': None}, {'class': 'sklearn.preprocessing.StandardScaler', 'params': None}], [{'class': 'pinard.transformations.Gaussian', 'params': None}, {'class': 'pinard.transformations.Gaussian', 'params': None}], [{'class': 'pinard.transformations.Gaussian', 'params': None}, {'class': 'pinard.transformations.SavitzkyGolay', 'params': None}], [{'class': 'pinard.transformations.SavitzkyGolay', 'params': None}, {'class': 'sklearn.preprocessing.StandardScaler', 'params': None}], [{'class': 'pinard.transformations.Gaussian', 'params': None}, {'class': 'pinard.transformations.Derivate', 'params': None}], [{'class': 'pinard.transformations.SavitzkyGolay', 'params': None}, {'class': 'pinard.transformations.Derivate', 'params': None}]]}, {'class': 'sklearn.preprocessing.MinMaxScaler', 'params': {'clip': False, 'copy': True, 'feature_range': [0, 1]}}], 'y_pipeline': {'class': 'sklearn.preprocessing.MinMaxScaler', 'params': {'clip': False, 'copy': True, 'feature_range': [0, 1]}}, 'model': None, 'experiment': {'metrics': ['mse', 'mae'], 'task': 'regression'}, 'seed': 123459456}\n",
      "2025-03-31 16:58:17,875 - INFO - Starting new experiment experiment_a2212c52.\n",
      "2025-03-31 16:58:17,877 - INFO - Experiment prepared at results\\sample_dataMalaria2024\\unknown_model\\experiment_a2212c52\n",
      "2025-03-31 16:58:17,878 - INFO - All experiments completed.\n",
      "2025-03-31 16:58:17,964 - INFO - ================================================================================\n",
      "2025-03-31 16:58:17,965 - INFO - ### PREPARING DATA ###\n",
      "2025-03-31 16:58:17,965 - INFO - ### LOADING DATASET ###\n"
     ]
    },
    {
     "name": "stdout",
     "output_type": "stream",
     "text": [
      "Time elapsed: 9.228995323181152 seconds\n",
      "####################\n",
      "Config 1: config2\n",
      "####################\n",
      ">> Browsing sample_data/mock_data2\n",
      "No train_group file found for sample_data/mock_data2.\n",
      "No test_group file found for sample_data/mock_data2.\n",
      "{'file_path': 'sample_data/mock_data2/Xcal.csv', 'detection_params': {'delimiter': ';', 'decimal_separator': '.', 'has_header': True, 'quote_char': '\"', 'confidence': 1.0}, 'initial_shape': (326, 2151), 'final_shape': (326, 2151), 'na_handling': {'strategy': 'abort', 'na_detected': False, 'nb_removed_rows': 0, 'removed_rows_indices': []}, 'error': None, 'delimiter': ';', 'numeric_delimiter': '.', 'header_line': 0}\n"
     ]
    },
    {
     "name": "stderr",
     "output_type": "stream",
     "text": [
      "2025-03-31 16:58:19,915 - INFO - Dataset(x_train:(326, 2151) - y_train:(326, 1), x_test:(37, 2151) - y_test:(37, 1))\n",
      "2025-03-31 16:58:19,915 - INFO - ### PROCESSING DATASET ###\n",
      "2025-03-31 16:58:20,019 - INFO - Dataset(x_train:(326, 2151) - y_train:(326, 1), x_test:(37, 2151) - y_test:(37, 1))\n",
      "Folds size: 217-109, 217-109, 218-108\n",
      "2025-03-31 16:58:20,020 - INFO - ### PREPARING MODEL ###\n",
      "2025-03-31 16:58:20,110 - INFO - Running config > {'dataset': 'sample_data/mock_data2', 'x_pipeline': [{'class': 'sklearn.preprocessing.RobustScaler', 'params': {'copy': True, 'quantile_range': [25.0, 75.0], 'unit_variance': False, 'with_centering': True, 'with_scaling': True}}, {'split': {'class': 'sklearn.model_selection.RepeatedKFold', 'params': {'cv': {'class': 'sklearn.model_selection.KFold', 'params': None}, 'n_repeats': 1, 'random_state': None, 'cvargs': {'n_splits': 3}}}}, {'class': 'sklearn.preprocessing.MinMaxScaler', 'params': {'clip': False, 'copy': True, 'feature_range': [0, 1]}}], 'y_pipeline': {'class': 'sklearn.preprocessing.MinMaxScaler', 'params': {'clip': False, 'copy': True, 'feature_range': [0, 1]}}, 'model': {'function': 'pinard.presets.ref_models.nicon'}, 'experiment': {'action': 'train', 'training_params': {'epochs': 10, 'batch_size': 500, 'patience': 20, 'cyclic_lr': True, 'base_lr': 1e-06, 'max_lr': 0.001, 'step_size': 40}, 'metrics': ['mse', 'mae'], 'task': 'regression'}, 'seed': 123459456}\n"
     ]
    },
    {
     "name": "stdout",
     "output_type": "stream",
     "text": [
      "{'file_path': 'sample_data/mock_data2/Xval.csv', 'detection_params': {'delimiter': ';', 'decimal_separator': '.', 'has_header': True, 'quote_char': '\"', 'confidence': 1.0}, 'initial_shape': (37, 2151), 'final_shape': (37, 2151), 'na_handling': {'strategy': 'abort', 'na_detected': False, 'nb_removed_rows': 0, 'removed_rows_indices': []}, 'error': None, 'delimiter': ';', 'numeric_delimiter': '.', 'header_line': 0}\n",
      "Model cloned\n",
      "Model cloned\n",
      "Using framework: tensorflow\n"
     ]
    },
    {
     "name": "stderr",
     "output_type": "stream",
     "text": [
      "2025-03-31 16:58:20,112 - INFO - Starting new experiment experiment_72de9ebe.\n",
      "2025-03-31 16:58:20,114 - INFO - Experiment prepared at results\\sample_datamock_data2\\nicon\\experiment_72de9ebe\n",
      "2025-03-31 16:58:20,115 - INFO - Training the model\n"
     ]
    },
    {
     "name": "stdout",
     "output_type": "stream",
     "text": [
      "Training fold with shapes: (217, 2151, 1) (217, 1) (109, 2151, 1) (109, 1)\n",
      "mse ['mse', 'mae']\n",
      "Training with shapes: (217, 2151, 1) (217, 1) (109, 2151, 1) (109, 1)\n",
      "Epoch 1/10\n",
      "\u001b[1m1/1\u001b[0m \u001b[32m━━━━━━━━━━━━━━━━━━━━\u001b[0m\u001b[37m\u001b[0m \u001b[1m1s\u001b[0m 1s/step - loss: 0.0938 - mae: 0.2701 - mse: 0.0938 - val_loss: 0.0891 - val_mae: 0.2623 - val_mse: 0.0891 - learning_rate: 1.0000e-06\n",
      "Epoch 2/10\n",
      "\u001b[1m1/1\u001b[0m \u001b[32m━━━━━━━━━━━━━━━━━━━━\u001b[0m\u001b[37m\u001b[0m \u001b[1m0s\u001b[0m 77ms/step - loss: 0.0950 - mae: 0.2671 - mse: 0.0950 - val_loss: 0.0892 - val_mae: 0.2624 - val_mse: 0.0892 - learning_rate: 2.5975e-05\n",
      "Epoch 3/10\n",
      "\u001b[1m1/1\u001b[0m \u001b[32m━━━━━━━━━━━━━━━━━━━━\u001b[0m\u001b[37m\u001b[0m \u001b[1m0s\u001b[0m 73ms/step - loss: 0.0857 - mae: 0.2547 - mse: 0.0857 - val_loss: 0.0892 - val_mae: 0.2624 - val_mse: 0.0892 - learning_rate: 5.0950e-05\n",
      "Epoch 4/10\n",
      "\u001b[1m1/1\u001b[0m \u001b[32m━━━━━━━━━━━━━━━━━━━━\u001b[0m\u001b[37m\u001b[0m \u001b[1m0s\u001b[0m 77ms/step - loss: 0.0887 - mae: 0.2532 - mse: 0.0887 - val_loss: 0.0893 - val_mae: 0.2625 - val_mse: 0.0893 - learning_rate: 7.5925e-05\n",
      "Epoch 5/10\n",
      "\u001b[1m1/1\u001b[0m \u001b[32m━━━━━━━━━━━━━━━━━━━━\u001b[0m\u001b[37m\u001b[0m \u001b[1m0s\u001b[0m 78ms/step - loss: 0.0875 - mae: 0.2535 - mse: 0.0875 - val_loss: 0.0894 - val_mae: 0.2626 - val_mse: 0.0894 - learning_rate: 1.0090e-04\n",
      "Epoch 6/10\n",
      "\u001b[1m1/1\u001b[0m \u001b[32m━━━━━━━━━━━━━━━━━━━━\u001b[0m\u001b[37m\u001b[0m \u001b[1m0s\u001b[0m 74ms/step - loss: 0.0882 - mae: 0.2499 - mse: 0.0882 - val_loss: 0.0893 - val_mae: 0.2625 - val_mse: 0.0893 - learning_rate: 1.2587e-04\n",
      "Epoch 7/10\n",
      "\u001b[1m1/1\u001b[0m \u001b[32m━━━━━━━━━━━━━━━━━━━━\u001b[0m\u001b[37m\u001b[0m \u001b[1m0s\u001b[0m 74ms/step - loss: 0.0844 - mae: 0.2466 - mse: 0.0844 - val_loss: 0.0892 - val_mae: 0.2622 - val_mse: 0.0892 - learning_rate: 1.5085e-04\n",
      "Epoch 8/10\n",
      "\u001b[1m1/1\u001b[0m \u001b[32m━━━━━━━━━━━━━━━━━━━━\u001b[0m\u001b[37m\u001b[0m \u001b[1m0s\u001b[0m 74ms/step - loss: 0.0761 - mae: 0.2329 - mse: 0.0761 - val_loss: 0.0889 - val_mae: 0.2617 - val_mse: 0.0889 - learning_rate: 1.7583e-04\n",
      "Epoch 9/10\n",
      "\u001b[1m1/1\u001b[0m \u001b[32m━━━━━━━━━━━━━━━━━━━━\u001b[0m\u001b[37m\u001b[0m \u001b[1m0s\u001b[0m 72ms/step - loss: 0.0707 - mae: 0.2231 - mse: 0.0707 - val_loss: 0.0885 - val_mae: 0.2609 - val_mse: 0.0885 - learning_rate: 2.0080e-04\n",
      "Epoch 10/10\n",
      "\u001b[1m1/1\u001b[0m \u001b[32m━━━━━━━━━━━━━━━━━━━━\u001b[0m\u001b[37m\u001b[0m \u001b[1m0s\u001b[0m 75ms/step - loss: 0.0726 - mae: 0.2240 - mse: 0.0726 - val_loss: 0.0880 - val_mae: 0.2600 - val_mse: 0.0880 - learning_rate: 2.2578e-04\n",
      "Training fold with shapes: (217, 2151, 1) (217, 1) (109, 2151, 1) (109, 1)\n",
      "mse ['mse', 'mae']\n",
      "Training with shapes: (217, 2151, 1) (217, 1) (109, 2151, 1) (109, 1)\n",
      "Epoch 1/10\n",
      "\u001b[1m1/1\u001b[0m \u001b[32m━━━━━━━━━━━━━━━━━━━━\u001b[0m\u001b[37m\u001b[0m \u001b[1m1s\u001b[0m 1s/step - loss: 0.0513 - mae: 0.1832 - mse: 0.0513 - val_loss: 0.0368 - val_mae: 0.1585 - val_mse: 0.0368 - learning_rate: 1.0000e-06\n",
      "Epoch 2/10\n",
      "\u001b[1m1/1\u001b[0m \u001b[32m━━━━━━━━━━━━━━━━━━━━\u001b[0m\u001b[37m\u001b[0m \u001b[1m0s\u001b[0m 74ms/step - loss: 0.0517 - mae: 0.1805 - mse: 0.0517 - val_loss: 0.0368 - val_mae: 0.1585 - val_mse: 0.0368 - learning_rate: 2.5975e-05\n",
      "Epoch 3/10\n",
      "\u001b[1m1/1\u001b[0m \u001b[32m━━━━━━━━━━━━━━━━━━━━\u001b[0m\u001b[37m\u001b[0m \u001b[1m0s\u001b[0m 71ms/step - loss: 0.0519 - mae: 0.1789 - mse: 0.0519 - val_loss: 0.0368 - val_mae: 0.1585 - val_mse: 0.0368 - learning_rate: 5.0950e-05\n",
      "Epoch 4/10\n",
      "\u001b[1m1/1\u001b[0m \u001b[32m━━━━━━━━━━━━━━━━━━━━\u001b[0m\u001b[37m\u001b[0m \u001b[1m0s\u001b[0m 72ms/step - loss: 0.0533 - mae: 0.1866 - mse: 0.0533 - val_loss: 0.0368 - val_mae: 0.1585 - val_mse: 0.0368 - learning_rate: 7.5925e-05\n",
      "Epoch 5/10\n",
      "\u001b[1m1/1\u001b[0m \u001b[32m━━━━━━━━━━━━━━━━━━━━\u001b[0m\u001b[37m\u001b[0m \u001b[1m0s\u001b[0m 74ms/step - loss: 0.0554 - mae: 0.1872 - mse: 0.0554 - val_loss: 0.0367 - val_mae: 0.1585 - val_mse: 0.0367 - learning_rate: 1.0090e-04\n",
      "Epoch 6/10\n",
      "\u001b[1m1/1\u001b[0m \u001b[32m━━━━━━━━━━━━━━━━━━━━\u001b[0m\u001b[37m\u001b[0m \u001b[1m0s\u001b[0m 72ms/step - loss: 0.0541 - mae: 0.1885 - mse: 0.0541 - val_loss: 0.0367 - val_mae: 0.1584 - val_mse: 0.0367 - learning_rate: 1.2587e-04\n",
      "Epoch 7/10\n",
      "\u001b[1m1/1\u001b[0m \u001b[32m━━━━━━━━━━━━━━━━━━━━\u001b[0m\u001b[37m\u001b[0m \u001b[1m0s\u001b[0m 76ms/step - loss: 0.0526 - mae: 0.1876 - mse: 0.0526 - val_loss: 0.0366 - val_mae: 0.1583 - val_mse: 0.0366 - learning_rate: 1.5085e-04\n",
      "Epoch 8/10\n",
      "\u001b[1m1/1\u001b[0m \u001b[32m━━━━━━━━━━━━━━━━━━━━\u001b[0m\u001b[37m\u001b[0m \u001b[1m0s\u001b[0m 74ms/step - loss: 0.0530 - mae: 0.1854 - mse: 0.0530 - val_loss: 0.0365 - val_mae: 0.1581 - val_mse: 0.0365 - learning_rate: 1.7583e-04\n",
      "Epoch 9/10\n",
      "\u001b[1m1/1\u001b[0m \u001b[32m━━━━━━━━━━━━━━━━━━━━\u001b[0m\u001b[37m\u001b[0m \u001b[1m0s\u001b[0m 74ms/step - loss: 0.0525 - mae: 0.1846 - mse: 0.0525 - val_loss: 0.0364 - val_mae: 0.1579 - val_mse: 0.0364 - learning_rate: 2.0080e-04\n",
      "Epoch 10/10\n",
      "\u001b[1m1/1\u001b[0m \u001b[32m━━━━━━━━━━━━━━━━━━━━\u001b[0m\u001b[37m\u001b[0m \u001b[1m0s\u001b[0m 75ms/step - loss: 0.0484 - mae: 0.1772 - mse: 0.0484 - val_loss: 0.0363 - val_mae: 0.1575 - val_mse: 0.0363 - learning_rate: 2.2578e-04\n",
      "Training fold with shapes: (218, 2151, 1) (218, 1) (108, 2151, 1) (108, 1)\n",
      "mse ['mse', 'mae']\n",
      "Training with shapes: (218, 2151, 1) (218, 1) (108, 2151, 1) (108, 1)\n",
      "Epoch 1/10\n",
      "\u001b[1m1/1\u001b[0m \u001b[32m━━━━━━━━━━━━━━━━━━━━\u001b[0m\u001b[37m\u001b[0m \u001b[1m1s\u001b[0m 1s/step - loss: 0.0624 - mae: 0.2042 - mse: 0.0624 - val_loss: 0.0677 - val_mae: 0.2279 - val_mse: 0.0677 - learning_rate: 1.0000e-06\n",
      "Epoch 2/10\n",
      "\u001b[1m1/1\u001b[0m \u001b[32m━━━━━━━━━━━━━━━━━━━━\u001b[0m\u001b[37m\u001b[0m \u001b[1m0s\u001b[0m 77ms/step - loss: 0.0682 - mae: 0.2109 - mse: 0.0682 - val_loss: 0.0675 - val_mae: 0.2276 - val_mse: 0.0675 - learning_rate: 2.5975e-05\n",
      "Epoch 3/10\n",
      "\u001b[1m1/1\u001b[0m \u001b[32m━━━━━━━━━━━━━━━━━━━━\u001b[0m\u001b[37m\u001b[0m \u001b[1m0s\u001b[0m 74ms/step - loss: 0.0660 - mae: 0.2141 - mse: 0.0660 - val_loss: 0.0672 - val_mae: 0.2270 - val_mse: 0.0672 - learning_rate: 5.0950e-05\n",
      "Epoch 4/10\n",
      "\u001b[1m1/1\u001b[0m \u001b[32m━━━━━━━━━━━━━━━━━━━━\u001b[0m\u001b[37m\u001b[0m \u001b[1m0s\u001b[0m 78ms/step - loss: 0.0658 - mae: 0.2149 - mse: 0.0658 - val_loss: 0.0668 - val_mae: 0.2263 - val_mse: 0.0668 - learning_rate: 7.5925e-05\n",
      "Epoch 5/10\n",
      "\u001b[1m1/1\u001b[0m \u001b[32m━━━━━━━━━━━━━━━━━━━━\u001b[0m\u001b[37m\u001b[0m \u001b[1m0s\u001b[0m 76ms/step - loss: 0.0605 - mae: 0.2024 - mse: 0.0605 - val_loss: 0.0662 - val_mae: 0.2254 - val_mse: 0.0662 - learning_rate: 1.0090e-04\n",
      "Epoch 6/10\n",
      "\u001b[1m1/1\u001b[0m \u001b[32m━━━━━━━━━━━━━━━━━━━━\u001b[0m\u001b[37m\u001b[0m \u001b[1m0s\u001b[0m 75ms/step - loss: 0.0551 - mae: 0.1931 - mse: 0.0551 - val_loss: 0.0657 - val_mae: 0.2245 - val_mse: 0.0657 - learning_rate: 1.2587e-04\n",
      "Epoch 7/10\n",
      "\u001b[1m1/1\u001b[0m \u001b[32m━━━━━━━━━━━━━━━━━━━━\u001b[0m\u001b[37m\u001b[0m \u001b[1m0s\u001b[0m 77ms/step - loss: 0.0569 - mae: 0.1921 - mse: 0.0569 - val_loss: 0.0650 - val_mae: 0.2234 - val_mse: 0.0650 - learning_rate: 1.5085e-04\n",
      "Epoch 8/10\n",
      "\u001b[1m1/1\u001b[0m \u001b[32m━━━━━━━━━━━━━━━━━━━━\u001b[0m\u001b[37m\u001b[0m \u001b[1m0s\u001b[0m 93ms/step - loss: 0.0561 - mae: 0.1927 - mse: 0.0561 - val_loss: 0.0644 - val_mae: 0.2223 - val_mse: 0.0644 - learning_rate: 1.7583e-04\n",
      "Epoch 9/10\n",
      "\u001b[1m1/1\u001b[0m \u001b[32m━━━━━━━━━━━━━━━━━━━━\u001b[0m\u001b[37m\u001b[0m \u001b[1m0s\u001b[0m 94ms/step - loss: 0.0505 - mae: 0.1818 - mse: 0.0505 - val_loss: 0.0639 - val_mae: 0.2215 - val_mse: 0.0639 - learning_rate: 2.0080e-04\n",
      "Epoch 10/10\n",
      "\u001b[1m1/1\u001b[0m \u001b[32m━━━━━━━━━━━━━━━━━━━━\u001b[0m\u001b[37m\u001b[0m \u001b[1m0s\u001b[0m 86ms/step - loss: 0.0536 - mae: 0.1878 - mse: 0.0536 - val_loss: 0.0634 - val_mae: 0.2206 - val_mse: 0.0634 - learning_rate: 2.2578e-04\n"
     ]
    },
    {
     "name": "stderr",
     "output_type": "stream",
     "text": [
      "2025-03-31 16:58:26,061 - INFO - Saved model to results\\sample_datamock_data2\\nicon\\experiment_72de9ebe\n"
     ]
    },
    {
     "name": "stdout",
     "output_type": "stream",
     "text": [
      "\u001b[1m2/2\u001b[0m \u001b[32m━━━━━━━━━━━━━━━━━━━━\u001b[0m\u001b[37m\u001b[0m \u001b[1m0s\u001b[0m 69ms/step\n",
      "\u001b[1m2/2\u001b[0m \u001b[32m━━━━━━━━━━━━━━━━━━━━\u001b[0m\u001b[37m\u001b[0m \u001b[1m0s\u001b[0m 58ms/step\n",
      "\u001b[1m2/2\u001b[0m \u001b[32m━━━━━━━━━━━━━━━━━━━━\u001b[0m\u001b[37m\u001b[0m \u001b[1m0s\u001b[0m 63ms/step\n"
     ]
    },
    {
     "name": "stderr",
     "output_type": "stream",
     "text": [
      "2025-03-31 16:58:26,518 - INFO - Evaluation Metrics fold_0: {'mse': 2.9809486865997314, 'mae': 1.515655279159546}\n",
      "2025-03-31 16:58:26,519 - INFO - Evaluation Metrics fold_1: {'mse': 1.4572193622589111, 'mae': 1.0351793766021729}\n",
      "2025-03-31 16:58:26,519 - INFO - Evaluation Metrics fold_2: {'mse': 1.9645391702651978, 'mae': 1.2256947755813599}\n",
      "2025-03-31 16:58:26,520 - INFO - Evaluation Metrics mean: {'mse': 1.9098807573318481, 'mae': 1.209094524383545}\n",
      "2025-03-31 16:58:26,520 - INFO - Evaluation Metrics best: {'mse': 1.4572193622589111, 'mae': 1.0351793766021729}\n",
      "2025-03-31 16:58:26,521 - INFO - Evaluation Metrics weighted: {'mse': 1.7484936695226687, 'mae': 1.1541197210564171}\n",
      "2025-03-31 16:58:26,523 - INFO - Metrics saved to results\\sample_datamock_data2\\nicon\\experiment_72de9ebe\\metrics.json\n",
      "2025-03-31 16:58:26,526 - INFO - Predictions saved to results\\sample_datamock_data2\\nicon\\experiment_72de9ebe\\predictions.csv\n",
      "2025-03-31 16:58:26,530 - INFO - Updated experiments at results\\sample_datamock_data2\\nicon\\experiments.json\n"
     ]
    },
    {
     "name": "stdout",
     "output_type": "stream",
     "text": [
      "MSE array: [2.98094869 1.45721936 1.96453917]\n",
      "Weights: [0.21915312 0.44830875 0.33253813]\n"
     ]
    },
    {
     "name": "stderr",
     "output_type": "stream",
     "text": [
      "2025-03-31 16:58:26,533 - INFO - Updated experiments at results\\sample_datamock_data2\\experiments.json\n",
      "2025-03-31 16:58:26,534 - INFO - Updated experiments at results\\sample_datamock_data2\\nicon\\experiments.json and results\\sample_datamock_data2\\experiments.json\n",
      "2025-03-31 16:58:26,534 - INFO - All experiments completed.\n",
      "2025-03-31 16:58:26,574 - INFO - ================================================================================\n",
      "2025-03-31 16:58:26,575 - INFO - ### PREPARING DATA ###\n",
      "2025-03-31 16:58:26,575 - INFO - ### LOADING DATASET ###\n"
     ]
    },
    {
     "name": "stdout",
     "output_type": "stream",
     "text": [
      "Time elapsed: 8.694197416305542 seconds\n",
      "####################\n",
      "Config 2: config3\n",
      "####################\n",
      ">> Browsing sample_data/mock_data3\n",
      "No train_group file found for sample_data/mock_data3.\n",
      "No test_group file found for sample_data/mock_data3.\n",
      "{'file_path': 'sample_data/mock_data3/Xcal.csv', 'detection_params': {'delimiter': ';', 'decimal_separator': '.', 'has_header': True, 'quote_char': '\"', 'confidence': 1.0}, 'initial_shape': (3093, 1050), 'final_shape': (3093, 1050), 'na_handling': {'strategy': 'abort', 'na_detected': False, 'nb_removed_rows': 0, 'removed_rows_indices': []}, 'error': None, 'delimiter': ';', 'numeric_delimiter': '.', 'header_line': 0}\n"
     ]
    },
    {
     "name": "stderr",
     "output_type": "stream",
     "text": [
      "2025-03-31 16:58:28,251 - INFO - Dataset(x_train:(3093, 1050) - y_train:(3093, 1), x_test:(732, 1050) - y_test:(732, 1))\n",
      "2025-03-31 16:58:28,252 - INFO - ### PROCESSING DATASET ###\n"
     ]
    },
    {
     "name": "stdout",
     "output_type": "stream",
     "text": [
      "{'file_path': 'sample_data/mock_data3/Xval.csv', 'detection_params': {'delimiter': ';', 'decimal_separator': '.', 'has_header': True, 'quote_char': '\"', 'confidence': 1.0}, 'initial_shape': (732, 1050), 'final_shape': (732, 1050), 'na_handling': {'strategy': 'abort', 'na_detected': False, 'nb_removed_rows': 0, 'removed_rows_indices': []}, 'error': None, 'delimiter': ';', 'numeric_delimiter': '.', 'header_line': 0}\n"
     ]
    },
    {
     "name": "stderr",
     "output_type": "stream",
     "text": [
      "2025-03-31 16:58:29,113 - INFO - Dataset(x_train:(3093, 11550) - y_train:(3093, 1), x_test:(732, 11550) - y_test:(732, 1))\n",
      "Folds size: 2062-1031, 2062-1031, 2062-1031\n",
      "2025-03-31 16:58:29,114 - INFO - ### PREPARING MODEL ###\n",
      "2025-03-31 16:58:29,115 - INFO - Running config > {'dataset': 'sample_data/mock_data3', 'x_pipeline': [{'class': 'sklearn.preprocessing.RobustScaler', 'params': {'copy': True, 'quantile_range': [25.0, 75.0], 'unit_variance': False, 'with_centering': True, 'with_scaling': True}}, {'split': {'class': 'sklearn.model_selection.RepeatedKFold', 'params': {'cv': {'class': 'sklearn.model_selection.KFold', 'params': None}, 'n_repeats': 1, 'random_state': None, 'cvargs': {'n_splits': 3}}}}, {'features': [None, {'class': 'pinard.transformations.Gaussian', 'params': {'copy': True, 'order': 2, 'sigma': 1}}, {'class': 'pinard.transformations.SavitzkyGolay', 'params': None}, {'class': 'sklearn.preprocessing.StandardScaler', 'params': None}, {'class': 'pinard.transformations.Derivate', 'params': None}, [{'class': 'pinard.transformations.Gaussian', 'params': None}, {'class': 'sklearn.preprocessing.StandardScaler', 'params': None}], [{'class': 'pinard.transformations.Gaussian', 'params': None}, {'class': 'pinard.transformations.Gaussian', 'params': None}], [{'class': 'pinard.transformations.Gaussian', 'params': None}, {'class': 'pinard.transformations.SavitzkyGolay', 'params': None}], [{'class': 'pinard.transformations.SavitzkyGolay', 'params': None}, {'class': 'sklearn.preprocessing.StandardScaler', 'params': None}], [{'class': 'pinard.transformations.Gaussian', 'params': None}, {'class': 'pinard.transformations.Derivate', 'params': None}], [{'class': 'pinard.transformations.SavitzkyGolay', 'params': None}, {'class': 'pinard.transformations.Derivate', 'params': None}]]}, {'class': 'sklearn.preprocessing.MinMaxScaler', 'params': {'clip': False, 'copy': True, 'feature_range': [0, 1]}}], 'y_pipeline': {'class': 'sklearn.preprocessing.MinMaxScaler', 'params': {'clip': False, 'copy': True, 'feature_range': [0, 1]}}, 'model': {'class': 'sklearn.cross_decomposition.PLSRegression', 'model_params': {'n_components': 21}}, 'experiment': {'metrics': ['mse', 'mae'], 'task': 'regression'}, 'seed': 123459456}\n",
      "2025-03-31 16:58:29,116 - INFO - Starting new experiment experiment_f342a303.\n",
      "2025-03-31 16:58:29,126 - INFO - Experiment prepared at results\\sample_datamock_data3\\PLSRegression\\experiment_f342a303\n",
      "2025-03-31 16:58:29,127 - INFO - Training the model\n"
     ]
    },
    {
     "name": "stdout",
     "output_type": "stream",
     "text": [
      "Using framework: sklearn\n",
      "Training fold 1, with shapes: (2062, 11550) (2062, 1) (1031, 11550) (1031, 1)\n",
      "Training fold 2, with shapes: (2062, 11550) (2062, 1) (1031, 11550) (1031, 1)\n",
      "Training fold 3, with shapes: (2062, 11550) (2062, 1) (1031, 11550) (1031, 1)\n"
     ]
    },
    {
     "name": "stderr",
     "output_type": "stream",
     "text": [
      "2025-03-31 16:58:30,033 - INFO - Saved model to results\\sample_datamock_data3\\PLSRegression\\experiment_f342a303\n",
      "2025-03-31 16:58:30,124 - INFO - Evaluation Metrics fold_0: {'mse': 6.194083188041821, 'mae': 2.0150748324831027}\n",
      "2025-03-31 16:58:30,125 - INFO - Evaluation Metrics fold_1: {'mse': 6.270570259130637, 'mae': 2.01591925583276}\n",
      "2025-03-31 16:58:30,126 - INFO - Evaluation Metrics fold_2: {'mse': 7.415923222037637, 'mae': 2.2023051688803386}\n",
      "2025-03-31 16:58:30,126 - INFO - Evaluation Metrics mean: {'mse': 6.599625163178958, 'mae': 2.076126527650384}\n",
      "2025-03-31 16:58:30,127 - INFO - Evaluation Metrics best: {'mse': 6.194083188041821, 'mae': 2.0150748324831027}\n",
      "2025-03-31 16:58:30,127 - INFO - Evaluation Metrics weighted: {'mse': 6.556549621079612, 'mae': 2.0692151961354672}\n",
      "2025-03-31 16:58:30,129 - INFO - Metrics saved to results\\sample_datamock_data3\\PLSRegression\\experiment_f342a303\\metrics.json\n",
      "2025-03-31 16:58:30,134 - INFO - Predictions saved to results\\sample_datamock_data3\\PLSRegression\\experiment_f342a303\\predictions.csv\n",
      "2025-03-31 16:58:30,138 - INFO - Updated experiments at results\\sample_datamock_data3\\PLSRegression\\experiments.json\n",
      "2025-03-31 16:58:30,141 - INFO - Updated experiments at results\\sample_datamock_data3\\experiments.json\n",
      "2025-03-31 16:58:30,141 - INFO - Updated experiments at results\\sample_datamock_data3\\PLSRegression\\experiments.json and results\\sample_datamock_data3\\experiments.json\n",
      "2025-03-31 16:58:30,142 - INFO - All experiments completed.\n",
      "2025-03-31 16:58:30,154 - INFO - ================================================================================\n",
      "2025-03-31 16:58:30,155 - INFO - ### PREPARING DATA ###\n",
      "2025-03-31 16:58:30,155 - INFO - ### LOADING DATASET ###\n"
     ]
    },
    {
     "name": "stdout",
     "output_type": "stream",
     "text": [
      "MSE array: [6.19408319 6.27057026 7.41592322]\n",
      "Weights: [0.35422766 0.34990687 0.29586547]\n",
      "Time elapsed: 3.5673530101776123 seconds\n",
      "####################\n",
      "Config 3: config4\n",
      "####################\n",
      ">> Browsing sample_data/mock_data3_classif\n",
      "No train_group file found for sample_data/mock_data3_classif.\n",
      "No test_group file found for sample_data/mock_data3_classif.\n",
      "{'file_path': 'sample_data/mock_data3_classif/Xcal.csv', 'detection_params': {'delimiter': ';', 'decimal_separator': '.', 'has_header': False, 'quote_char': '\"', 'confidence': 1.0}, 'initial_shape': (3093, 1050), 'final_shape': (3093, 1050), 'na_handling': {'strategy': 'abort', 'na_detected': False, 'nb_removed_rows': 0, 'removed_rows_indices': []}, 'error': None, 'delimiter': ';', 'numeric_delimiter': '.', 'header_line': None}\n"
     ]
    },
    {
     "name": "stderr",
     "output_type": "stream",
     "text": [
      "2025-03-31 16:58:31,942 - INFO - Dataset(x_train:(3093, 1050) - y_train:(3093, 1), x_test:(732, 1050) - y_test:(732, 1))\n",
      "2025-03-31 16:58:31,943 - INFO - ### PROCESSING DATASET ###\n"
     ]
    },
    {
     "name": "stdout",
     "output_type": "stream",
     "text": [
      "{'file_path': 'sample_data/mock_data3_classif/Xval.csv', 'detection_params': {'delimiter': ';', 'decimal_separator': '.', 'has_header': True, 'quote_char': '\"', 'confidence': 1.0}, 'initial_shape': (732, 1050), 'final_shape': (732, 1050), 'na_handling': {'strategy': 'abort', 'na_detected': False, 'nb_removed_rows': 0, 'removed_rows_indices': []}, 'error': None, 'delimiter': ';', 'numeric_delimiter': '.', 'header_line': 0}\n"
     ]
    },
    {
     "name": "stderr",
     "output_type": "stream",
     "text": [
      "2025-03-31 16:58:32,128 - INFO - Dataset(x_train:(3093, 1050) - y_train:(3093, 1), x_test:(732, 1050) - y_test:(732, 1))\n",
      "Folds size: 2062-1031, 2062-1031, 2062-1031\n",
      "2025-03-31 16:58:32,129 - INFO - ### PREPARING MODEL ###\n",
      "2025-03-31 16:58:32,218 - INFO - Running config > {'dataset': 'sample_data/mock_data3_classif', 'x_pipeline': [{'class': 'sklearn.preprocessing.RobustScaler', 'params': {'copy': True, 'quantile_range': [25.0, 75.0], 'unit_variance': False, 'with_centering': True, 'with_scaling': True}}, {'split': {'class': 'sklearn.model_selection.RepeatedKFold', 'params': {'cv': {'class': 'sklearn.model_selection.KFold', 'params': None}, 'n_repeats': 1, 'random_state': None, 'cvargs': {'n_splits': 3}}}}, {'class': 'sklearn.preprocessing.MinMaxScaler', 'params': {'clip': False, 'copy': True, 'feature_range': [0, 1]}}], 'y_pipeline': None, 'model': {'function': 'pinard.presets.ref_models.nicon_classification'}, 'experiment': {'task': 'classification', 'training_params': {'epochs': 10, 'patience': 100, 'verbose': 0, 'loss': 'sparse_categorical_crossentropy'}, 'metrics': ['accuracy'], 'num_classes': 21}, 'seed': 246918912}\n",
      "2025-03-31 16:58:32,219 - INFO - Starting new experiment experiment_755f0b39.\n",
      "2025-03-31 16:58:32,221 - INFO - Experiment prepared at results\\sample_datamock_data3_classif\\nicon_classification\\experiment_755f0b39\n",
      "2025-03-31 16:58:32,222 - INFO - Training the model\n"
     ]
    },
    {
     "name": "stdout",
     "output_type": "stream",
     "text": [
      "Model cloned\n",
      "Model cloned\n",
      "Using framework: tensorflow\n",
      "Training fold with shapes: (2062, 1050, 1) (2062, 1) (1031, 1050, 1) (1031, 1)\n",
      "sparse_categorical_crossentropy ['accuracy']\n",
      "Training with shapes: (2062, 1050, 1) (2062,) (1031, 1050, 1) (1031,)\n",
      "Training fold with shapes: (2062, 1050, 1) (2062, 1) (1031, 1050, 1) (1031, 1)\n",
      "sparse_categorical_crossentropy ['accuracy']\n",
      "Training with shapes: (2062, 1050, 1) (2062,) (1031, 1050, 1) (1031,)\n",
      "Training fold with shapes: (2062, 1050, 1) (2062, 1) (1031, 1050, 1) (1031, 1)\n",
      "sparse_categorical_crossentropy ['accuracy']\n",
      "Training with shapes: (2062, 1050, 1) (2062,) (1031, 1050, 1) (1031,)\n"
     ]
    },
    {
     "name": "stderr",
     "output_type": "stream",
     "text": [
      "2025-03-31 16:58:45,019 - INFO - Saved model to results\\sample_datamock_data3_classif\\nicon_classification\\experiment_755f0b39\n"
     ]
    },
    {
     "name": "stdout",
     "output_type": "stream",
     "text": [
      "\u001b[1m23/23\u001b[0m \u001b[32m━━━━━━━━━━━━━━━━━━━━\u001b[0m\u001b[37m\u001b[0m \u001b[1m0s\u001b[0m 4ms/step\n",
      "\u001b[1m23/23\u001b[0m \u001b[32m━━━━━━━━━━━━━━━━━━━━\u001b[0m\u001b[37m\u001b[0m \u001b[1m0s\u001b[0m 4ms/step\n",
      "\u001b[1m23/23\u001b[0m \u001b[32m━━━━━━━━━━━━━━━━━━━━\u001b[0m\u001b[37m\u001b[0m \u001b[1m0s\u001b[0m 4ms/step\n",
      "Weights: [0.32360097 0.3163017  0.36009732]\n"
     ]
    },
    {
     "name": "stderr",
     "output_type": "stream",
     "text": [
      "2025-03-31 16:58:45,537 - INFO - Evaluation Metrics fold_0: {'accuracy': 0.18169398907103826}\n",
      "2025-03-31 16:58:45,538 - INFO - Evaluation Metrics fold_1: {'accuracy': 0.17759562841530055}\n",
      "2025-03-31 16:58:45,538 - INFO - Evaluation Metrics fold_2: {'accuracy': 0.20218579234972678}\n",
      "2025-03-31 16:58:45,539 - INFO - Evaluation Metrics mean: {'accuracy': 0.1871584699453552}\n",
      "2025-03-31 16:58:45,539 - INFO - Evaluation Metrics best: {'accuracy': 0.20218579234972678}\n",
      "2025-03-31 16:58:45,540 - INFO - Evaluation Metrics weighted: {'accuracy': 0.18442622950819673}\n",
      "2025-03-31 16:58:45,544 - INFO - Metrics saved to results\\sample_datamock_data3_classif\\nicon_classification\\experiment_755f0b39\\metrics.json\n",
      "2025-03-31 16:58:45,547 - INFO - Predictions saved to results\\sample_datamock_data3_classif\\nicon_classification\\experiment_755f0b39\\predictions.csv\n",
      "2025-03-31 16:58:45,549 - INFO - Updated experiments at results\\sample_datamock_data3_classif\\nicon_classification\\experiments.json\n",
      "2025-03-31 16:58:45,551 - INFO - Updated experiments at results\\sample_datamock_data3_classif\\experiments.json\n",
      "2025-03-31 16:58:45,552 - INFO - Updated experiments at results\\sample_datamock_data3_classif\\nicon_classification\\experiments.json and results\\sample_datamock_data3_classif\\experiments.json\n",
      "2025-03-31 16:58:45,552 - INFO - All experiments completed.\n",
      "2025-03-31 16:58:45,559 - INFO - ================================================================================\n",
      "2025-03-31 16:58:45,559 - INFO - ### PREPARING DATA ###\n",
      "2025-03-31 16:58:45,560 - INFO - ### LOADING DATASET ###\n"
     ]
    },
    {
     "name": "stdout",
     "output_type": "stream",
     "text": [
      "Time elapsed: 15.415622472763062 seconds\n",
      "####################\n",
      "Config 4: config4b\n",
      "####################\n",
      ">> Browsing sample_data/Malaria2024\n",
      "No train_group file found for sample_data/Malaria2024.\n",
      "No test_group file found for sample_data/Malaria2024.\n",
      "{'file_path': 'sample_data/Malaria2024/Xcal.csv', 'detection_params': {'delimiter': ';', 'decimal_separator': '.', 'has_header': True, 'quote_char': '\"', 'confidence': 1.0}, 'initial_shape': (2996, 1665), 'final_shape': (2996, 1665), 'na_handling': {'strategy': 'abort', 'na_detected': False, 'nb_removed_rows': 0, 'removed_rows_indices': []}, 'error': None, 'delimiter': ';', 'numeric_delimiter': '.', 'header_line': 0}\n"
     ]
    },
    {
     "name": "stderr",
     "output_type": "stream",
     "text": [
      "2025-03-31 16:58:48,213 - INFO - Dataset(x_train:(2996, 1665) - y_train:(2996, 1), x_test:(1285, 1665) - y_test:(1285, 1))\n",
      "2025-03-31 16:58:48,214 - INFO - ### PROCESSING DATASET ###\n"
     ]
    },
    {
     "name": "stdout",
     "output_type": "stream",
     "text": [
      "{'file_path': 'sample_data/Malaria2024/Xval.csv', 'detection_params': {'delimiter': ';', 'decimal_separator': '.', 'has_header': True, 'quote_char': '\"', 'confidence': 1.0}, 'initial_shape': (1285, 1665), 'final_shape': (1285, 1665), 'na_handling': {'strategy': 'abort', 'na_detected': False, 'nb_removed_rows': 0, 'removed_rows_indices': []}, 'error': None, 'delimiter': ';', 'numeric_delimiter': '.', 'header_line': 0}\n"
     ]
    },
    {
     "name": "stderr",
     "output_type": "stream",
     "text": [
      "2025-03-31 16:58:53,404 - INFO - Dataset(x_train:(5740, 1665) - y_train:(5740, 1), x_test:(1285, 1665) - y_test:(1285, 1))\n",
      "Folds size: 3826-1914, 3827-1913, 3827-1913\n",
      "2025-03-31 16:58:53,405 - INFO - ### PREPARING MODEL ###\n",
      "2025-03-31 16:58:53,487 - INFO - Running config > {'dataset': 'sample_data/Malaria2024', 'x_pipeline': [{'class': 'sklearn.preprocessing.RobustScaler', 'params': {'copy': True, 'quantile_range': [25.0, 75.0], 'unit_variance': False, 'with_centering': True, 'with_scaling': True}}, {'samples': [{'class': 'pinard.transformations.Rotate_Translate', 'params': {'apply_on': 6, 'copy': True, 'p_range': 2, 'random_state': None, 'y_factor': 3}}], 'balance': True}, {'split': {'class': 'sklearn.model_selection.RepeatedKFold', 'params': {'cv': {'class': 'sklearn.model_selection.KFold', 'params': None}, 'n_repeats': 1, 'random_state': None, 'cvargs': {'n_splits': 3}}}}, {'class': 'sklearn.preprocessing.MinMaxScaler', 'params': {'clip': False, 'copy': True, 'feature_range': [0, 1]}}], 'y_pipeline': None, 'model': {'function': 'pinard.presets.ref_models.nicon_classification'}, 'experiment': {'task': 'classification', 'training_params': {'epochs': 10, 'patience': 100, 'verbose': 0, 'loss': 'binary_crossentropy'}, 'metrics': ['accuracy'], 'num_classes': 2}, 'seed': 246918912}\n",
      "2025-03-31 16:58:53,489 - INFO - Starting new experiment experiment_8ad77f9b.\n",
      "2025-03-31 16:58:53,490 - INFO - Experiment prepared at results\\sample_dataMalaria2024\\nicon_classification\\experiment_8ad77f9b\n",
      "2025-03-31 16:58:53,491 - INFO - Training the model\n"
     ]
    },
    {
     "name": "stdout",
     "output_type": "stream",
     "text": [
      "(1, 2996, 1, 1665) (2996, 1)\n",
      "{np.float32(0.0): 2870, np.float32(1.0): 126}\n",
      "{np.float32(0.0): 0, np.float32(1.0): 2744}\n",
      "(1, 5740, 1, 1665) (5740, 1)\n",
      "{np.float32(0.0): 2870, np.float32(1.0): 2870}\n",
      "Model cloned\n",
      "Model cloned\n",
      "Using framework: tensorflow\n",
      "Training fold with shapes: (3826, 1665, 1) (3826, 1) (1914, 1665, 1) (1914, 1)\n",
      "binary_crossentropy ['accuracy']\n",
      "Training with shapes: (3826, 1665, 1) (3826, 1) (1914, 1665, 1) (1914, 1)\n",
      "Training fold with shapes: (3827, 1665, 1) (3827, 1) (1913, 1665, 1) (1913, 1)\n",
      "binary_crossentropy ['accuracy']\n",
      "Training with shapes: (3827, 1665, 1) (3827, 1) (1913, 1665, 1) (1913, 1)\n",
      "Training fold with shapes: (3827, 1665, 1) (3827, 1) (1913, 1665, 1) (1913, 1)\n",
      "binary_crossentropy ['accuracy']\n",
      "Training with shapes: (3827, 1665, 1) (3827, 1) (1913, 1665, 1) (1913, 1)\n"
     ]
    },
    {
     "name": "stderr",
     "output_type": "stream",
     "text": [
      "2025-03-31 16:59:20,902 - INFO - Saved model to results\\sample_dataMalaria2024\\nicon_classification\\experiment_8ad77f9b\n"
     ]
    },
    {
     "name": "stdout",
     "output_type": "stream",
     "text": [
      "\u001b[1m41/41\u001b[0m \u001b[32m━━━━━━━━━━━━━━━━━━━━\u001b[0m\u001b[37m\u001b[0m \u001b[1m0s\u001b[0m 3ms/step\n",
      "\u001b[1m41/41\u001b[0m \u001b[32m━━━━━━━━━━━━━━━━━━━━\u001b[0m\u001b[37m\u001b[0m \u001b[1m0s\u001b[0m 3ms/step\n",
      "\u001b[1m41/41\u001b[0m \u001b[32m━━━━━━━━━━━━━━━━━━━━\u001b[0m\u001b[37m\u001b[0m \u001b[1m0s\u001b[0m 3ms/step\n"
     ]
    },
    {
     "name": "stderr",
     "output_type": "stream",
     "text": [
      "2025-03-31 16:59:21,522 - INFO - Evaluation Metrics fold_0: {'accuracy': 0.953307392996109}\n",
      "2025-03-31 16:59:21,522 - INFO - Evaluation Metrics fold_1: {'accuracy': 0.954863813229572}\n",
      "2025-03-31 16:59:21,523 - INFO - Evaluation Metrics fold_2: {'accuracy': 0.954863813229572}\n",
      "2025-03-31 16:59:21,524 - INFO - Evaluation Metrics mean: {'accuracy': 0.954863813229572}\n",
      "2025-03-31 16:59:21,524 - INFO - Evaluation Metrics best: {'accuracy': 0.954863813229572}\n",
      "2025-03-31 16:59:21,525 - INFO - Evaluation Metrics weighted: {'accuracy': 0.954863813229572}\n",
      "2025-03-31 16:59:21,528 - INFO - Metrics saved to results\\sample_dataMalaria2024\\nicon_classification\\experiment_8ad77f9b\\metrics.json\n",
      "2025-03-31 16:59:21,531 - INFO - Predictions saved to results\\sample_dataMalaria2024\\nicon_classification\\experiment_8ad77f9b\\predictions.csv\n",
      "2025-03-31 16:59:21,532 - INFO - Updated experiments at results\\sample_dataMalaria2024\\nicon_classification\\experiments.json\n",
      "2025-03-31 16:59:21,535 - INFO - Updated experiments at results\\sample_dataMalaria2024\\experiments.json\n",
      "2025-03-31 16:59:21,535 - INFO - Updated experiments at results\\sample_dataMalaria2024\\nicon_classification\\experiments.json and results\\sample_dataMalaria2024\\experiments.json\n",
      "2025-03-31 16:59:21,536 - INFO - All experiments completed.\n",
      "2025-03-31 16:59:21,540 - INFO - ================================================================================\n",
      "2025-03-31 16:59:21,540 - INFO - ### PREPARING DATA ###\n",
      "2025-03-31 16:59:21,541 - INFO - ### LOADING DATASET ###\n"
     ]
    },
    {
     "name": "stdout",
     "output_type": "stream",
     "text": [
      "Weights: [0.33297092 0.33351454 0.33351454]\n",
      "Time elapsed: 35.97934150695801 seconds\n",
      "####################\n",
      "Config 5: config5\n",
      "####################\n",
      ">> Browsing sample_data/mock_data3_binary\n",
      "No train_group file found for sample_data/mock_data3_binary.\n",
      "No test_group file found for sample_data/mock_data3_binary.\n",
      "{'file_path': 'sample_data/mock_data3_binary/Xcal.csv', 'detection_params': {'delimiter': ';', 'decimal_separator': '.', 'has_header': True, 'quote_char': '\"', 'confidence': 1.0}, 'initial_shape': (3093, 1050), 'final_shape': (3093, 1050), 'na_handling': {'strategy': 'abort', 'na_detected': False, 'nb_removed_rows': 0, 'removed_rows_indices': []}, 'error': None, 'delimiter': ';', 'numeric_delimiter': '.', 'header_line': 0}\n"
     ]
    },
    {
     "name": "stderr",
     "output_type": "stream",
     "text": [
      "2025-03-31 16:59:23,204 - INFO - Dataset(x_train:(3093, 1050) - y_train:(3093, 1), x_test:(732, 1050) - y_test:(732, 1))\n",
      "2025-03-31 16:59:23,205 - INFO - ### PROCESSING DATASET ###\n",
      "2025-03-31 16:59:23,372 - INFO - Dataset(x_train:(3093, 1050) - y_train:(3093, 1), x_test:(732, 1050) - y_test:(732, 1))\n",
      "Folds size: 2062-1031, 2062-1031, 2062-1031\n",
      "2025-03-31 16:59:23,373 - INFO - ### PREPARING MODEL ###\n"
     ]
    },
    {
     "name": "stdout",
     "output_type": "stream",
     "text": [
      "{'file_path': 'sample_data/mock_data3_binary/Xval.csv', 'detection_params': {'delimiter': ';', 'decimal_separator': '.', 'has_header': True, 'quote_char': '\"', 'confidence': 1.0}, 'initial_shape': (732, 1050), 'final_shape': (732, 1050), 'na_handling': {'strategy': 'abort', 'na_detected': False, 'nb_removed_rows': 0, 'removed_rows_indices': []}, 'error': None, 'delimiter': ';', 'numeric_delimiter': '.', 'header_line': 0}\n"
     ]
    },
    {
     "name": "stderr",
     "output_type": "stream",
     "text": [
      "2025-03-31 16:59:23,459 - INFO - Running config > {'dataset': 'sample_data/mock_data3_binary', 'x_pipeline': [{'class': 'sklearn.preprocessing.RobustScaler', 'params': {'copy': True, 'quantile_range': [25.0, 75.0], 'unit_variance': False, 'with_centering': True, 'with_scaling': True}}, {'split': {'class': 'sklearn.model_selection.RepeatedKFold', 'params': {'cv': {'class': 'sklearn.model_selection.KFold', 'params': None}, 'n_repeats': 1, 'random_state': None, 'cvargs': {'n_splits': 3}}}}, {'class': 'sklearn.preprocessing.MinMaxScaler', 'params': {'clip': False, 'copy': True, 'feature_range': [0, 1]}}], 'y_pipeline': None, 'model': {'function': 'pinard.presets.ref_models.nicon_classification'}, 'experiment': {'task': 'classification', 'training_params': {'epochs': 5, 'loss': 'binary_crossentropy'}, 'verbose': 0, 'metrics': ['accuracy'], 'num_classes': 2}, 'seed': 246918912}\n",
      "2025-03-31 16:59:23,460 - INFO - Starting new experiment experiment_a1659501.\n",
      "2025-03-31 16:59:23,463 - INFO - Experiment prepared at results\\sample_datamock_data3_binary\\nicon_classification\\experiment_a1659501\n",
      "2025-03-31 16:59:23,464 - INFO - Training the model\n"
     ]
    },
    {
     "name": "stdout",
     "output_type": "stream",
     "text": [
      "Model cloned\n",
      "Model cloned\n",
      "Using framework: tensorflow\n",
      "Training fold with shapes: (2062, 1050, 1) (2062, 1) (1031, 1050, 1) (1031, 1)\n",
      "binary_crossentropy ['accuracy']\n",
      "Training with shapes: (2062, 1050, 1) (2062, 1) (1031, 1050, 1) (1031, 1)\n",
      "Epoch 1/5\n",
      "\u001b[1m65/65\u001b[0m \u001b[32m━━━━━━━━━━━━━━━━━━━━\u001b[0m\u001b[37m\u001b[0m \u001b[1m1s\u001b[0m 6ms/step - accuracy: 0.5834 - loss: 0.6624 - val_accuracy: 0.5926 - val_loss: 0.6519\n",
      "Epoch 2/5\n",
      "\u001b[1m65/65\u001b[0m \u001b[32m━━━━━━━━━━━━━━━━━━━━\u001b[0m\u001b[37m\u001b[0m \u001b[1m0s\u001b[0m 5ms/step - accuracy: 0.7545 - loss: 0.5254 - val_accuracy: 0.5393 - val_loss: 0.6294\n",
      "Epoch 3/5\n",
      "\u001b[1m65/65\u001b[0m \u001b[32m━━━━━━━━━━━━━━━━━━━━\u001b[0m\u001b[37m\u001b[0m \u001b[1m0s\u001b[0m 4ms/step - accuracy: 0.8158 - loss: 0.4373 - val_accuracy: 0.5344 - val_loss: 0.7045\n",
      "Epoch 4/5\n",
      "\u001b[1m65/65\u001b[0m \u001b[32m━━━━━━━━━━━━━━━━━━━━\u001b[0m\u001b[37m\u001b[0m \u001b[1m0s\u001b[0m 5ms/step - accuracy: 0.8017 - loss: 0.4152 - val_accuracy: 0.5344 - val_loss: 0.7822\n",
      "Epoch 5/5\n",
      "\u001b[1m65/65\u001b[0m \u001b[32m━━━━━━━━━━━━━━━━━━━━\u001b[0m\u001b[37m\u001b[0m \u001b[1m0s\u001b[0m 4ms/step - accuracy: 0.8407 - loss: 0.3738 - val_accuracy: 0.5344 - val_loss: 1.0945\n",
      "Training fold with shapes: (2062, 1050, 1) (2062, 1) (1031, 1050, 1) (1031, 1)\n",
      "binary_crossentropy ['accuracy']\n",
      "Training with shapes: (2062, 1050, 1) (2062, 1) (1031, 1050, 1) (1031, 1)\n",
      "Epoch 1/5\n",
      "\u001b[1m65/65\u001b[0m \u001b[32m━━━━━━━━━━━━━━━━━━━━\u001b[0m\u001b[37m\u001b[0m \u001b[1m1s\u001b[0m 7ms/step - accuracy: 0.6371 - loss: 0.6523 - val_accuracy: 0.5160 - val_loss: 0.7697\n",
      "Epoch 2/5\n",
      "\u001b[1m65/65\u001b[0m \u001b[32m━━━━━━━━━━━━━━━━━━━━\u001b[0m\u001b[37m\u001b[0m \u001b[1m0s\u001b[0m 5ms/step - accuracy: 0.7705 - loss: 0.4698 - val_accuracy: 0.5160 - val_loss: 0.9667\n",
      "Epoch 3/5\n",
      "\u001b[1m65/65\u001b[0m \u001b[32m━━━━━━━━━━━━━━━━━━━━\u001b[0m\u001b[37m\u001b[0m \u001b[1m0s\u001b[0m 4ms/step - accuracy: 0.8151 - loss: 0.4197 - val_accuracy: 0.5160 - val_loss: 1.0477\n",
      "Epoch 4/5\n",
      "\u001b[1m65/65\u001b[0m \u001b[32m━━━━━━━━━━━━━━━━━━━━\u001b[0m\u001b[37m\u001b[0m \u001b[1m0s\u001b[0m 5ms/step - accuracy: 0.8006 - loss: 0.3969 - val_accuracy: 0.5160 - val_loss: 1.0080\n",
      "Epoch 5/5\n",
      "\u001b[1m65/65\u001b[0m \u001b[32m━━━━━━━━━━━━━━━━━━━━\u001b[0m\u001b[37m\u001b[0m \u001b[1m0s\u001b[0m 4ms/step - accuracy: 0.8173 - loss: 0.3728 - val_accuracy: 0.5170 - val_loss: 0.9549\n",
      "Training fold with shapes: (2062, 1050, 1) (2062, 1) (1031, 1050, 1) (1031, 1)\n",
      "binary_crossentropy ['accuracy']\n",
      "Training with shapes: (2062, 1050, 1) (2062, 1) (1031, 1050, 1) (1031, 1)\n",
      "Epoch 1/5\n",
      "\u001b[1m65/65\u001b[0m \u001b[32m━━━━━━━━━━━━━━━━━━━━\u001b[0m\u001b[37m\u001b[0m \u001b[1m1s\u001b[0m 6ms/step - accuracy: 0.5913 - loss: 0.7396 - val_accuracy: 0.5306 - val_loss: 0.9225\n",
      "Epoch 2/5\n",
      "\u001b[1m65/65\u001b[0m \u001b[32m━━━━━━━━━━━━━━━━━━━━\u001b[0m\u001b[37m\u001b[0m \u001b[1m0s\u001b[0m 5ms/step - accuracy: 0.7750 - loss: 0.4881 - val_accuracy: 0.5306 - val_loss: 1.0770\n",
      "Epoch 3/5\n",
      "\u001b[1m65/65\u001b[0m \u001b[32m━━━━━━━━━━━━━━━━━━━━\u001b[0m\u001b[37m\u001b[0m \u001b[1m0s\u001b[0m 5ms/step - accuracy: 0.7886 - loss: 0.4343 - val_accuracy: 0.5306 - val_loss: 1.2421\n",
      "Epoch 4/5\n",
      "\u001b[1m65/65\u001b[0m \u001b[32m━━━━━━━━━━━━━━━━━━━━\u001b[0m\u001b[37m\u001b[0m \u001b[1m0s\u001b[0m 5ms/step - accuracy: 0.8230 - loss: 0.4041 - val_accuracy: 0.5306 - val_loss: 1.5424\n",
      "Epoch 5/5\n",
      "\u001b[1m65/65\u001b[0m \u001b[32m━━━━━━━━━━━━━━━━━━━━\u001b[0m\u001b[37m\u001b[0m \u001b[1m0s\u001b[0m 4ms/step - accuracy: 0.8382 - loss: 0.3755 - val_accuracy: 0.5306 - val_loss: 1.2410\n"
     ]
    },
    {
     "name": "stderr",
     "output_type": "stream",
     "text": [
      "2025-03-31 16:59:31,549 - INFO - Saved model to results\\sample_datamock_data3_binary\\nicon_classification\\experiment_a1659501\n"
     ]
    },
    {
     "name": "stdout",
     "output_type": "stream",
     "text": [
      "\u001b[1m23/23\u001b[0m \u001b[32m━━━━━━━━━━━━━━━━━━━━\u001b[0m\u001b[37m\u001b[0m \u001b[1m0s\u001b[0m 4ms/step\n",
      "\u001b[1m23/23\u001b[0m \u001b[32m━━━━━━━━━━━━━━━━━━━━\u001b[0m\u001b[37m\u001b[0m \u001b[1m0s\u001b[0m 4ms/step\n",
      "\u001b[1m23/23\u001b[0m \u001b[32m━━━━━━━━━━━━━━━━━━━━\u001b[0m\u001b[37m\u001b[0m \u001b[1m0s\u001b[0m 4ms/step\n",
      "Weights:"
     ]
    },
    {
     "name": "stderr",
     "output_type": "stream",
     "text": [
      "2025-03-31 16:59:32,058 - INFO - Evaluation Metrics fold_0: {'accuracy': 0.4016393442622951}\n",
      "2025-03-31 16:59:32,058 - INFO - Evaluation Metrics fold_1: {'accuracy': 0.3702185792349727}\n",
      "2025-03-31 16:59:32,059 - INFO - Evaluation Metrics fold_2: {'accuracy': 0.3702185792349727}\n",
      "2025-03-31 16:59:32,059 - INFO - Evaluation Metrics mean: {'accuracy': 0.3702185792349727}\n",
      "2025-03-31 16:59:32,060 - INFO - Evaluation Metrics best: {'accuracy': 0.4016393442622951}\n",
      "2025-03-31 16:59:32,061 - INFO - Evaluation Metrics weighted: {'accuracy': 0.3702185792349727}\n",
      "2025-03-31 16:59:32,062 - INFO - Metrics saved to results\\sample_datamock_data3_binary\\nicon_classification\\experiment_a1659501\\metrics.json\n",
      "2025-03-31 16:59:32,064 - INFO - Predictions saved to results\\sample_datamock_data3_binary\\nicon_classification\\experiment_a1659501\\predictions.csv\n"
     ]
    },
    {
     "name": "stdout",
     "output_type": "stream",
     "text": [
      " [0.35167464 0.32416268 0.32416268]\n"
     ]
    },
    {
     "name": "stderr",
     "output_type": "stream",
     "text": [
      "2025-03-31 16:59:32,066 - INFO - Updated experiments at results\\sample_datamock_data3_binary\\nicon_classification\\experiments.json\n",
      "2025-03-31 16:59:32,069 - INFO - Updated experiments at results\\sample_datamock_data3_binary\\experiments.json\n",
      "2025-03-31 16:59:32,070 - INFO - Updated experiments at results\\sample_datamock_data3_binary\\nicon_classification\\experiments.json and results\\sample_datamock_data3_binary\\experiments.json\n",
      "2025-03-31 16:59:32,070 - INFO - All experiments completed.\n",
      "2025-03-31 16:59:32,074 - INFO - ================================================================================\n",
      "2025-03-31 16:59:32,075 - INFO - ### PREPARING DATA ###\n",
      "2025-03-31 16:59:32,075 - INFO - ### LOADING DATASET ###\n"
     ]
    },
    {
     "name": "stdout",
     "output_type": "stream",
     "text": [
      "Time elapsed: 10.535734176635742 seconds\n",
      "####################\n",
      "Config 6: config6\n",
      "####################\n",
      ">> Browsing sample_data/WhiskyConcentration\n",
      "No train_group file found for sample_data/WhiskyConcentration.\n",
      "No test_group file found for sample_data/WhiskyConcentration.\n",
      "{'file_path': 'sample_data/WhiskyConcentration/Xcal.csv', 'detection_params': {'delimiter': ';', 'decimal_separator': '.', 'has_header': True, 'quote_char': '\"', 'confidence': 0.9994286802513807}, 'initial_shape': (261, 5251), 'final_shape': (261, 5248), 'na_handling': {'strategy': 'abort', 'na_detected': False, 'nb_removed_rows': 0, 'removed_rows_indices': []}, 'error': None, 'delimiter': ';', 'numeric_delimiter': '.', 'header_line': 0}\n"
     ]
    },
    {
     "name": "stderr",
     "output_type": "stream",
     "text": [
      "2025-03-31 16:59:35,897 - INFO - Dataset(x_train:(261, 5248) - y_train:(261, 1), x_test:(263, 5248) - y_test:(263, 1))\n",
      "2025-03-31 16:59:35,898 - INFO - ### PROCESSING DATASET ###\n"
     ]
    },
    {
     "name": "stdout",
     "output_type": "stream",
     "text": [
      "{'file_path': 'sample_data/WhiskyConcentration/Xval.csv', 'detection_params': {'delimiter': ';', 'decimal_separator': '.', 'has_header': True, 'quote_char': '\"', 'confidence': 0.9994286802513807}, 'initial_shape': (263, 5251), 'final_shape': (263, 5248), 'na_handling': {'strategy': 'abort', 'na_detected': False, 'nb_removed_rows': 0, 'removed_rows_indices': []}, 'error': None, 'delimiter': ';', 'numeric_delimiter': '.', 'header_line': 0}\n"
     ]
    },
    {
     "name": "stderr",
     "output_type": "stream",
     "text": [
      "2025-03-31 16:59:36,163 - INFO - Dataset(x_train:(261, 5248) - y_train:(261, 1), x_test:(263, 5248) - y_test:(263, 1))\n",
      "Folds size: 174-87, 174-87, 174-87\n",
      "2025-03-31 16:59:36,163 - INFO - ### PREPARING MODEL ###\n",
      "2025-03-31 16:59:36,165 - INFO - Running config > {'dataset': 'sample_data/WhiskyConcentration', 'x_pipeline': [{'class': 'sklearn.preprocessing.RobustScaler', 'params': {'copy': True, 'quantile_range': [25.0, 75.0], 'unit_variance': False, 'with_centering': True, 'with_scaling': True}}, {'split': {'class': 'sklearn.model_selection.RepeatedKFold', 'params': {'cv': {'class': 'sklearn.model_selection.KFold', 'params': None}, 'n_repeats': 1, 'random_state': None, 'cvargs': {'n_splits': 3}}}}, {'class': 'sklearn.preprocessing.MinMaxScaler', 'params': {'clip': False, 'copy': True, 'feature_range': [0, 1]}}], 'y_pipeline': None, 'model': {'class': 'sklearn.ensemble.RandomForestClassifier', 'params': None}, 'experiment': {'task': 'classification', 'metrics': ['accuracy'], 'num_classes': 4}, 'seed': 246918912}\n",
      "2025-03-31 16:59:36,166 - INFO - Starting new experiment experiment_e0d5eb50.\n",
      "2025-03-31 16:59:36,167 - INFO - Experiment prepared at results\\sample_dataWhiskyConcentration\\RandomForestClassifier\\experiment_e0d5eb50\n",
      "2025-03-31 16:59:36,168 - INFO - Training the model\n"
     ]
    },
    {
     "name": "stdout",
     "output_type": "stream",
     "text": [
      "Using framework: sklearn\n",
      "Training fold 1, with shapes: (174, 5248) (174, 1) (87, 5248) (87, 1)\n",
      "Training fold 2, with shapes: (174, 5248) (174, 1) (87, 5248) (87, 1)\n",
      "Training fold 3, with shapes: (174, 5248) (174, 1) (87, 5248) (87, 1)\n"
     ]
    },
    {
     "name": "stderr",
     "output_type": "stream",
     "text": [
      "2025-03-31 16:59:37,468 - INFO - Saved model to results\\sample_dataWhiskyConcentration\\RandomForestClassifier\\experiment_e0d5eb50\n",
      "2025-03-31 16:59:37,485 - INFO - Evaluation Metrics fold_0: {'accuracy': 0.30798479087452474}\n",
      "2025-03-31 16:59:37,486 - INFO - Evaluation Metrics fold_1: {'accuracy': 0.2889733840304182}\n",
      "2025-03-31 16:59:37,487 - INFO - Evaluation Metrics fold_2: {'accuracy': 0.2813688212927757}\n",
      "2025-03-31 16:59:37,487 - INFO - Evaluation Metrics mean: {'accuracy': 0.29277566539923955}\n",
      "2025-03-31 16:59:37,488 - INFO - Evaluation Metrics best: {'accuracy': 0.30798479087452474}\n",
      "2025-03-31 16:59:37,490 - INFO - Evaluation Metrics weighted: {'accuracy': 0.29277566539923955}\n",
      "2025-03-31 16:59:37,492 - INFO - Metrics saved to results\\sample_dataWhiskyConcentration\\RandomForestClassifier\\experiment_e0d5eb50\\metrics.json\n",
      "2025-03-31 16:59:37,494 - INFO - Predictions saved to results\\sample_dataWhiskyConcentration\\RandomForestClassifier\\experiment_e0d5eb50\\predictions.csv\n",
      "2025-03-31 16:59:37,496 - INFO - Updated experiments at results\\sample_dataWhiskyConcentration\\RandomForestClassifier\\experiments.json\n",
      "2025-03-31 16:59:37,498 - INFO - Updated experiments at results\\sample_dataWhiskyConcentration\\experiments.json\n",
      "2025-03-31 16:59:37,498 - INFO - Updated experiments at results\\sample_dataWhiskyConcentration\\RandomForestClassifier\\experiments.json and results\\sample_dataWhiskyConcentration\\experiments.json\n",
      "2025-03-31 16:59:37,499 - INFO - All experiments completed.\n",
      "2025-03-31 16:59:37,500 - INFO - ================================================================================\n",
      "2025-03-31 16:59:37,501 - INFO - ### PREPARING DATA ###\n",
      "2025-03-31 16:59:37,501 - INFO - ### LOADING DATASET ###\n"
     ]
    },
    {
     "name": "stdout",
     "output_type": "stream",
     "text": [
      "Weights: [0.35064935 0.32900433 0.32034632]\n",
      "Time elapsed: 5.426128149032593 seconds\n",
      "####################\n",
      "Config 7: config7\n",
      "####################\n",
      ">> Browsing sample_data/Malaria2024\n",
      "No train_group file found for sample_data/Malaria2024.\n",
      "No test_group file found for sample_data/Malaria2024.\n",
      "{'file_path': 'sample_data/Malaria2024/Xcal.csv', 'detection_params': {'delimiter': ';', 'decimal_separator': '.', 'has_header': True, 'quote_char': '\"', 'confidence': 1.0}, 'initial_shape': (2996, 1665), 'final_shape': (2996, 1665), 'na_handling': {'strategy': 'abort', 'na_detected': False, 'nb_removed_rows': 0, 'removed_rows_indices': []}, 'error': None, 'delimiter': ';', 'numeric_delimiter': '.', 'header_line': 0}\n"
     ]
    },
    {
     "name": "stderr",
     "output_type": "stream",
     "text": [
      "2025-03-31 16:59:40,177 - INFO - Dataset(x_train:(2996, 1665) - y_train:(2996, 1), x_test:(1285, 1665) - y_test:(1285, 1))\n",
      "2025-03-31 16:59:40,178 - INFO - ### PROCESSING DATASET ###\n"
     ]
    },
    {
     "name": "stdout",
     "output_type": "stream",
     "text": [
      "{'file_path': 'sample_data/Malaria2024/Xval.csv', 'detection_params': {'delimiter': ';', 'decimal_separator': '.', 'has_header': True, 'quote_char': '\"', 'confidence': 1.0}, 'initial_shape': (1285, 1665), 'final_shape': (1285, 1665), 'na_handling': {'strategy': 'abort', 'na_detected': False, 'nb_removed_rows': 0, 'removed_rows_indices': []}, 'error': None, 'delimiter': ';', 'numeric_delimiter': '.', 'header_line': 0}\n"
     ]
    },
    {
     "name": "stderr",
     "output_type": "stream",
     "text": [
      "2025-03-31 16:59:40,463 - INFO - Dataset(x_train:(2996, 1665) - y_train:(2996, 1), x_test:(1285, 1665) - y_test:(1285, 1))\n",
      "Folds size: 1997-999, 1997-999, 1998-998\n",
      "2025-03-31 16:59:40,464 - INFO - ### PREPARING MODEL ###\n",
      "2025-03-31 16:59:40,465 - INFO - Running config > {'dataset': 'sample_data/Malaria2024', 'x_pipeline': [{'class': 'sklearn.preprocessing.RobustScaler', 'params': {'copy': True, 'quantile_range': [25.0, 75.0], 'unit_variance': False, 'with_centering': True, 'with_scaling': True}}, {'split': {'class': 'sklearn.model_selection.RepeatedKFold', 'params': {'cv': {'class': 'sklearn.model_selection.KFold', 'params': None}, 'n_repeats': 1, 'random_state': None, 'cvargs': {'n_splits': 3}}}}, {'class': 'sklearn.preprocessing.MinMaxScaler', 'params': {'clip': False, 'copy': True, 'feature_range': [0, 1]}}], 'y_pipeline': None, 'model': {'class': 'sklearn.ensemble.RandomForestClassifier', 'params': None}, 'experiment': {'task': 'classification', 'metrics': ['accuracy'], 'num_classes': 2}, 'seed': 246918912}\n",
      "2025-03-31 16:59:40,466 - INFO - Starting new experiment experiment_84b1e7d4.\n",
      "2025-03-31 16:59:40,467 - INFO - Experiment prepared at results\\sample_dataMalaria2024\\RandomForestClassifier\\experiment_84b1e7d4\n",
      "2025-03-31 16:59:40,468 - INFO - Training the model\n"
     ]
    },
    {
     "name": "stdout",
     "output_type": "stream",
     "text": [
      "Using framework: sklearn\n",
      "Training fold 1, with shapes: (1997, 1665) (1997, 1) (999, 1665) (999, 1)\n",
      "Training fold 2, with shapes: (1997, 1665) (1997, 1) (999, 1665) (999, 1)\n",
      "Training fold 3, with shapes: (1998, 1665) (1998, 1) (998, 1665) (998, 1)\n"
     ]
    },
    {
     "name": "stderr",
     "output_type": "stream",
     "text": [
      "2025-03-31 16:59:51,748 - INFO - Saved model to results\\sample_dataMalaria2024\\RandomForestClassifier\\experiment_84b1e7d4\n",
      "2025-03-31 16:59:51,782 - INFO - Evaluation Metrics fold_0: {'accuracy': 0.9517509727626459}\n",
      "2025-03-31 16:59:51,783 - INFO - Evaluation Metrics fold_1: {'accuracy': 0.954863813229572}\n",
      "2025-03-31 16:59:51,784 - INFO - Evaluation Metrics fold_2: {'accuracy': 0.9540856031128405}\n",
      "2025-03-31 16:59:51,785 - INFO - Evaluation Metrics mean: {'accuracy': 0.9540856031128405}\n",
      "2025-03-31 16:59:51,786 - INFO - Evaluation Metrics best: {'accuracy': 0.954863813229572}\n",
      "2025-03-31 16:59:51,786 - INFO - Evaluation Metrics weighted: {'accuracy': 0.9540856031128405}\n",
      "2025-03-31 16:59:51,788 - INFO - Metrics saved to results\\sample_dataMalaria2024\\RandomForestClassifier\\experiment_84b1e7d4\\metrics.json\n",
      "2025-03-31 16:59:51,791 - INFO - Predictions saved to results\\sample_dataMalaria2024\\RandomForestClassifier\\experiment_84b1e7d4\\predictions.csv\n",
      "2025-03-31 16:59:51,793 - INFO - Updated experiments at results\\sample_dataMalaria2024\\RandomForestClassifier\\experiments.json\n",
      "2025-03-31 16:59:51,795 - INFO - Updated experiments at results\\sample_dataMalaria2024\\experiments.json\n",
      "2025-03-31 16:59:51,796 - INFO - Updated experiments at results\\sample_dataMalaria2024\\RandomForestClassifier\\experiments.json and results\\sample_dataMalaria2024\\experiments.json\n",
      "2025-03-31 16:59:51,796 - INFO - All experiments completed.\n",
      "2025-03-31 16:59:51,799 - INFO - ================================================================================\n",
      "2025-03-31 16:59:51,799 - INFO - ### PREPARING DATA ###\n",
      "2025-03-31 16:59:51,799 - INFO - ### LOADING DATASET ###\n"
     ]
    },
    {
     "name": "stdout",
     "output_type": "stream",
     "text": [
      "Weights: [0.33269859 0.33378672 0.33351469]\n",
      "Time elapsed: 14.298466920852661 seconds\n",
      "####################\n",
      "Config 8: config8\n",
      "####################\n",
      ">> Browsing sample_data/mock_data3\n",
      "No train_group file found for sample_data/mock_data3.\n",
      "No test_group file found for sample_data/mock_data3.\n",
      "{'file_path': 'sample_data/mock_data3/Xcal.csv', 'detection_params': {'delimiter': ';', 'decimal_separator': '.', 'has_header': True, 'quote_char': '\"', 'confidence': 1.0}, 'initial_shape': (3093, 1050), 'final_shape': (3093, 1050), 'na_handling': {'strategy': 'abort', 'na_detected': False, 'nb_removed_rows': 0, 'removed_rows_indices': []}, 'error': None, 'delimiter': ';', 'numeric_delimiter': '.', 'header_line': 0}\n"
     ]
    },
    {
     "name": "stderr",
     "output_type": "stream",
     "text": [
      "2025-03-31 16:59:53,683 - INFO - Dataset(x_train:(3093, 1050) - y_train:(3093, 1), x_test:(732, 1050) - y_test:(732, 1))\n",
      "2025-03-31 16:59:53,683 - INFO - ### PROCESSING DATASET ###\n",
      "2025-03-31 16:59:53,863 - INFO - Dataset(x_train:(3093, 1050) - y_train:(3093, 1), x_test:(732, 1050) - y_test:(732, 1))\n",
      "Folds size: 2062-1031, 2062-1031, 2062-1031\n"
     ]
    },
    {
     "name": "stdout",
     "output_type": "stream",
     "text": [
      "{'file_path': 'sample_data/mock_data3/Xval.csv', 'detection_params': {'delimiter': ';', 'decimal_separator': '.', 'has_header': True, 'quote_char': '\"', 'confidence': 1.0}, 'initial_shape': (732, 1050), 'final_shape': (732, 1050), 'na_handling': {'strategy': 'abort', 'na_detected': False, 'nb_removed_rows': 0, 'removed_rows_indices': []}, 'error': None, 'delimiter': ';', 'numeric_delimiter': '.', 'header_line': 0}\n"
     ]
    },
    {
     "name": "stderr",
     "output_type": "stream",
     "text": [
      "2025-03-31 16:59:53,863 - INFO - ### PREPARING MODEL ###\n",
      "2025-03-31 16:59:53,950 - INFO - Running config > {'dataset': 'sample_data/mock_data3', 'x_pipeline': [{'class': 'sklearn.preprocessing.RobustScaler', 'params': {'copy': True, 'quantile_range': [25.0, 75.0], 'unit_variance': False, 'with_centering': True, 'with_scaling': True}}, {'split': {'class': 'sklearn.model_selection.RepeatedKFold', 'params': {'cv': {'class': 'sklearn.model_selection.KFold', 'params': None}, 'n_repeats': 1, 'random_state': None, 'cvargs': {'n_splits': 3}}}}, {'class': 'sklearn.preprocessing.MinMaxScaler', 'params': {'clip': False, 'copy': True, 'feature_range': [0, 1]}}], 'y_pipeline': {'class': 'sklearn.preprocessing.MinMaxScaler', 'params': {'clip': False, 'copy': True, 'feature_range': [0, 1]}}, 'model': {'function': 'pinard.presets.ref_models.nicon'}, 'experiment': {'action': 'finetune', 'finetune_params': {'n_trials': 5, 'model_params': {'filters_1': [8, 16, 32, 64], 'filters_2': [8, 16, 32, 64], 'filters_3': [8, 16, 32, 64]}}, 'training_params': {'epochs': 10, 'verbose': 0}, 'metrics': ['mse', 'mae'], 'task': 'regression'}, 'seed': 123459456}\n",
      "2025-03-31 16:59:53,951 - INFO - Starting new experiment experiment_f985f461.\n",
      "2025-03-31 16:59:53,955 - INFO - Experiment prepared at results\\sample_datamock_data3\\nicon\\experiment_f985f461\n",
      "2025-03-31 16:59:53,956 - INFO - Finetuning the model\n",
      "[I 2025-03-31 16:59:54,036] A new study created in memory with name: no-name-899c34a9-4e53-474e-a0f3-a20fff5e9c5a\n"
     ]
    },
    {
     "name": "stdout",
     "output_type": "stream",
     "text": [
      "Model cloned\n",
      "Model cloned\n",
      "Using framework: tensorflow\n",
      "Model cloned\n",
      "Model cloned\n",
      "Using framework: tensorflow\n",
      "Training fold with shapes:Training fold with shapes: (3093, 1050, 1) (3093, 1) (732, 1050, 1) (732, 1)\n",
      "mse ['mse', 'mae']\n",
      " (3093, 1050, 1) (3093, 1) (732, 1050, 1) (732, 1)\n",
      "mse ['mse', 'mae']\n",
      "Training fold with shapes: (3093, 1050, 1) (3093, 1) (732, 1050, 1) (732, 1)\n",
      "mse ['mse', 'mae']\n",
      "Training with shapes: (3093, 1050, 1) (3093, 1) (732, 1050, 1) (732, 1)\n",
      "Training with shapes: (3093, 1050, 1) (3093, 1) (732, 1050, 1) (732, 1)\n",
      "Training fold with shapes: (3093, 1050, 1) (3093, 1) (732, 1050, 1) (732, 1)\n",
      "mse ['mse', 'mae']\n",
      "Training with shapes: (3093, 1050, 1) (3093, 1) (732, 1050, 1) (732, 1)\n",
      "Training fold with shapes: (3093, 1050, 1) (3093, 1) (732, 1050, 1) (732, 1)\n",
      "mse ['mse', 'mae']\n",
      "Training with shapes: (3093, 1050, 1) (3093, 1) (732, 1050, 1) (732, 1)\n",
      "Training with shapes: (3093, 1050, 1) (3093, 1) (732, 1050, 1) (732, 1)\n",
      "\u001b[1m23/23\u001b[0m \u001b[32m━━━━━━━━━━━━━━━━━━━━\u001b[0m\u001b[37m\u001b[0m \u001b[1m0s\u001b[0m 5ms/step\n",
      "\u001b[1m23/23\u001b[0m \u001b[32m━━━━━━━━━━━━━━━━━━━━\u001b[0m\u001b[37m\u001b[0m \u001b[1m0s\u001b[0m 4ms/step\n",
      "\u001b[1m23/23\u001b[0m \u001b[32m━━━━━━━━━━━━━━━━━━━━\u001b[0m\u001b[37m\u001b[0m \u001b[1m0s\u001b[0m 4ms/step\n",
      "\u001b[1m23/23\u001b[0m \u001b[32m━━━━━━━━━━━━━━━━━━━━\u001b[0m\u001b[37m\u001b[0m \u001b[1m0s\u001b[0m 5ms/step\n",
      "\u001b[1m23/23\u001b[0m \u001b[32m━━━━━━━━━━━━━━━━━━━━\u001b[0m\u001b[37m\u001b[0m \u001b[1m0s\u001b[0m 5ms/step\n"
     ]
    },
    {
     "name": "stderr",
     "output_type": "stream",
     "text": [
      "[I 2025-03-31 17:00:06,461] Trial 2 finished with value: 0.016429802402853966 and parameters: {'filters_1': 64, 'filters_2': 64, 'filters_3': 8}. Best is trial 2 with value: 0.016429802402853966.\n",
      "[I 2025-03-31 17:00:06,489] Trial 4 finished with value: 0.016429802402853966 and parameters: {'filters_1': 16, 'filters_2': 16, 'filters_3': 16}. Best is trial 2 with value: 0.016429802402853966.\n",
      "[I 2025-03-31 17:00:06,492] Trial 3 finished with value: 0.016429802402853966 and parameters: {'filters_1': 16, 'filters_2': 32, 'filters_3': 64}. Best is trial 2 with value: 0.016429802402853966.\n",
      "[I 2025-03-31 17:00:06,493] Trial 0 finished with value: 0.016429802402853966 and parameters: {'filters_1': 64, 'filters_2': 8, 'filters_3': 8}. Best is trial 2 with value: 0.016429802402853966.\n",
      "[I 2025-03-31 17:00:06,494] Trial 1 finished with value: 0.016429802402853966 and parameters: {'filters_1': 8, 'filters_2': 16, 'filters_3': 32}. Best is trial 2 with value: 0.016429802402853966.\n"
     ]
    },
    {
     "name": "stdout",
     "output_type": "stream",
     "text": [
      "Best model params: {'filters_1': 64, 'filters_2': 64, 'filters_3': 8}\n",
      "Model cloned\n",
      "Model cloned\n",
      "Training fold with shapes: (2062, 1050, 1) (2062, 1) (1031, 1050, 1) (1031, 1)\n",
      "mse None\n",
      "Training with shapes: (2062, 1050, 1) (2062, 1) (1031, 1050, 1) (1031, 1)\n",
      "Training fold with shapes: (2062, 1050, 1) (2062, 1) (1031, 1050, 1) (1031, 1)\n",
      "mse None\n",
      "Training with shapes: (2062, 1050, 1) (2062, 1) (1031, 1050, 1) (1031, 1)\n",
      "Training fold with shapes: (2062, 1050, 1) (2062, 1) (1031, 1050, 1) (1031, 1)\n",
      "mse None\n",
      "Training with shapes: (2062, 1050, 1) (2062, 1) (1031, 1050, 1) (1031, 1)\n",
      "\u001b[1m23/23\u001b[0m \u001b[32m━━━━━━━━━━━━━━━━━━━━\u001b[0m\u001b[37m\u001b[0m \u001b[1m0s\u001b[0m 4ms/step\n",
      "\u001b[1m23/23\u001b[0m \u001b[32m━━━━━━━━━━━━━━━━━━━━\u001b[0m\u001b[37m\u001b[0m \u001b[1m0s\u001b[0m 4ms/step\n",
      "\u001b[1m23/23\u001b[0m \u001b[32m━━━━━━━━━━━━━━━━━━━━\u001b[0m\u001b[37m\u001b[0m \u001b[1m0s\u001b[0m 4ms/step\n",
      "MSE array: [ 3.61273527  8.08194828 10.24987698]\n",
      "Weights: [0.55571637 0.24841239 0.19587124]\n"
     ]
    },
    {
     "name": "stderr",
     "output_type": "stream",
     "text": [
      "2025-03-31 17:00:19,036 - INFO - Evaluation Metrics fold_0: {'mse': 3.6127352714538574, 'mae': 1.387434720993042}\n",
      "2025-03-31 17:00:19,037 - INFO - Evaluation Metrics fold_1: {'mse': 8.081948280334473, 'mae': 2.3632771968841553}\n",
      "2025-03-31 17:00:19,038 - INFO - Evaluation Metrics fold_2: {'mse': 10.249876976013184, 'mae': 2.588826894760132}\n",
      "2025-03-31 17:00:19,038 - INFO - Evaluation Metrics mean: {'mse': 6.823264122009277, 'mae': 2.0856845378875732}\n",
      "2025-03-31 17:00:19,039 - INFO - Evaluation Metrics best: {'mse': 3.6127352714538574, 'mae': 1.387434720993042}\n",
      "2025-03-31 17:00:19,040 - INFO - Evaluation Metrics weighted: {'mse': 5.517057316009313, 'mae': 1.8293603932255422}\n",
      "2025-03-31 17:00:19,041 - INFO - Metrics saved to results\\sample_datamock_data3\\nicon\\experiment_f985f461\\metrics.json\n",
      "2025-03-31 17:00:19,042 - INFO - Best parameters {'filters_1': 64, 'filters_2': 64, 'filters_3': 8} saved to results\\sample_datamock_data3\\nicon\\experiment_f985f461\\best_params.json\n",
      "2025-03-31 17:00:19,046 - INFO - Predictions saved to results\\sample_datamock_data3\\nicon\\experiment_f985f461\\predictions.csv\n",
      "2025-03-31 17:00:19,048 - INFO - Updated experiments at results\\sample_datamock_data3\\nicon\\experiments.json\n",
      "2025-03-31 17:00:19,052 - INFO - Updated experiments at results\\sample_datamock_data3\\experiments.json\n",
      "2025-03-31 17:00:19,053 - INFO - Updated experiments at results\\sample_datamock_data3\\nicon\\experiments.json and results\\sample_datamock_data3\\experiments.json\n",
      "2025-03-31 17:00:19,053 - INFO - All experiments completed.\n",
      "2025-03-31 17:00:19,056 - INFO - ================================================================================\n",
      "2025-03-31 17:00:19,057 - INFO - ### PREPARING DATA ###\n",
      "2025-03-31 17:00:19,057 - INFO - ### LOADING DATASET ###\n"
     ]
    },
    {
     "name": "stdout",
     "output_type": "stream",
     "text": [
      "Time elapsed: 27.25843834877014 seconds\n",
      "####################\n",
      "Config 9: config9\n",
      "####################\n",
      ">> Browsing sample_data/mock_data3\n",
      "No train_group file found for sample_data/mock_data3.\n",
      "No test_group file found for sample_data/mock_data3.\n",
      "{'file_path': 'sample_data/mock_data3/Xcal.csv', 'detection_params': {'delimiter': ';', 'decimal_separator': '.', 'has_header': True, 'quote_char': '\"', 'confidence': 1.0}, 'initial_shape': (3093, 1050), 'final_shape': (3093, 1050), 'na_handling': {'strategy': 'abort', 'na_detected': False, 'nb_removed_rows': 0, 'removed_rows_indices': []}, 'error': None, 'delimiter': ';', 'numeric_delimiter': '.', 'header_line': 0}\n"
     ]
    },
    {
     "name": "stderr",
     "output_type": "stream",
     "text": [
      "2025-03-31 17:00:21,704 - INFO - Dataset(x_train:(3093, 1050) - y_train:(3093, 1), x_test:(732, 1050) - y_test:(732, 1))\n",
      "2025-03-31 17:00:21,705 - INFO - ### PROCESSING DATASET ###\n"
     ]
    },
    {
     "name": "stdout",
     "output_type": "stream",
     "text": [
      "{'file_path': 'sample_data/mock_data3/Xval.csv', 'detection_params': {'delimiter': ';', 'decimal_separator': '.', 'has_header': True, 'quote_char': '\"', 'confidence': 1.0}, 'initial_shape': (732, 1050), 'final_shape': (732, 1050), 'na_handling': {'strategy': 'abort', 'na_detected': False, 'nb_removed_rows': 0, 'removed_rows_indices': []}, 'error': None, 'delimiter': ';', 'numeric_delimiter': '.', 'header_line': 0}\n"
     ]
    },
    {
     "name": "stderr",
     "output_type": "stream",
     "text": [
      "2025-03-31 17:00:21,880 - INFO - Dataset(x_train:(3093, 1050) - y_train:(3093, 1), x_test:(732, 1050) - y_test:(732, 1))\n",
      "Folds size: 2062-1031, 2062-1031, 2062-1031\n",
      "2025-03-31 17:00:21,881 - INFO - ### PREPARING MODEL ###\n",
      "2025-03-31 17:00:21,882 - INFO - Running config > {'dataset': 'sample_data/mock_data3', 'x_pipeline': [{'class': 'sklearn.preprocessing.RobustScaler', 'params': {'copy': True, 'quantile_range': [25.0, 75.0], 'unit_variance': False, 'with_centering': True, 'with_scaling': True}}, {'split': {'class': 'sklearn.model_selection.RepeatedKFold', 'params': {'cv': {'class': 'sklearn.model_selection.KFold', 'params': None}, 'n_repeats': 1, 'random_state': None, 'cvargs': {'n_splits': 3}}}}, {'class': 'sklearn.preprocessing.MinMaxScaler', 'params': {'clip': False, 'copy': True, 'feature_range': [0, 1]}}], 'y_pipeline': {'class': 'sklearn.preprocessing.MinMaxScaler', 'params': {'clip': False, 'copy': True, 'feature_range': [0, 1]}}, 'model': {'class': 'sklearn.cross_decomposition.PLSRegression', 'model_params': {'n_components': 21}}, 'experiment': {'action': 'finetune', 'finetune_params': {'model_params': {'n_components': ['int', 5, 20]}, 'training_params': {}, 'tuner': 'sklearn'}, 'metrics': ['mse', 'mae'], 'task': 'regression'}, 'seed': 123459456}\n",
      "2025-03-31 17:00:21,883 - INFO - Starting new experiment experiment_b5590fb3.\n",
      "2025-03-31 17:00:21,885 - INFO - Experiment prepared at results\\sample_datamock_data3\\PLSRegression\\experiment_b5590fb3\n",
      "2025-03-31 17:00:21,886 - INFO - Finetuning the model\n"
     ]
    },
    {
     "name": "stdout",
     "output_type": "stream",
     "text": [
      "Using framework: sklearn\n",
      "Best model params: {'n_components': 16}\n",
      "Training fold 1, with shapes: (2062, 1050) (2062, 1) (1031, 1050) (1031, 1)\n",
      "Training fold 2, with shapes: (2062, 1050) (2062, 1) (1031, 1050) (1031, 1)\n"
     ]
    },
    {
     "name": "stderr",
     "output_type": "stream",
     "text": [
      "2025-03-31 17:00:26,525 - INFO - Evaluation Metrics fold_0: {'mse': 2.3161813335502894, 'mae': 1.1013283597718169}\n",
      "2025-03-31 17:00:26,526 - INFO - Evaluation Metrics fold_1: {'mse': 2.3653662093153582, 'mae': 1.123729416439033}\n",
      "2025-03-31 17:00:26,527 - INFO - Evaluation Metrics fold_2: {'mse': 2.2481918604362257, 'mae': 1.0773272499161732}\n",
      "2025-03-31 17:00:26,527 - INFO - Evaluation Metrics mean: {'mse': 2.304375894545277, 'mae': 1.0983350716550353}\n",
      "2025-03-31 17:00:26,528 - INFO - Evaluation Metrics best: {'mse': 2.2481918604362257, 'mae': 1.0773272499161732}\n",
      "2025-03-31 17:00:26,528 - INFO - Evaluation Metrics weighted: {'mse': 2.3033471215411243, 'mae': 1.0979145251353473}\n",
      "2025-03-31 17:00:26,531 - INFO - Metrics saved to results\\sample_datamock_data3\\PLSRegression\\experiment_b5590fb3\\metrics.json\n",
      "2025-03-31 17:00:26,532 - INFO - Best parameters {'n_components': 16} saved to results\\sample_datamock_data3\\PLSRegression\\experiment_b5590fb3\\best_params.json\n",
      "2025-03-31 17:00:26,537 - INFO - Predictions saved to results\\sample_datamock_data3\\PLSRegression\\experiment_b5590fb3\\predictions.csv\n",
      "2025-03-31 17:00:26,540 - INFO - Updated experiments at results\\sample_datamock_data3\\PLSRegression\\experiments.json\n",
      "2025-03-31 17:00:26,543 - INFO - Updated experiments at results\\sample_datamock_data3\\experiments.json\n",
      "2025-03-31 17:00:26,543 - INFO - Updated experiments at results\\sample_datamock_data3\\PLSRegression\\experiments.json and results\\sample_datamock_data3\\experiments.json\n",
      "2025-03-31 17:00:26,544 - INFO - All experiments completed.\n",
      "2025-03-31 17:00:26,547 - INFO - ================================================================================\n",
      "2025-03-31 17:00:26,547 - INFO - ### PREPARING DATA ###\n",
      "2025-03-31 17:00:26,548 - INFO - ### LOADING DATASET ###\n"
     ]
    },
    {
     "name": "stdout",
     "output_type": "stream",
     "text": [
      "Training fold 3, with shapes: (2062, 1050) (2062, 1) (1031, 1050) (1031, 1)\n",
      "MSE array: [2.31618133 2.36536621 2.24819186]\n",
      "Weights: [0.33228684 0.32537735 0.34233581]\n",
      "Time elapsed: 7.488981008529663 seconds\n",
      "####################\n",
      "Config 10: config10\n",
      "####################\n",
      ">> Browsing sample_data/Malaria2024\n",
      "No train_group file found for sample_data/Malaria2024.\n",
      "No test_group file found for sample_data/Malaria2024.\n",
      "{'file_path': 'sample_data/Malaria2024/Xcal.csv', 'detection_params': {'delimiter': ';', 'decimal_separator': '.', 'has_header': True, 'quote_char': '\"', 'confidence': 1.0}, 'initial_shape': (2996, 1665), 'final_shape': (2996, 1665), 'na_handling': {'strategy': 'abort', 'na_detected': False, 'nb_removed_rows': 0, 'removed_rows_indices': []}, 'error': None, 'delimiter': ';', 'numeric_delimiter': '.', 'header_line': 0}\n"
     ]
    },
    {
     "name": "stderr",
     "output_type": "stream",
     "text": [
      "2025-03-31 17:00:29,258 - INFO - Dataset(x_train:(2996, 1665) - y_train:(2996, 1), x_test:(1285, 1665) - y_test:(1285, 1))\n",
      "2025-03-31 17:00:29,259 - INFO - ### PROCESSING DATASET ###\n"
     ]
    },
    {
     "name": "stdout",
     "output_type": "stream",
     "text": [
      "{'file_path': 'sample_data/Malaria2024/Xval.csv', 'detection_params': {'delimiter': ';', 'decimal_separator': '.', 'has_header': True, 'quote_char': '\"', 'confidence': 1.0}, 'initial_shape': (1285, 1665), 'final_shape': (1285, 1665), 'na_handling': {'strategy': 'abort', 'na_detected': False, 'nb_removed_rows': 0, 'removed_rows_indices': []}, 'error': None, 'delimiter': ';', 'numeric_delimiter': '.', 'header_line': 0}\n"
     ]
    },
    {
     "name": "stderr",
     "output_type": "stream",
     "text": [
      "2025-03-31 17:00:29,552 - INFO - Dataset(x_train:(2996, 1665) - y_train:(2996, 1), x_test:(1285, 1665) - y_test:(1285, 1))\n",
      "Folds size: 1997-999, 1997-999, 1998-998\n",
      "2025-03-31 17:00:29,553 - INFO - ### PREPARING MODEL ###\n",
      "2025-03-31 17:00:29,634 - INFO - Running config > {'dataset': 'sample_data/Malaria2024', 'x_pipeline': [{'class': 'sklearn.preprocessing.RobustScaler', 'params': {'copy': True, 'quantile_range': [25.0, 75.0], 'unit_variance': False, 'with_centering': True, 'with_scaling': True}}, {'split': {'class': 'sklearn.model_selection.RepeatedKFold', 'params': {'cv': {'class': 'sklearn.model_selection.KFold', 'params': None}, 'n_repeats': 1, 'random_state': None, 'cvargs': {'n_splits': 3}}}}, {'class': 'sklearn.preprocessing.MinMaxScaler', 'params': {'clip': False, 'copy': True, 'feature_range': [0, 1]}}], 'y_pipeline': None, 'model': {'function': 'pinard.presets.ref_models.nicon_classification'}, 'experiment': {'action': 'finetune', 'task': 'classification', 'finetune_params': {'n_trials': 5, 'model_params': {'filters_1': [8, 16, 32, 64], 'filters_2': [8, 16, 32, 64], 'filters_3': [8, 16, 32, 64]}}, 'training_params': {'epochs': 5, 'verbose': 0, 'loss': 'binary_crossentropy'}, 'metrics': ['accuracy'], 'num_classes': 2}, 'seed': 246918912}\n",
      "2025-03-31 17:00:29,636 - INFO - Starting new experiment experiment_0cb44063.\n",
      "2025-03-31 17:00:29,637 - INFO - Experiment prepared at results\\sample_dataMalaria2024\\nicon_classification\\experiment_0cb44063\n",
      "2025-03-31 17:00:29,638 - INFO - Finetuning the model\n",
      "[I 2025-03-31 17:00:29,716] A new study created in memory with name: no-name-dfcf358c-e7bc-4cc2-881e-c03e2364b7ee\n"
     ]
    },
    {
     "name": "stdout",
     "output_type": "stream",
     "text": [
      "Model cloned\n",
      "Model cloned\n",
      "Using framework: tensorflow\n",
      "Model cloned\n",
      "Model cloned\n",
      "Using framework: tensorflow\n",
      "Training fold with shapes: (2996, 1665, 1) (2996, 1) (1285, 1665, 1) (1285, 1)\n",
      "binary_crossentropy ['accuracy']\n",
      "Training fold with shapes: (2996, 1665, 1) (2996, 1) (1285, 1665, 1) (1285, 1)\n",
      "binary_crossentropy ['accuracy']\n",
      "Training fold with shapes: (2996, 1665, 1) (2996, 1) (1285, 1665, 1) (1285, 1)\n",
      "binary_crossentropy ['accuracy']\n",
      "Training fold with shapes: (2996, 1665, 1) (2996, 1) (1285, 1665, 1) (1285, 1)\n",
      "binary_crossentropy ['accuracy']\n",
      "Training with shapes: (2996, 1665, 1) (2996, 1) (1285, 1665, 1) (1285, 1)\n",
      "Training with shapes: (2996, 1665, 1) (2996, 1) (1285, 1665, 1) (1285, 1)\n",
      "Training with shapes: (2996, 1665, 1) (2996, 1) (1285, 1665, 1) (1285, 1)\n",
      "Training with shapes: (2996, 1665, 1) (2996, 1) (1285, 1665, 1) (1285, 1)\n",
      "Training fold with shapes: (2996, 1665, 1) (2996, 1) (1285, 1665, 1) (1285, 1)\n",
      "binary_crossentropy ['accuracy']\n",
      "Training with shapes: (2996, 1665, 1) (2996, 1) (1285, 1665, 1) (1285, 1)\n",
      "\u001b[1m41/41\u001b[0m \u001b[32m━━━━━━━━━━━━━━━━━━━━\u001b[0m\u001b[37m\u001b[0m \u001b[1m0s\u001b[0m 6ms/step\n",
      "\u001b[1m41/41\u001b[0m \u001b[32m━━━━━━━━━━━━━━━━━━━━\u001b[0m\u001b[37m\u001b[0m \u001b[1m0s\u001b[0m 3ms/step\n"
     ]
    },
    {
     "name": "stderr",
     "output_type": "stream",
     "text": [
      "[I 2025-03-31 17:00:39,369] Trial 0 finished with value: 0.954863813229572 and parameters: {'filters_1': 64, 'filters_2': 8, 'filters_3': 8}. Best is trial 0 with value: 0.954863813229572.\n",
      "[I 2025-03-31 17:00:39,386] Trial 1 finished with value: 0.954863813229572 and parameters: {'filters_1': 32, 'filters_2': 16, 'filters_3': 16}. Best is trial 0 with value: 0.954863813229572.\n"
     ]
    },
    {
     "name": "stdout",
     "output_type": "stream",
     "text": [
      "\u001b[1m41/41\u001b[0m \u001b[32m━━━━━━━━━━━━━━━━━━━━\u001b[0m\u001b[37m\u001b[0m \u001b[1m0s\u001b[0m 2ms/step\n",
      "\u001b[1m41/41\u001b[0m \u001b[32m━━━━━━━━━━━━━━━━━━━━\u001b[0m\u001b[37m\u001b[0m \u001b[1m0s\u001b[0m 2ms/step\n",
      "\u001b[1m41/41\u001b[0m \u001b[32m━━━━━━━━━━━━━━━━━━━━\u001b[0m\u001b[37m\u001b[0m \u001b[1m0s\u001b[0m 2ms/step\n"
     ]
    },
    {
     "name": "stderr",
     "output_type": "stream",
     "text": [
      "[I 2025-03-31 17:00:39,555] Trial 4 finished with value: 0.954863813229572 and parameters: {'filters_1': 16, 'filters_2': 64, 'filters_3': 8}. Best is trial 0 with value: 0.954863813229572.\n",
      "[I 2025-03-31 17:00:39,561] Trial 3 finished with value: 0.954863813229572 and parameters: {'filters_1': 16, 'filters_2': 8, 'filters_3': 16}. Best is trial 0 with value: 0.954863813229572.\n",
      "[I 2025-03-31 17:00:39,561] Trial 2 finished with value: 0.954863813229572 and parameters: {'filters_1': 32, 'filters_2': 8, 'filters_3': 64}. Best is trial 0 with value: 0.954863813229572.\n"
     ]
    },
    {
     "name": "stdout",
     "output_type": "stream",
     "text": [
      "Best model params: {'filters_1': 64, 'filters_2': 8, 'filters_3': 8}\n",
      "Model cloned\n",
      "Model cloned\n",
      "Training fold with shapes: (1997, 1665, 1) (1997, 1) (999, 1665, 1) (999, 1)\n",
      "binary_crossentropy None\n",
      "Training with shapes: (1997, 1665, 1) (1997, 1) (999, 1665, 1) (999, 1)\n",
      "Training fold with shapes: (1997, 1665, 1) (1997, 1) (999, 1665, 1) (999, 1)\n",
      "binary_crossentropy None\n",
      "Training with shapes: (1997, 1665, 1) (1997, 1) (999, 1665, 1) (999, 1)\n",
      "Training fold with shapes: (1998, 1665, 1) (1998, 1) (998, 1665, 1) (998, 1)\n",
      "binary_crossentropy None\n",
      "Training with shapes: (1998, 1665, 1) (1998, 1) (998, 1665, 1) (998, 1)\n",
      "\u001b[1m41/41\u001b[0m \u001b[32m━━━━━━━━━━━━━━━━━━━━\u001b[0m\u001b[37m\u001b[0m \u001b[1m0s\u001b[0m 3ms/step\n",
      "\u001b[1m41/41\u001b[0m \u001b[32m━━━━━━━━━━━━━━━━━━━━\u001b[0m\u001b[37m\u001b[0m \u001b[1m0s\u001b[0m 3ms/step\n",
      "\u001b[1m41/41\u001b[0m \u001b[32m━━━━━━━━━━━━━━━━━━━━\u001b[0m\u001b[37m\u001b[0m \u001b[1m0s\u001b[0m 3ms/step\n"
     ]
    },
    {
     "name": "stderr",
     "output_type": "stream",
     "text": [
      "2025-03-31 17:00:48,621 - INFO - Evaluation Metrics fold_0: {'accuracy': 0.954863813229572}\n",
      "2025-03-31 17:00:48,622 - INFO - Evaluation Metrics fold_1: {'accuracy': 0.954863813229572}\n",
      "2025-03-31 17:00:48,622 - INFO - Evaluation Metrics fold_2: {'accuracy': 0.954863813229572}\n",
      "2025-03-31 17:00:48,623 - INFO - Evaluation Metrics mean: {'accuracy': 0.954863813229572}\n",
      "2025-03-31 17:00:48,624 - INFO - Evaluation Metrics best: {'accuracy': 0.954863813229572}\n",
      "2025-03-31 17:00:48,624 - INFO - Evaluation Metrics weighted: {'accuracy': 0.954863813229572}\n",
      "2025-03-31 17:00:48,626 - INFO - Metrics saved to results\\sample_dataMalaria2024\\nicon_classification\\experiment_0cb44063\\metrics.json\n",
      "2025-03-31 17:00:48,627 - INFO - Best parameters {'filters_1': 64, 'filters_2': 8, 'filters_3': 8} saved to results\\sample_dataMalaria2024\\nicon_classification\\experiment_0cb44063\\best_params.json\n",
      "2025-03-31 17:00:48,630 - INFO - Predictions saved to results\\sample_dataMalaria2024\\nicon_classification\\experiment_0cb44063\\predictions.csv\n",
      "2025-03-31 17:00:48,632 - INFO - Updated experiments at results\\sample_dataMalaria2024\\nicon_classification\\experiments.json\n",
      "2025-03-31 17:00:48,635 - INFO - Updated experiments at results\\sample_dataMalaria2024\\experiments.json\n",
      "2025-03-31 17:00:48,636 - INFO - Updated experiments at results\\sample_dataMalaria2024\\nicon_classification\\experiments.json and results\\sample_dataMalaria2024\\experiments.json\n",
      "2025-03-31 17:00:48,636 - INFO - All experiments completed.\n",
      "2025-03-31 17:00:48,639 - INFO - ================================================================================\n",
      "2025-03-31 17:00:48,639 - INFO - ### PREPARING DATA ###\n",
      "2025-03-31 17:00:48,640 - INFO - ### LOADING DATASET ###\n"
     ]
    },
    {
     "name": "stdout",
     "output_type": "stream",
     "text": [
      "Weights: [0.33333333 0.33333333 0.33333333]\n",
      "Time elapsed: 22.09294295310974 seconds\n",
      "####################\n",
      "Config 11: config10b\n",
      "####################\n",
      ">> Browsing sample_data/mock_data3_classif\n",
      "No train_group file found for sample_data/mock_data3_classif.\n",
      "No test_group file found for sample_data/mock_data3_classif.\n",
      "{'file_path': 'sample_data/mock_data3_classif/Xcal.csv', 'detection_params': {'delimiter': ';', 'decimal_separator': '.', 'has_header': False, 'quote_char': '\"', 'confidence': 1.0}, 'initial_shape': (3093, 1050), 'final_shape': (3093, 1050), 'na_handling': {'strategy': 'abort', 'na_detected': False, 'nb_removed_rows': 0, 'removed_rows_indices': []}, 'error': None, 'delimiter': ';', 'numeric_delimiter': '.', 'header_line': None}\n"
     ]
    },
    {
     "name": "stderr",
     "output_type": "stream",
     "text": [
      "2025-03-31 17:00:50,305 - INFO - Dataset(x_train:(3093, 1050) - y_train:(3093, 1), x_test:(732, 1050) - y_test:(732, 1))\n",
      "2025-03-31 17:00:50,306 - INFO - ### PROCESSING DATASET ###\n",
      "2025-03-31 17:00:50,485 - INFO - Dataset(x_train:(3093, 1050) - y_train:(3093, 1), x_test:(732, 1050) - y_test:(732, 1))\n",
      "Folds size: 2062-1031, 2062-1031, 2062-1031\n",
      "2025-03-31 17:00:50,486 - INFO - ### PREPARING MODEL ###\n"
     ]
    },
    {
     "name": "stdout",
     "output_type": "stream",
     "text": [
      "{'file_path': 'sample_data/mock_data3_classif/Xval.csv', 'detection_params': {'delimiter': ';', 'decimal_separator': '.', 'has_header': True, 'quote_char': '\"', 'confidence': 1.0}, 'initial_shape': (732, 1050), 'final_shape': (732, 1050), 'na_handling': {'strategy': 'abort', 'na_detected': False, 'nb_removed_rows': 0, 'removed_rows_indices': []}, 'error': None, 'delimiter': ';', 'numeric_delimiter': '.', 'header_line': 0}\n"
     ]
    },
    {
     "name": "stderr",
     "output_type": "stream",
     "text": [
      "2025-03-31 17:00:50,566 - INFO - Running config > {'dataset': 'sample_data/mock_data3_classif', 'x_pipeline': [{'class': 'sklearn.preprocessing.RobustScaler', 'params': {'copy': True, 'quantile_range': [25.0, 75.0], 'unit_variance': False, 'with_centering': True, 'with_scaling': True}}, {'split': {'class': 'sklearn.model_selection.RepeatedKFold', 'params': {'cv': {'class': 'sklearn.model_selection.KFold', 'params': None}, 'n_repeats': 1, 'random_state': None, 'cvargs': {'n_splits': 3}}}}, {'class': 'sklearn.preprocessing.MinMaxScaler', 'params': {'clip': False, 'copy': True, 'feature_range': [0, 1]}}], 'y_pipeline': None, 'model': {'function': 'pinard.presets.ref_models.nicon_classification'}, 'experiment': {'action': 'finetune', 'task': 'classification', 'finetune_params': {'n_trials': 5, 'model_params': {'filters_1': [8, 16, 32, 64], 'filters_2': [8, 16, 32, 64], 'filters_3': [8, 16, 32, 64]}}, 'training_params': {'epochs': 5, 'verbose': 0, 'loss': 'binary_crossentropy'}, 'metrics': ['accuracy'], 'num_classes': 21}, 'seed': 246918912}\n",
      "2025-03-31 17:00:50,567 - INFO - Starting new experiment experiment_dee5c545.\n",
      "2025-03-31 17:00:50,569 - INFO - Experiment prepared at results\\sample_datamock_data3_classif\\nicon_classification\\experiment_dee5c545\n",
      "2025-03-31 17:00:50,570 - INFO - Finetuning the model\n",
      "[I 2025-03-31 17:00:50,648] A new study created in memory with name: no-name-a6ff038a-ec19-4463-bfac-5d3bf7b44709\n"
     ]
    },
    {
     "name": "stdout",
     "output_type": "stream",
     "text": [
      "Model cloned\n",
      "Model cloned\n",
      "Using framework: tensorflow\n",
      "Model cloned\n",
      "Model cloned\n",
      "Using framework: tensorflow\n",
      "Training fold with shapes: (3093, 1050, 1) (3093, 1) (732, 1050, 1) (732, 1)\n",
      "binary_crossentropy ['accuracy']\n",
      "Training fold with shapes: (3093, 1050, 1) (3093, 1) (732, 1050, 1) (732, 1)\n",
      "binary_crossentropy ['accuracy']\n",
      "Training fold with shapes: (3093, 1050, 1) (3093, 1) (732, 1050, 1) (732, 1)\n",
      "binary_crossentropy ['accuracy']\n",
      "Training fold with shapes: (3093, 1050, 1) (3093, 1) (732, 1050, 1) (732, 1)\n",
      "binary_crossentropy ['accuracy']\n",
      "Training with shapes: (3093, 1050, 1) (3093, 1) (732, 1050, 1) (732, 1)\n",
      "Training fold with shapes: (3093, 1050, 1) (3093, 1) (732, 1050, 1) (732, 1)\n",
      "binary_crossentropy ['accuracy']\n",
      "Training with shapes: (3093, 1050, 1) (3093, 1) (732, 1050, 1) (732, 1)\n",
      "Training with shapes: (3093, 1050, 1) (3093, 1) (732, 1050, 1) (732, 1)\n",
      "Training with shapes: (3093, 1050, 1) (3093, 1) (732, 1050, 1) (732, 1)\n",
      "Training with shapes: (3093, 1050, 1) (3093, 1) (732, 1050, 1) (732, 1)\n"
     ]
    },
    {
     "name": "stderr",
     "output_type": "stream",
     "text": [
      "[W 2025-03-31 17:00:51,184] Trial 2 failed with parameters: {'filters_1': 8, 'filters_2': 32, 'filters_3': 64} because of the following error: ValueError('Arguments `target` and `output` must have the same shape. Received: target.shape=(None, 1), output.shape=(None, 21)').\n",
      "Traceback (most recent call last):\n",
      "  File \"c:\\Workspace\\ML\\nirs4all_env\\lib\\site-packages\\optuna\\study\\_optimize.py\", line 197, in _run_trial\n",
      "    value_or_values = func(trial)\n",
      "  File \"c:\\workspace\\ml\\pinard_wizard\\pinard\\core\\finetuner\\base_finetuner.py\", line 74, in objective\n",
      "    finetune_model_manager.train(dataset, training_params=training_params, metrics=metrics, no_folds=True)\n",
      "  File \"c:\\workspace\\ml\\pinard_wizard\\pinard\\core\\model\\model_manager.py\", line 453, in train\n",
      "    model.fit(x_train, y_train,\n",
      "  File \"c:\\Workspace\\ML\\nirs4all_env\\lib\\site-packages\\keras\\src\\utils\\traceback_utils.py\", line 122, in error_handler\n",
      "    raise e.with_traceback(filtered_tb) from None\n",
      "  File \"c:\\Workspace\\ML\\nirs4all_env\\lib\\site-packages\\keras\\src\\backend\\tensorflow\\nn.py\", line 774, in binary_crossentropy\n",
      "    raise ValueError(\n",
      "ValueError: Arguments `target` and `output` must have the same shape. Received: target.shape=(None, 1), output.shape=(None, 21)\n",
      "[W 2025-03-31 17:00:51,205] Trial 2 failed with value None.\n",
      "[W 2025-03-31 17:00:51,218] Trial 4 failed with parameters: {'filters_1': 32, 'filters_2': 32, 'filters_3': 64} because of the following error: ValueError('Arguments `target` and `output` must have the same shape. Received: target.shape=(None, 1), output.shape=(None, 21)').\n",
      "Traceback (most recent call last):\n",
      "  File \"c:\\Workspace\\ML\\nirs4all_env\\lib\\site-packages\\optuna\\study\\_optimize.py\", line 197, in _run_trial\n",
      "    value_or_values = func(trial)\n",
      "  File \"c:\\workspace\\ml\\pinard_wizard\\pinard\\core\\finetuner\\base_finetuner.py\", line 74, in objective\n",
      "    finetune_model_manager.train(dataset, training_params=training_params, metrics=metrics, no_folds=True)\n",
      "  File \"c:\\workspace\\ml\\pinard_wizard\\pinard\\core\\model\\model_manager.py\", line 453, in train\n",
      "    model.fit(x_train, y_train,\n",
      "  File \"c:\\Workspace\\ML\\nirs4all_env\\lib\\site-packages\\keras\\src\\utils\\traceback_utils.py\", line 122, in error_handler\n",
      "    raise e.with_traceback(filtered_tb) from None\n",
      "  File \"c:\\Workspace\\ML\\nirs4all_env\\lib\\site-packages\\keras\\src\\backend\\tensorflow\\nn.py\", line 774, in binary_crossentropy\n",
      "    raise ValueError(\n",
      "ValueError: Arguments `target` and `output` must have the same shape. Received: target.shape=(None, 1), output.shape=(None, 21)\n",
      "[W 2025-03-31 17:00:51,225] Trial 3 failed with parameters: {'filters_1': 64, 'filters_2': 64, 'filters_3': 64} because of the following error: ValueError('Arguments `target` and `output` must have the same shape. Received: target.shape=(None, 1), output.shape=(None, 21)').\n",
      "Traceback (most recent call last):\n",
      "  File \"c:\\Workspace\\ML\\nirs4all_env\\lib\\site-packages\\optuna\\study\\_optimize.py\", line 197, in _run_trial\n",
      "    value_or_values = func(trial)\n",
      "  File \"c:\\workspace\\ml\\pinard_wizard\\pinard\\core\\finetuner\\base_finetuner.py\", line 74, in objective\n",
      "    finetune_model_manager.train(dataset, training_params=training_params, metrics=metrics, no_folds=True)\n",
      "  File \"c:\\workspace\\ml\\pinard_wizard\\pinard\\core\\model\\model_manager.py\", line 453, in train\n",
      "    model.fit(x_train, y_train,\n",
      "  File \"c:\\Workspace\\ML\\nirs4all_env\\lib\\site-packages\\keras\\src\\utils\\traceback_utils.py\", line 122, in error_handler\n",
      "    raise e.with_traceback(filtered_tb) from None\n",
      "  File \"c:\\Workspace\\ML\\nirs4all_env\\lib\\site-packages\\keras\\src\\backend\\tensorflow\\nn.py\", line 774, in binary_crossentropy\n",
      "    raise ValueError(\n",
      "ValueError: Arguments `target` and `output` must have the same shape. Received: target.shape=(None, 1), output.shape=(None, 21)\n",
      "[W 2025-03-31 17:00:51,231] Trial 4 failed with value None.\n",
      "[W 2025-03-31 17:00:51,242] Trial 1 failed with parameters: {'filters_1': 16, 'filters_2': 8, 'filters_3': 64} because of the following error: ValueError('Arguments `target` and `output` must have the same shape. Received: target.shape=(None, 1), output.shape=(None, 21)').\n",
      "Traceback (most recent call last):\n",
      "  File \"c:\\Workspace\\ML\\nirs4all_env\\lib\\site-packages\\optuna\\study\\_optimize.py\", line 197, in _run_trial\n",
      "    value_or_values = func(trial)\n",
      "  File \"c:\\workspace\\ml\\pinard_wizard\\pinard\\core\\finetuner\\base_finetuner.py\", line 74, in objective\n",
      "    finetune_model_manager.train(dataset, training_params=training_params, metrics=metrics, no_folds=True)\n",
      "  File \"c:\\workspace\\ml\\pinard_wizard\\pinard\\core\\model\\model_manager.py\", line 453, in train\n",
      "    model.fit(x_train, y_train,\n",
      "  File \"c:\\Workspace\\ML\\nirs4all_env\\lib\\site-packages\\keras\\src\\utils\\traceback_utils.py\", line 122, in error_handler\n",
      "    raise e.with_traceback(filtered_tb) from None\n",
      "  File \"c:\\Workspace\\ML\\nirs4all_env\\lib\\site-packages\\keras\\src\\backend\\tensorflow\\nn.py\", line 774, in binary_crossentropy\n",
      "    raise ValueError(\n",
      "ValueError: Arguments `target` and `output` must have the same shape. Received: target.shape=(None, 1), output.shape=(None, 21)\n",
      "[W 2025-03-31 17:00:51,250] Trial 0 failed with parameters: {'filters_1': 16, 'filters_2': 32, 'filters_3': 8} because of the following error: ValueError('Arguments `target` and `output` must have the same shape. Received: target.shape=(None, 1), output.shape=(None, 21)').\n",
      "Traceback (most recent call last):\n",
      "  File \"c:\\Workspace\\ML\\nirs4all_env\\lib\\site-packages\\optuna\\study\\_optimize.py\", line 197, in _run_trial\n",
      "    value_or_values = func(trial)\n",
      "  File \"c:\\workspace\\ml\\pinard_wizard\\pinard\\core\\finetuner\\base_finetuner.py\", line 74, in objective\n",
      "    finetune_model_manager.train(dataset, training_params=training_params, metrics=metrics, no_folds=True)\n",
      "  File \"c:\\workspace\\ml\\pinard_wizard\\pinard\\core\\model\\model_manager.py\", line 453, in train\n",
      "    model.fit(x_train, y_train,\n",
      "  File \"c:\\Workspace\\ML\\nirs4all_env\\lib\\site-packages\\keras\\src\\utils\\traceback_utils.py\", line 122, in error_handler\n",
      "    raise e.with_traceback(filtered_tb) from None\n",
      "  File \"c:\\Workspace\\ML\\nirs4all_env\\lib\\site-packages\\keras\\src\\backend\\tensorflow\\nn.py\", line 774, in binary_crossentropy\n",
      "    raise ValueError(\n",
      "ValueError: Arguments `target` and `output` must have the same shape. Received: target.shape=(None, 1), output.shape=(None, 21)\n",
      "[W 2025-03-31 17:00:51,250] Trial 3 failed with value None.\n",
      "[W 2025-03-31 17:00:51,253] Trial 1 failed with value None.\n",
      "[W 2025-03-31 17:00:51,254] Trial 0 failed with value None.\n"
     ]
    },
    {
     "ename": "ValueError",
     "evalue": "No trials are completed yet.",
     "output_type": "error",
     "traceback": [
      "\u001b[1;31m---------------------------------------------------------------------------\u001b[0m",
      "\u001b[1;31mValueError\u001b[0m                                Traceback (most recent call last)",
      "Cell \u001b[1;32mIn[7], line 209\u001b[0m\n\u001b[0;32m    207\u001b[0m start \u001b[38;5;241m=\u001b[39m time\u001b[38;5;241m.\u001b[39mtime()\n\u001b[0;32m    208\u001b[0m runner \u001b[38;5;241m=\u001b[39m ExperimentRunner([config], resume_mode\u001b[38;5;241m=\u001b[39m\u001b[38;5;124m\"\u001b[39m\u001b[38;5;124mrestart\u001b[39m\u001b[38;5;124m\"\u001b[39m)\n\u001b[1;32m--> 209\u001b[0m dataset, model_manager \u001b[38;5;241m=\u001b[39m \u001b[43mrunner\u001b[49m\u001b[38;5;241;43m.\u001b[39;49m\u001b[43mrun\u001b[49m\u001b[43m(\u001b[49m\u001b[43m)\u001b[49m\n\u001b[0;32m    210\u001b[0m end \u001b[38;5;241m=\u001b[39m time\u001b[38;5;241m.\u001b[39mtime()\n\u001b[0;32m    211\u001b[0m \u001b[38;5;28mprint\u001b[39m(\u001b[38;5;124mf\u001b[39m\u001b[38;5;124m\"\u001b[39m\u001b[38;5;124mTime elapsed: \u001b[39m\u001b[38;5;132;01m{\u001b[39;00mend\u001b[38;5;241m-\u001b[39mstart\u001b[38;5;132;01m}\u001b[39;00m\u001b[38;5;124m seconds\u001b[39m\u001b[38;5;124m\"\u001b[39m)\n",
      "File \u001b[1;32mc:\\workspace\\ml\\pinard_wizard\\pinard\\core\\runner.py:112\u001b[0m, in \u001b[0;36mExperimentRunner.run\u001b[1;34m(self)\u001b[0m\n\u001b[0;32m    110\u001b[0m         \u001b[38;5;28mself\u001b[39m\u001b[38;5;241m.\u001b[39m_train(model_manager, dataset, training_params, metrics, task)\n\u001b[0;32m    111\u001b[0m     \u001b[38;5;28;01melif\u001b[39;00m action \u001b[38;5;241m==\u001b[39m \u001b[38;5;124m'\u001b[39m\u001b[38;5;124mfinetune\u001b[39m\u001b[38;5;124m'\u001b[39m:\n\u001b[1;32m--> 112\u001b[0m         \u001b[38;5;28;43mself\u001b[39;49m\u001b[38;5;241;43m.\u001b[39;49m\u001b[43m_fine_tune\u001b[49m\u001b[43m(\u001b[49m\u001b[43mmodel_manager\u001b[49m\u001b[43m,\u001b[49m\u001b[43m \u001b[49m\u001b[43mdataset\u001b[49m\u001b[43m,\u001b[49m\u001b[43m \u001b[49m\u001b[43mfinetune_params\u001b[49m\u001b[43m,\u001b[49m\u001b[43m \u001b[49m\u001b[43mtraining_params\u001b[49m\u001b[43m,\u001b[49m\u001b[43m \u001b[49m\u001b[43mmetrics\u001b[49m\u001b[43m,\u001b[49m\u001b[43m \u001b[49m\u001b[43mtask\u001b[49m\u001b[43m)\u001b[49m\n\u001b[0;32m    114\u001b[0m \u001b[38;5;28mself\u001b[39m\u001b[38;5;241m.\u001b[39mlogger\u001b[38;5;241m.\u001b[39minfo(\u001b[38;5;124m\"\u001b[39m\u001b[38;5;124mAll experiments completed.\u001b[39m\u001b[38;5;124m\"\u001b[39m)\n\u001b[0;32m    115\u001b[0m \u001b[38;5;28;01mreturn\u001b[39;00m dataset, model_manager\n",
      "File \u001b[1;32mc:\\workspace\\ml\\pinard_wizard\\pinard\\core\\runner.py:326\u001b[0m, in \u001b[0;36mExperimentRunner._fine_tune\u001b[1;34m(self, model_manager, dataset, finetune_params, training_params, metrics, task)\u001b[0m\n\u001b[0;32m    324\u001b[0m finetuner_type \u001b[38;5;241m=\u001b[39m finetune_params\u001b[38;5;241m.\u001b[39mget(\u001b[38;5;124m'\u001b[39m\u001b[38;5;124mtuner\u001b[39m\u001b[38;5;124m'\u001b[39m, \u001b[38;5;124m'\u001b[39m\u001b[38;5;124moptuna\u001b[39m\u001b[38;5;124m'\u001b[39m)\n\u001b[0;32m    325\u001b[0m finetuner \u001b[38;5;241m=\u001b[39m FineTunerFactory\u001b[38;5;241m.\u001b[39mget_fine_tuner(finetuner_type, model_manager)\n\u001b[1;32m--> 326\u001b[0m best_params \u001b[38;5;241m=\u001b[39m \u001b[43mfinetuner\u001b[49m\u001b[38;5;241;43m.\u001b[39;49m\u001b[43mfinetune\u001b[49m\u001b[43m(\u001b[49m\u001b[43mdataset\u001b[49m\u001b[43m,\u001b[49m\u001b[43m \u001b[49m\u001b[43mfinetune_params\u001b[49m\u001b[43m,\u001b[49m\u001b[43m \u001b[49m\u001b[43mtraining_params\u001b[49m\u001b[43m,\u001b[49m\u001b[43m \u001b[49m\u001b[43mmetrics\u001b[49m\u001b[38;5;241;43m=\u001b[39;49m\u001b[43mmetrics\u001b[49m\u001b[43m,\u001b[49m\u001b[43m \u001b[49m\u001b[43mtask\u001b[49m\u001b[38;5;241;43m=\u001b[39;49m\u001b[43mtask\u001b[49m\u001b[43m)\u001b[49m\n\u001b[0;32m    327\u001b[0m model_manager\u001b[38;5;241m.\u001b[39msave_model(os\u001b[38;5;241m.\u001b[39mpath\u001b[38;5;241m.\u001b[39mjoin(\u001b[38;5;28mself\u001b[39m\u001b[38;5;241m.\u001b[39mmanager\u001b[38;5;241m.\u001b[39mexperiment_path, \u001b[38;5;124m\"\u001b[39m\u001b[38;5;124mmodel\u001b[39m\u001b[38;5;124m\"\u001b[39m))\n\u001b[0;32m    328\u001b[0m \u001b[38;5;28mself\u001b[39m\u001b[38;5;241m.\u001b[39m_evaluate_and_save_results(model_manager, dataset, metrics, best_params, task\u001b[38;5;241m=\u001b[39mtask)\n",
      "File \u001b[1;32mc:\\workspace\\ml\\pinard_wizard\\pinard\\core\\finetuner\\base_finetuner.py:97\u001b[0m, in \u001b[0;36mOptunaFineTuner.finetune\u001b[1;34m(self, dataset, finetune_params, src_training_params, metrics, task)\u001b[0m\n\u001b[0;32m     94\u001b[0m study \u001b[38;5;241m=\u001b[39m optuna\u001b[38;5;241m.\u001b[39mcreate_study(direction\u001b[38;5;241m=\u001b[39m\u001b[38;5;124m\"\u001b[39m\u001b[38;5;124mminimize\u001b[39m\u001b[38;5;124m\"\u001b[39m)\n\u001b[0;32m     95\u001b[0m study\u001b[38;5;241m.\u001b[39moptimize(objective, n_trials\u001b[38;5;241m=\u001b[39mfinetune_params\u001b[38;5;241m.\u001b[39mget(\u001b[38;5;124m'\u001b[39m\u001b[38;5;124mn_trials\u001b[39m\u001b[38;5;124m'\u001b[39m, \u001b[38;5;241m100\u001b[39m), n_jobs\u001b[38;5;241m=\u001b[39m\u001b[38;5;241m-\u001b[39m\u001b[38;5;241m1\u001b[39m)\n\u001b[1;32m---> 97\u001b[0m best_params \u001b[38;5;241m=\u001b[39m \u001b[43mstudy\u001b[49m\u001b[38;5;241;43m.\u001b[39;49m\u001b[43mbest_params\u001b[49m\n\u001b[0;32m     98\u001b[0m \u001b[38;5;66;03m# print(f\"Best hyperparameters: {best_params}\")\u001b[39;00m\n\u001b[0;32m     99\u001b[0m \n\u001b[0;32m    100\u001b[0m \u001b[38;5;66;03m# Update the model_manager with the best model\u001b[39;00m\n\u001b[0;32m    101\u001b[0m \u001b[38;5;66;03m# best_trial = study.best_trial\u001b[39;00m\n\u001b[0;32m    102\u001b[0m \u001b[38;5;66;03m# Rebuild the model with best parameters\u001b[39;00m\n\u001b[0;32m    103\u001b[0m best_model_params \u001b[38;5;241m=\u001b[39m {}\n",
      "File \u001b[1;32mc:\\Workspace\\ML\\nirs4all_env\\lib\\site-packages\\optuna\\study\\study.py:119\u001b[0m, in \u001b[0;36mStudy.best_params\u001b[1;34m(self)\u001b[0m\n\u001b[0;32m    107\u001b[0m \u001b[38;5;129m@property\u001b[39m\n\u001b[0;32m    108\u001b[0m \u001b[38;5;28;01mdef\u001b[39;00m\u001b[38;5;250m \u001b[39m\u001b[38;5;21mbest_params\u001b[39m(\u001b[38;5;28mself\u001b[39m) \u001b[38;5;241m-\u001b[39m\u001b[38;5;241m>\u001b[39m \u001b[38;5;28mdict\u001b[39m[\u001b[38;5;28mstr\u001b[39m, Any]:\n\u001b[0;32m    109\u001b[0m \u001b[38;5;250m    \u001b[39m\u001b[38;5;124;03m\"\"\"Return parameters of the best trial in the study.\u001b[39;00m\n\u001b[0;32m    110\u001b[0m \n\u001b[0;32m    111\u001b[0m \u001b[38;5;124;03m    .. note::\u001b[39;00m\n\u001b[1;32m   (...)\u001b[0m\n\u001b[0;32m    116\u001b[0m \n\u001b[0;32m    117\u001b[0m \u001b[38;5;124;03m    \"\"\"\u001b[39;00m\n\u001b[1;32m--> 119\u001b[0m     \u001b[38;5;28;01mreturn\u001b[39;00m \u001b[38;5;28;43mself\u001b[39;49m\u001b[38;5;241;43m.\u001b[39;49m\u001b[43mbest_trial\u001b[49m\u001b[38;5;241m.\u001b[39mparams\n",
      "File \u001b[1;32mc:\\Workspace\\ML\\nirs4all_env\\lib\\site-packages\\optuna\\study\\study.py:162\u001b[0m, in \u001b[0;36mStudy.best_trial\u001b[1;34m(self)\u001b[0m\n\u001b[0;32m    156\u001b[0m \u001b[38;5;28;01mif\u001b[39;00m \u001b[38;5;28mself\u001b[39m\u001b[38;5;241m.\u001b[39m_is_multi_objective():\n\u001b[0;32m    157\u001b[0m     \u001b[38;5;28;01mraise\u001b[39;00m \u001b[38;5;167;01mRuntimeError\u001b[39;00m(\n\u001b[0;32m    158\u001b[0m         \u001b[38;5;124m\"\u001b[39m\u001b[38;5;124mA single best trial cannot be retrieved from a multi-objective study. Consider \u001b[39m\u001b[38;5;124m\"\u001b[39m\n\u001b[0;32m    159\u001b[0m         \u001b[38;5;124m\"\u001b[39m\u001b[38;5;124musing Study.best_trials to retrieve a list containing the best trials.\u001b[39m\u001b[38;5;124m\"\u001b[39m\n\u001b[0;32m    160\u001b[0m     )\n\u001b[1;32m--> 162\u001b[0m best_trial \u001b[38;5;241m=\u001b[39m \u001b[38;5;28;43mself\u001b[39;49m\u001b[38;5;241;43m.\u001b[39;49m\u001b[43m_storage\u001b[49m\u001b[38;5;241;43m.\u001b[39;49m\u001b[43mget_best_trial\u001b[49m\u001b[43m(\u001b[49m\u001b[38;5;28;43mself\u001b[39;49m\u001b[38;5;241;43m.\u001b[39;49m\u001b[43m_study_id\u001b[49m\u001b[43m)\u001b[49m\n\u001b[0;32m    164\u001b[0m \u001b[38;5;66;03m# If the trial with the best value is infeasible, select the best trial from all feasible\u001b[39;00m\n\u001b[0;32m    165\u001b[0m \u001b[38;5;66;03m# trials. Note that the behavior is undefined when constrained optimization without the\u001b[39;00m\n\u001b[0;32m    166\u001b[0m \u001b[38;5;66;03m# violation value in the best-valued trial.\u001b[39;00m\n\u001b[0;32m    167\u001b[0m constraints \u001b[38;5;241m=\u001b[39m best_trial\u001b[38;5;241m.\u001b[39msystem_attrs\u001b[38;5;241m.\u001b[39mget(_CONSTRAINTS_KEY)\n",
      "File \u001b[1;32mc:\\Workspace\\ML\\nirs4all_env\\lib\\site-packages\\optuna\\storages\\_in_memory.py:249\u001b[0m, in \u001b[0;36mInMemoryStorage.get_best_trial\u001b[1;34m(self, study_id)\u001b[0m\n\u001b[0;32m    246\u001b[0m best_trial_id \u001b[38;5;241m=\u001b[39m \u001b[38;5;28mself\u001b[39m\u001b[38;5;241m.\u001b[39m_studies[study_id]\u001b[38;5;241m.\u001b[39mbest_trial_id\n\u001b[0;32m    248\u001b[0m \u001b[38;5;28;01mif\u001b[39;00m best_trial_id \u001b[38;5;129;01mis\u001b[39;00m \u001b[38;5;28;01mNone\u001b[39;00m:\n\u001b[1;32m--> 249\u001b[0m     \u001b[38;5;28;01mraise\u001b[39;00m \u001b[38;5;167;01mValueError\u001b[39;00m(\u001b[38;5;124m\"\u001b[39m\u001b[38;5;124mNo trials are completed yet.\u001b[39m\u001b[38;5;124m\"\u001b[39m)\n\u001b[0;32m    250\u001b[0m \u001b[38;5;28;01melif\u001b[39;00m \u001b[38;5;28mlen\u001b[39m(\u001b[38;5;28mself\u001b[39m\u001b[38;5;241m.\u001b[39m_studies[study_id]\u001b[38;5;241m.\u001b[39mdirections) \u001b[38;5;241m>\u001b[39m \u001b[38;5;241m1\u001b[39m:\n\u001b[0;32m    251\u001b[0m     \u001b[38;5;28;01mraise\u001b[39;00m \u001b[38;5;167;01mRuntimeError\u001b[39;00m(\n\u001b[0;32m    252\u001b[0m         \u001b[38;5;124m\"\u001b[39m\u001b[38;5;124mBest trial can be obtained only for single-objective optimization.\u001b[39m\u001b[38;5;124m\"\u001b[39m\n\u001b[0;32m    253\u001b[0m     )\n",
      "\u001b[1;31mValueError\u001b[0m: No trials are completed yet."
     ]
    }
   ],
   "source": [
    "%reload_ext autoreload\n",
    "%autoreload 2\n",
    "\n",
    "import sys\n",
    "import os\n",
    "sys.path.append(os.path.abspath(os.path.join(os.path.dirname('__file__'), '..')))\n",
    "\n",
    "import time\n",
    "from pinard.presets.ref_models import decon, nicon, customizable_nicon, nicon_classification\n",
    "from pinard.presets.preprocessings import decon_set, nicon_set\n",
    "from pinard.data_splitters import KennardStoneSplitter\n",
    "from pinard.transformations import StandardNormalVariate as SNV, SavitzkyGolay as SG, Gaussian as GS, Derivate as  Dv\n",
    "from pinard.transformations import Rotate_Translate as RT, Spline_X_Simplification as SXS, Random_X_Operation as RXO\n",
    "from pinard.transformations import CropTransformer\n",
    "from pinard.core.runner import ExperimentRunner\n",
    "from pinard.core.config import Config\n",
    "\n",
    "from sklearn.ensemble import RandomForestClassifier\n",
    "from sklearn.model_selection import KFold, RepeatedKFold, StratifiedKFold, RepeatedStratifiedKFold, ShuffleSplit, GroupKFold, StratifiedShuffleSplit, BaseCrossValidator, TimeSeriesSplit\n",
    "from sklearn.preprocessing import StandardScaler, MinMaxScaler, RobustScaler\n",
    "import warnings\n",
    "from sklearn.exceptions import ConvergenceWarning\n",
    "\n",
    "warnings.filterwarnings(\"ignore\", category=ConvergenceWarning)\n",
    "warnings.filterwarnings(\"ignore\", category=UserWarning)\n",
    "warnings.filterwarnings(\"ignore\", category=FutureWarning)\n",
    "\n",
    "\n",
    "model_sklearn = {\n",
    "    \"class\": \"sklearn.cross_decomposition.PLSRegression\",\n",
    "    \"model_params\": {\n",
    "        \"n_components\": 21,\n",
    "    }\n",
    "}\n",
    "    \n",
    "finetune_pls_experiment = {\n",
    "    \"action\": \"finetune\",\n",
    "    \"finetune_params\": {\n",
    "        'model_params': {\n",
    "            'n_components': ('int', 5, 20),\n",
    "        },\n",
    "        'training_params': {},\n",
    "        'tuner': 'sklearn'\n",
    "    }\n",
    "}\n",
    "\n",
    "bacon_train = {\"action\": \"train\", \"training_params\": {\"epochs\": 2000, \"batch_size\": 500, \"patience\": 200, \"cyclic_lr\": True, \"base_lr\": 1e-6, \"max_lr\": 1e-3, \"step_size\": 400}}\n",
    "bacon_train_short = {\"action\": \"train\", \"training_params\": {\"epochs\": 10, \"batch_size\": 500, \"patience\": 20, \"cyclic_lr\": True, \"base_lr\": 1e-6, \"max_lr\": 1e-3, \"step_size\": 40}}\n",
    "bacon_finetune = {\n",
    "    \"action\": \"finetune\",\n",
    "    \"finetune_params\": {\n",
    "        \"n_trials\": 5,\n",
    "        \"model_params\": {\n",
    "            \"filters_1\": [8, 16, 32, 64], \n",
    "            \"filters_2\": [8, 16, 32, 64], \n",
    "            \"filters_3\": [8, 16, 32, 64]\n",
    "        }\n",
    "    },\n",
    "    \"training_params\": {\n",
    "        \"epochs\": 10,\n",
    "        \"verbose\":0\n",
    "    }\n",
    "}\n",
    "\n",
    "full_bacon_finetune = {\n",
    "    \"action\": \"finetune\",\n",
    "    \"training_params\": {\n",
    "        \"epochs\": 500,\n",
    "        \"patience\": 100,\n",
    "    },\n",
    "    \"finetune_params\": {\n",
    "        \"nb_trials\": 150,\n",
    "        \"model_params\": {\n",
    "            'spatial_dropout': (float, 0.01, 0.5),\n",
    "            'filters1': [4, 8, 16, 32, 64, 128, 256],\n",
    "            'kernel_size1': [3, 5, 7, 9, 11, 13, 15],\n",
    "            # 'strides1': [1, 2, 3, 4, 5],\n",
    "            # 'activation1': ['relu', 'selu', 'elu', 'swish'],\n",
    "            'dropout_rate': (float, 0.01, 0.5),\n",
    "            'filters2': [4, 8, 16, 32, 64, 128, 256],\n",
    "            # 'kernel_size2': [3, 5, 7, 9, 11, 13, 15],\n",
    "            # 'strides2': [1, 2, 3, 4, 5],\n",
    "            'activation2': ['relu', 'selu', 'elu', 'swish'],\n",
    "            'normalization_method1': ['BatchNormalization', 'LayerNormalization'],\n",
    "            'filters3': [4, 8, 16, 32, 64, 128, 256],\n",
    "            # 'kernel_size3': [3, 5, 7, 9, 11, 13, 15],\n",
    "            # 'strides3': [1, 2, 3, 4, 5],\n",
    "            'activation3': ['relu', 'selu', 'elu', 'swish'],\n",
    "            # 'normalization_method2': ['BatchNormalization', 'LayerNormalization'],\n",
    "            # 'dense_units': [4, 8, 16, 32, 64, 128, 256],\n",
    "            'dense_activation': ['relu', 'selu', 'elu', 'swish'],\n",
    "        },\n",
    "        # \"training_params\": {\n",
    "        #     \"batch_size\": [32, 64, 128, 256, 512],\n",
    "        #     \"cyclic_lr\": [True, False],\n",
    "        #     \"base_lr\": (float, 1e-6, 1e-2),\n",
    "        #     \"max_lr\": (float, 1e-3, 1e-1),\n",
    "        #     \"step_size\": (int, 500, 5000),\n",
    "        # },\n",
    "    }\n",
    "}\n",
    "\n",
    "\n",
    "x_pipeline_full = [\n",
    "    RobustScaler(),\n",
    "    {\"samples\": [None, None,None,None,SXS, RXO]},\n",
    "    {\"split\": RepeatedKFold(n_splits=3, n_repeats=1)},\n",
    "    {\"features\": [None, GS(2,1), SG, SNV, Dv, [GS, SNV], [GS, GS],[GS, SG],[SG, SNV], [GS, Dv], [SG, Dv]]},\n",
    "    MinMaxScaler()\n",
    "]\n",
    "\n",
    "\n",
    "bacon_finetune_classif = {\n",
    "    \"action\": \"finetune\",\n",
    "    \"task\": \"classification\",\n",
    "    \"finetune_params\": {\n",
    "        \"n_trials\": 5,\n",
    "        \"model_params\": {\n",
    "            \"filters_1\": [8, 16, 32, 64], \n",
    "            \"filters_2\": [8, 16, 32, 64], \n",
    "            \"filters_3\": [8, 16, 32, 64]\n",
    "        }\n",
    "    },\n",
    "    \"training_params\": {\n",
    "        \"epochs\": 5,\n",
    "        \"verbose\":0\n",
    "    }\n",
    "}\n",
    "\n",
    "finetune_randomForestclassifier = {\n",
    "    \"action\": \"finetune\",\n",
    "    \"task\": \"classification\",\n",
    "    \"finetune_params\": {\n",
    "        'model_params': {\n",
    "            'n_estimators': ('int', 5, 20),\n",
    "        },\n",
    "        'training_params': {},\n",
    "        'tuner': 'sklearn'\n",
    "    }\n",
    "}\n",
    "\n",
    "x_pipeline_PLS = [\n",
    "    RobustScaler(),\n",
    "    {\"split\": RepeatedKFold(n_splits=3, n_repeats=1)},\n",
    "    {\"features\": [None, GS(2,1), SG, SNV, Dv, [GS, SNV], [GS, GS],[GS, SG],[SG, SNV], [GS, Dv], [SG, Dv]]},\n",
    "    MinMaxScaler()\n",
    "]\n",
    "            \n",
    "            \n",
    "x_pipeline = [\n",
    "    RobustScaler(), \n",
    "    {\"split\": RepeatedKFold(n_splits=3, n_repeats=1)}, \n",
    "    # bacon_set(),\n",
    "    MinMaxScaler()\n",
    "]\n",
    "\n",
    "x_pipelineb = [\n",
    "    RobustScaler(), \n",
    "    {\"samples\": [RT(6)], \"balance\": True},\n",
    "    \n",
    "    # {\"samples\": [None, RT]},\n",
    "    \n",
    "    {\"split\": RepeatedKFold(n_splits=3, n_repeats=1)}, \n",
    "    \n",
    "    # {\"features\": \n",
    "        \n",
    "        # },\n",
    "    \n",
    "    MinMaxScaler()\n",
    "]\n",
    "\n",
    "\n",
    "seed = 123459456\n",
    "\n",
    "datasets = \"sample_data/mock_data3_classif\"\n",
    "y_pipeline = MinMaxScaler()\n",
    "# processing only\n",
    "config1 = Config(\"sample_data/Malaria2024\", x_pipeline_full, y_pipeline, None, None, seed)\n",
    "## TRAINING\n",
    "# regression\n",
    "config2 = Config(\"sample_data/mock_data2\", x_pipeline, y_pipeline, nicon, bacon_train_short, seed)\n",
    "config3 = Config(\"sample_data/mock_data3\", x_pipeline_PLS, y_pipeline, model_sklearn, None, seed)\n",
    "# classification\n",
    "config4 = Config(\"sample_data/mock_data3_classif\", x_pipeline, None, nicon_classification, {\"task\":\"classification\", \"training_params\":{\"epochs\":10, \"patience\": 100, \"verbose\":0}}, seed*2)\n",
    "config4b = Config(\"sample_data/Malaria2024\", x_pipelineb, None, nicon_classification, {\"task\":\"classification\", \"training_params\":{\"epochs\":10, \"patience\": 100, \"verbose\":0}}, seed*2)\n",
    "config5 = Config(\"sample_data/mock_data3_binary\", x_pipeline, None, nicon_classification, {\"task\":\"classification\", \"training_params\":{\"epochs\":5}, \"verbose\":0}, seed*2)\n",
    "config6 = Config(\"sample_data/WhiskyConcentration\", x_pipeline, None, RandomForestClassifier, {\"task\":\"classification\"}, seed*2)\n",
    "config7 = Config(\"sample_data/Malaria2024\", x_pipeline, None, RandomForestClassifier, {\"task\":\"classification\"}, seed*2)\n",
    "## FINETUNING\n",
    "# regression\n",
    "config8 = Config(\"sample_data/mock_data3\", x_pipeline, y_pipeline, nicon, bacon_finetune, seed)\n",
    "config9 = Config(\"sample_data/mock_data3\", x_pipeline, y_pipeline, model_sklearn, finetune_pls_experiment, seed)\n",
    "# classification\n",
    "config10 = Config(\"sample_data/Malaria2024\", x_pipeline, None, nicon_classification, bacon_finetune_classif, seed*2)\n",
    "config10b = Config(\"sample_data/mock_data3_classif\", x_pipeline, None, nicon_classification, bacon_finetune_classif, seed*2)\n",
    "config11 = Config(\"sample_data/Malaria2024\", x_pipelineb, None, RandomForestClassifier, finetune_randomForestclassifier, seed*2)\n",
    "config11b = Config(\"sample_data/mock_data3_classif\", x_pipeline, None, RandomForestClassifier, finetune_randomForestclassifier, seed*2)\n",
    "\n",
    "\n",
    "# configs = [config1, config2, config3, config4, config4b, config5, config6, config7, config8, config9, config10, config10b, config11, config11b]\n",
    "configs = [config10b, config11, config11b]\n",
    "config_names = [\"config1\", \"config2\", \"config3\", \"config4\", \"config4b\", \"config5\", \"config6\", \"config7\", \"config8\", \"config9\", \"config10\", \"config10b\", \"config11\", \"config11b\"]\n",
    "for i, config in enumerate(configs):\n",
    "    print(\"#\" * 20)\n",
    "    print(f\"Config {i}: {config_names[i]}\")\n",
    "    print(\"#\" * 20)\n",
    "    start = time.time()\n",
    "    runner = ExperimentRunner([config], resume_mode=\"restart\")\n",
    "    dataset, model_manager = runner.run()\n",
    "    end = time.time()\n",
    "    print(f\"Time elapsed: {end-start} seconds\")\n"
   ]
  }
 ],
 "metadata": {
  "kernelspec": {
   "display_name": "nirs4all_env",
   "language": "python",
   "name": "python3"
  },
  "language_info": {
   "codemirror_mode": {
    "name": "ipython",
    "version": 3
   },
   "file_extension": ".py",
   "mimetype": "text/x-python",
   "name": "python",
   "nbconvert_exporter": "python",
   "pygments_lexer": "ipython3",
   "version": "3.10.11"
  }
 },
 "nbformat": 4,
 "nbformat_minor": 5
}
