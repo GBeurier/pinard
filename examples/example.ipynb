{
 "cells": [
  {
   "cell_type": "code",
   "execution_count": 2,
   "metadata": {},
   "outputs": [],
   "source": [
    "### init random seeds\n",
    "rd_seed = 13246\n",
    "# np.random.seed(rd_seed)\n",
    "# tensorflow.random.set_seed(rd_seed)\n",
    "\n",
    "from sklearn.pipeline import Pipeline\n",
    "from pinard import preprocessor as pp\n",
    "\n",
    "### Declare preprocessing pipeline components\n",
    "preprocessing = [   ('id', pp.IdentityTransformer()),\n",
    "                    ('savgol', pp.SavitzkyGolay()),\n",
    "                    ('derivate', pp.Derivate()), \n",
    "                    ('gaussian1', pp.Gaussian(order = 1, sigma = 2)),\n",
    "                    ('gaussian2', pp.Gaussian(order = 2, sigma = 1)),\n",
    "                    ('haar', pp.Wavelet('haar')),\n",
    "                    ('savgol*savgol', Pipeline([('_sg1',pp.SavitzkyGolay()),('_sg2',pp.SavitzkyGolay())])),\n",
    "                    ('gaussian1*savgol', Pipeline([('_g1',pp.Gaussian(order = 1, sigma = 2)),('_sg3',pp.SavitzkyGolay())])),\n",
    "                    ('gaussian2*savgol', Pipeline([('_g2',pp.Gaussian(order = 1, sigma = 2)),('_sg4',pp.SavitzkyGolay())])),\n",
    "                    ('haar*savgol', Pipeline([('_haar2',pp.Wavelet('haar')),('_sg5',pp.SavitzkyGolay())]))\n",
    "                ]"
   ]
  },
  {
   "cell_type": "code",
   "execution_count": null,
   "metadata": {},
   "outputs": [],
   "source": [
    "from pinard import nirs_set as n_set\n",
    "\n",
    "### Load data\n",
    "n = n_set.NIRS_Set('data')\n",
    "X, y = n.load('Xcal.csv', 'Ycal.csv', x_hdr=0, y_hdr=0)\n",
    "print(X[0:10])"
   ]
  }
 ],
 "metadata": {
  "interpreter": {
   "hash": "0f8d3e8f8c7640fbbf35b62c8de936b6d82f4a593a89ad30b44a7b3fb146f57e"
  },
  "kernelspec": {
   "display_name": "Python 3.7.6 ('PyNIRS_env')",
   "language": "python",
   "name": "python3"
  },
  "language_info": {
   "codemirror_mode": {
    "name": "ipython",
    "version": 3
   },
   "file_extension": ".py",
   "mimetype": "text/x-python",
   "name": "python",
   "nbconvert_exporter": "python",
   "pygments_lexer": "ipython3",
   "version": "3.7.6"
  },
  "orig_nbformat": 4
 },
 "nbformat": 4,
 "nbformat_minor": 2
}
