{
 "cells": [
  {
   "cell_type": "code",
   "execution_count": null,
   "metadata": {},
   "outputs": [],
   "source": [
    "%pip install pinard"
   ]
  },
  {
   "cell_type": "code",
   "execution_count": null,
   "metadata": {},
   "outputs": [],
   "source": [
    "## Generate preprocessing test data - Snapshot (XX-XX-XX - commit:)\n",
    "import numpy as np\n",
    "import pandas as pd\n",
    "\n",
    "from sklearn.pipeline import Pipeline, FeatureUnion\n",
    "from pinard import preprocessor as pp\n",
    "from pinard.nirs_pipelines import FeatureAugmentation\n",
    "\n",
    "x_fname = 'test_preprocessing_src.csv'\n",
    "x_df = pd.read_csv(x_fname, sep=';', header=None)\n",
    "x = x_df.astype(np.float32).values\n",
    "\n",
    "preprocessing = [   ('Id', pp.IdentityTransformer()),\n",
    "                    ('Baseline', pp.Baseline()),\n",
    "                    ('StandardNormalVariate', pp.StandardNormalVariate()), \n",
    "                    ('RobustNormalVariate', pp.RobustNormalVariate()),\n",
    "                    ('SavitzkyGolay', pp.SavitzkyGolay()),\n",
    "                    ('Normalize', pp.Normalize()),\n",
    "                    ('Detrend', pp.Detrend()),\n",
    "                    ('MultiplicativeScatterCorrection', pp.MultiplicativeScatterCorrection()),\n",
    "                    ('Derivate', pp.Derivate()),\n",
    "                    ('Gaussian', pp.Gaussian(order = 2, sigma = 1)),\n",
    "                    ('Wavelet', pp.Wavelet()),\n",
    "                    ('SimpleScale', pp.SimpleScale()),\n",
    "                ]\n",
    "\n",
    "pipeline = FeatureAugmentation(preprocessing)\n",
    "xt = pipeline.fit_transform(x)\n",
    "xtt = np.swapaxes(xt, 1, 2)\n",
    "a = pp.baseline(x)[0]\n",
    "xtt = np.concatenate(xtt)\n",
    "b = xtt[0:12,:]\n",
    "np.savetxt(\"test_preprocessing_validation.csv\", b, delimiter=\";\")\n",
    "np.savetxt(\"test_data.csv\", x, delimiter=\";\")"
   ]
  },
  {
   "cell_type": "code",
   "execution_count": 73,
   "metadata": {},
   "outputs": [
    {
     "name": "stdout",
     "output_type": "stream",
     "text": [
      "> 61 21\n",
      "> 61 21\n",
      "> 61 21\n",
      "(61,)\n",
      "> 61 21\n",
      "> 61 21\n",
      "> 61 21\n"
     ]
    },
    {
     "ename": "ValueError",
     "evalue": "The number of observations (164) is too small; the covariance matrix is singular. For observations with 312 dimensions, at least 313 observations are required.",
     "output_type": "error",
     "traceback": [
      "\u001b[1;31m---------------------------------------------------------------------------\u001b[0m",
      "\u001b[1;31mValueError\u001b[0m                                Traceback (most recent call last)",
      "\u001b[1;32m~\\AppData\\Local\\Temp/ipykernel_27160/3423344869.py\u001b[0m in \u001b[0;36m<module>\u001b[1;34m\u001b[0m\n\u001b[0;32m     34\u001b[0m \u001b[0mtest_data\u001b[0m \u001b[1;33m=\u001b[0m \u001b[0mnp\u001b[0m\u001b[1;33m.\u001b[0m\u001b[0mcolumn_stack\u001b[0m\u001b[1;33m(\u001b[0m\u001b[1;33m(\u001b[0m\u001b[0mtest_data\u001b[0m\u001b[1;33m,\u001b[0m \u001b[0mtrain_index\u001b[0m\u001b[1;33m)\u001b[0m\u001b[1;33m)\u001b[0m\u001b[1;33m\u001b[0m\u001b[1;33m\u001b[0m\u001b[0m\n\u001b[0;32m     35\u001b[0m \u001b[1;33m\u001b[0m\u001b[0m\n\u001b[1;32m---> 36\u001b[1;33m \u001b[0mtrain_index\u001b[0m\u001b[1;33m,\u001b[0m \u001b[0mtest_index\u001b[0m \u001b[1;33m=\u001b[0m \u001b[0mmodel_selection\u001b[0m\u001b[1;33m.\u001b[0m\u001b[0mtrain_test_split_idx\u001b[0m\u001b[1;33m(\u001b[0m\u001b[0mx\u001b[0m\u001b[1;33m,\u001b[0m \u001b[0mmethod\u001b[0m\u001b[1;33m=\u001b[0m\u001b[1;34m\"kennard_stone\"\u001b[0m\u001b[1;33m,\u001b[0m \u001b[0mtest_size\u001b[0m\u001b[1;33m=\u001b[0m\u001b[1;36m0.25\u001b[0m\u001b[1;33m,\u001b[0m \u001b[0mrandom_state\u001b[0m\u001b[1;33m=\u001b[0m\u001b[1;36m42\u001b[0m\u001b[1;33m,\u001b[0m \u001b[0mmetric\u001b[0m\u001b[1;33m=\u001b[0m\u001b[1;34m'mahalanobis'\u001b[0m\u001b[1;33m)\u001b[0m\u001b[1;33m\u001b[0m\u001b[1;33m\u001b[0m\u001b[0m\n\u001b[0m\u001b[0;32m     37\u001b[0m \u001b[0mtest_data\u001b[0m \u001b[1;33m=\u001b[0m \u001b[0mnp\u001b[0m\u001b[1;33m.\u001b[0m\u001b[0mcolumn_stack\u001b[0m\u001b[1;33m(\u001b[0m\u001b[1;33m(\u001b[0m\u001b[0mtest_data\u001b[0m\u001b[1;33m,\u001b[0m \u001b[0mtrain_index\u001b[0m\u001b[1;33m)\u001b[0m\u001b[1;33m)\u001b[0m\u001b[1;33m\u001b[0m\u001b[1;33m\u001b[0m\u001b[0m\n\u001b[0;32m     38\u001b[0m \u001b[1;33m\u001b[0m\u001b[0m\n",
      "\u001b[1;32md:\\Workspace\\ML\\pinard\\pinard\\pinard\\model_selection\\_helpers.py\u001b[0m in \u001b[0;36mtrain_test_split_idx\u001b[1;34m(y, test_size, method, random_state, metric, pca_components, n_bins, train_size, *x)\u001b[0m\n\u001b[0;32m     59\u001b[0m             \u001b[0mrandom_state\u001b[0m\u001b[1;33m=\u001b[0m\u001b[0mrandom_state\u001b[0m\u001b[1;33m,\u001b[0m\u001b[1;33m\u001b[0m\u001b[1;33m\u001b[0m\u001b[0m\n\u001b[0;32m     60\u001b[0m             \u001b[0mpca_components\u001b[0m\u001b[1;33m=\u001b[0m\u001b[0mpca_components\u001b[0m\u001b[1;33m,\u001b[0m\u001b[1;33m\u001b[0m\u001b[1;33m\u001b[0m\u001b[0m\n\u001b[1;32m---> 61\u001b[1;33m             \u001b[0mmetric\u001b[0m\u001b[1;33m=\u001b[0m\u001b[0mmetric\u001b[0m\u001b[1;33m,\u001b[0m\u001b[1;33m\u001b[0m\u001b[1;33m\u001b[0m\u001b[0m\n\u001b[0m\u001b[0;32m     62\u001b[0m         )\n\u001b[0;32m     63\u001b[0m     \u001b[1;32melif\u001b[0m \u001b[0mmethod\u001b[0m \u001b[1;33m==\u001b[0m \u001b[1;34m\"spxy\"\u001b[0m\u001b[1;33m:\u001b[0m\u001b[1;33m\u001b[0m\u001b[1;33m\u001b[0m\u001b[0m\n",
      "\u001b[1;32md:\\Workspace\\ML\\pinard\\pinard\\pinard\\model_selection\\_nirs_sampling.py\u001b[0m in \u001b[0;36mks_sampling\u001b[1;34m(data, test_size, random_state, pca_components, metric)\u001b[0m\n\u001b[0;32m    108\u001b[0m \u001b[1;33m\u001b[0m\u001b[0m\n\u001b[0;32m    109\u001b[0m     \u001b[1;32mif\u001b[0m \u001b[0mn_train\u001b[0m \u001b[1;33m>\u001b[0m \u001b[1;36m2\u001b[0m\u001b[1;33m:\u001b[0m\u001b[1;33m\u001b[0m\u001b[1;33m\u001b[0m\u001b[0m\n\u001b[1;32m--> 110\u001b[1;33m         \u001b[0mdistance\u001b[0m \u001b[1;33m=\u001b[0m \u001b[0mcdist\u001b[0m\u001b[1;33m(\u001b[0m\u001b[0mdata\u001b[0m\u001b[1;33m,\u001b[0m \u001b[0mdata\u001b[0m\u001b[1;33m,\u001b[0m \u001b[0mmetric\u001b[0m\u001b[1;33m=\u001b[0m\u001b[0mmetric\u001b[0m\u001b[1;33m)\u001b[0m\u001b[1;33m\u001b[0m\u001b[1;33m\u001b[0m\u001b[0m\n\u001b[0m\u001b[0;32m    111\u001b[0m         \u001b[1;32mreturn\u001b[0m \u001b[0m_max_min_distance_split\u001b[0m\u001b[1;33m(\u001b[0m\u001b[0mdistance\u001b[0m\u001b[1;33m,\u001b[0m \u001b[0mn_train\u001b[0m\u001b[1;33m)\u001b[0m\u001b[1;33m\u001b[0m\u001b[1;33m\u001b[0m\u001b[0m\n\u001b[0;32m    112\u001b[0m     \u001b[1;32melse\u001b[0m\u001b[1;33m:\u001b[0m\u001b[1;33m\u001b[0m\u001b[1;33m\u001b[0m\u001b[0m\n",
      "\u001b[1;32md:\\Workspace\\ML\\pynirsENV\\lib\\site-packages\\scipy\\spatial\\distance.py\u001b[0m in \u001b[0;36mcdist\u001b[1;34m(XA, XB, metric, out, **kwargs)\u001b[0m\n\u001b[0;32m   2952\u001b[0m         \u001b[1;32mif\u001b[0m \u001b[0mmetric_info\u001b[0m \u001b[1;32mis\u001b[0m \u001b[1;32mnot\u001b[0m \u001b[1;32mNone\u001b[0m\u001b[1;33m:\u001b[0m\u001b[1;33m\u001b[0m\u001b[1;33m\u001b[0m\u001b[0m\n\u001b[0;32m   2953\u001b[0m             \u001b[0mcdist_fn\u001b[0m \u001b[1;33m=\u001b[0m \u001b[0mmetric_info\u001b[0m\u001b[1;33m.\u001b[0m\u001b[0mcdist_func\u001b[0m\u001b[1;33m\u001b[0m\u001b[1;33m\u001b[0m\u001b[0m\n\u001b[1;32m-> 2954\u001b[1;33m             \u001b[1;32mreturn\u001b[0m \u001b[0mcdist_fn\u001b[0m\u001b[1;33m(\u001b[0m\u001b[0mXA\u001b[0m\u001b[1;33m,\u001b[0m \u001b[0mXB\u001b[0m\u001b[1;33m,\u001b[0m \u001b[0mout\u001b[0m\u001b[1;33m=\u001b[0m\u001b[0mout\u001b[0m\u001b[1;33m,\u001b[0m \u001b[1;33m**\u001b[0m\u001b[0mkwargs\u001b[0m\u001b[1;33m)\u001b[0m\u001b[1;33m\u001b[0m\u001b[1;33m\u001b[0m\u001b[0m\n\u001b[0m\u001b[0;32m   2955\u001b[0m         \u001b[1;32melif\u001b[0m \u001b[0mmstr\u001b[0m\u001b[1;33m.\u001b[0m\u001b[0mstartswith\u001b[0m\u001b[1;33m(\u001b[0m\u001b[1;34m\"test_\"\u001b[0m\u001b[1;33m)\u001b[0m\u001b[1;33m:\u001b[0m\u001b[1;33m\u001b[0m\u001b[1;33m\u001b[0m\u001b[0m\n\u001b[0;32m   2956\u001b[0m             \u001b[0mmetric_info\u001b[0m \u001b[1;33m=\u001b[0m \u001b[0m_TEST_METRICS\u001b[0m\u001b[1;33m.\u001b[0m\u001b[0mget\u001b[0m\u001b[1;33m(\u001b[0m\u001b[0mmstr\u001b[0m\u001b[1;33m,\u001b[0m \u001b[1;32mNone\u001b[0m\u001b[1;33m)\u001b[0m\u001b[1;33m\u001b[0m\u001b[1;33m\u001b[0m\u001b[0m\n",
      "\u001b[1;32md:\\Workspace\\ML\\pynirsENV\\lib\\site-packages\\scipy\\spatial\\distance.py\u001b[0m in \u001b[0;36m__call__\u001b[1;34m(self, XA, XB, out, **kwargs)\u001b[0m\n\u001b[0;32m   1659\u001b[0m         \u001b[0mmetric_info\u001b[0m \u001b[1;33m=\u001b[0m \u001b[0m_METRICS\u001b[0m\u001b[1;33m[\u001b[0m\u001b[0mmetric_name\u001b[0m\u001b[1;33m]\u001b[0m\u001b[1;33m\u001b[0m\u001b[1;33m\u001b[0m\u001b[0m\n\u001b[0;32m   1660\u001b[0m         XA, XB, typ, kwargs = _validate_cdist_input(\n\u001b[1;32m-> 1661\u001b[1;33m             XA, XB, mA, mB, n, metric_info, **kwargs)\n\u001b[0m\u001b[0;32m   1662\u001b[0m \u001b[1;33m\u001b[0m\u001b[0m\n\u001b[0;32m   1663\u001b[0m         \u001b[0mw\u001b[0m \u001b[1;33m=\u001b[0m \u001b[0mkwargs\u001b[0m\u001b[1;33m.\u001b[0m\u001b[0mpop\u001b[0m\u001b[1;33m(\u001b[0m\u001b[1;34m'w'\u001b[0m\u001b[1;33m,\u001b[0m \u001b[1;32mNone\u001b[0m\u001b[1;33m)\u001b[0m\u001b[1;33m\u001b[0m\u001b[1;33m\u001b[0m\u001b[0m\n",
      "\u001b[1;32md:\\Workspace\\ML\\pynirsENV\\lib\\site-packages\\scipy\\spatial\\distance.py\u001b[0m in \u001b[0;36m_validate_cdist_input\u001b[1;34m(XA, XB, mA, mB, n, metric_info, **kwargs)\u001b[0m\n\u001b[0;32m    205\u001b[0m     \u001b[0m_validate_kwargs\u001b[0m \u001b[1;33m=\u001b[0m \u001b[0mmetric_info\u001b[0m\u001b[1;33m.\u001b[0m\u001b[0mvalidator\u001b[0m\u001b[1;33m\u001b[0m\u001b[1;33m\u001b[0m\u001b[0m\n\u001b[0;32m    206\u001b[0m     \u001b[1;32mif\u001b[0m \u001b[0m_validate_kwargs\u001b[0m\u001b[1;33m:\u001b[0m\u001b[1;33m\u001b[0m\u001b[1;33m\u001b[0m\u001b[0m\n\u001b[1;32m--> 207\u001b[1;33m         \u001b[0mkwargs\u001b[0m \u001b[1;33m=\u001b[0m \u001b[0m_validate_kwargs\u001b[0m\u001b[1;33m(\u001b[0m\u001b[1;33m(\u001b[0m\u001b[0mXA\u001b[0m\u001b[1;33m,\u001b[0m \u001b[0mXB\u001b[0m\u001b[1;33m)\u001b[0m\u001b[1;33m,\u001b[0m \u001b[0mmA\u001b[0m \u001b[1;33m+\u001b[0m \u001b[0mmB\u001b[0m\u001b[1;33m,\u001b[0m \u001b[0mn\u001b[0m\u001b[1;33m,\u001b[0m \u001b[1;33m**\u001b[0m\u001b[0mkwargs\u001b[0m\u001b[1;33m)\u001b[0m\u001b[1;33m\u001b[0m\u001b[1;33m\u001b[0m\u001b[0m\n\u001b[0m\u001b[0;32m    208\u001b[0m     \u001b[1;32mreturn\u001b[0m \u001b[0mXA\u001b[0m\u001b[1;33m,\u001b[0m \u001b[0mXB\u001b[0m\u001b[1;33m,\u001b[0m \u001b[0mtyp\u001b[0m\u001b[1;33m,\u001b[0m \u001b[0mkwargs\u001b[0m\u001b[1;33m\u001b[0m\u001b[1;33m\u001b[0m\u001b[0m\n\u001b[0;32m    209\u001b[0m \u001b[1;33m\u001b[0m\u001b[0m\n",
      "\u001b[1;32md:\\Workspace\\ML\\pynirsENV\\lib\\site-packages\\scipy\\spatial\\distance.py\u001b[0m in \u001b[0;36m_validate_mahalanobis_kwargs\u001b[1;34m(X, m, n, **kwargs)\u001b[0m\n\u001b[0;32m    242\u001b[0m                              \u001b[1;34m\"singular. For observations with %d \"\u001b[0m\u001b[1;33m\u001b[0m\u001b[1;33m\u001b[0m\u001b[0m\n\u001b[0;32m    243\u001b[0m                              \u001b[1;34m\"dimensions, at least %d observations \"\u001b[0m\u001b[1;33m\u001b[0m\u001b[1;33m\u001b[0m\u001b[0m\n\u001b[1;32m--> 244\u001b[1;33m                              \"are required.\" % (m, n, n + 1))\n\u001b[0m\u001b[0;32m    245\u001b[0m         \u001b[1;32mif\u001b[0m \u001b[0misinstance\u001b[0m\u001b[1;33m(\u001b[0m\u001b[0mX\u001b[0m\u001b[1;33m,\u001b[0m \u001b[0mtuple\u001b[0m\u001b[1;33m)\u001b[0m\u001b[1;33m:\u001b[0m\u001b[1;33m\u001b[0m\u001b[1;33m\u001b[0m\u001b[0m\n\u001b[0;32m    246\u001b[0m             \u001b[0mX\u001b[0m \u001b[1;33m=\u001b[0m \u001b[0mnp\u001b[0m\u001b[1;33m.\u001b[0m\u001b[0mvstack\u001b[0m\u001b[1;33m(\u001b[0m\u001b[0mX\u001b[0m\u001b[1;33m)\u001b[0m\u001b[1;33m\u001b[0m\u001b[1;33m\u001b[0m\u001b[0m\n",
      "\u001b[1;31mValueError\u001b[0m: The number of observations (164) is too small; the covariance matrix is singular. For observations with 312 dimensions, at least 313 observations are required."
     ]
    }
   ],
   "source": [
    "## Generate model selection test data - Snapshot (XX-XX-XX - commit:)\n",
    "import random\n",
    "import numpy as np\n",
    "import pandas as pd\n",
    "from sklearn.model_selection import ShuffleSplit\n",
    "from pinard import model_selection\n",
    "\n",
    "x_fname = 'test_split.csv'\n",
    "x_df = pd.read_csv(x_fname, sep=';', header=None)\n",
    "x = x_df.astype(np.float32).values\n",
    "y = np.reshape(x[:,0], (-1,1))\n",
    "x = x[:,1:]\n",
    "\n",
    "np.random.seed(42)\n",
    "random.seed(42)\n",
    "\n",
    "train_index, test_index = model_selection.train_test_split_idx(x, method=\"random\", test_size=0.25, random_state=42)\n",
    "test_data = train_index\n",
    "\n",
    "train_index, test_index = model_selection.train_test_split_idx(x, method=\"k_mean\", test_size=0.25, random_state=42, metric= \"canberra\")\n",
    "test_data = np.column_stack((test_data, train_index))\n",
    "\n",
    "train_index, test_index = model_selection.train_test_split_idx(x, method=\"k_mean\", test_size=0.25, random_state=42, metric= \"jensenshannon\")\n",
    "test_data = np.column_stack((test_data, train_index))\n",
    "\n",
    "train_index, test_index = model_selection.train_test_split_idx(x, method=\"k_mean\", test_size=0.25, random_state=42, pca_components=4, metric= \"correlation\")\n",
    "test_data = np.column_stack((test_data, train_index))\n",
    "\n",
    "train_index, test_index = model_selection.train_test_split_idx(x, method=\"kennard_stone\", test_size=0.25, random_state=42)\n",
    "test_data = np.column_stack((test_data, train_index))\n",
    "\n",
    "train_index, test_index = model_selection.train_test_split_idx(x, method=\"kennard_stone\", test_size=0.25, random_state=42, metric='correlation', pca_components=8)\n",
    "test_data = np.column_stack((test_data, train_index))\n",
    "\n",
    "train_index, test_index = model_selection.train_test_split_idx(x, method=\"kennard_stone\", test_size=0.25, random_state=42, metric='correlation')\n",
    "test_data = np.column_stack((test_data, train_index))\n",
    "\n",
    "train_index, test_index = model_selection.train_test_split_idx(x, y=y, method=\"spxy\", test_size=0.25, random_state=42)\n",
    "test_data = np.column_stack((test_data, train_index))\n",
    "\n",
    "train_index, test_index = model_selection.train_test_split_idx(x, y=y, method=\"spxy\", test_size=0.25, random_state=42, pca_components=2)\n",
    "test_data = np.column_stack((test_data, train_index))\n",
    "\n",
    "train_index, test_index = model_selection.train_test_split_idx(x, y=y, method=\"spxy\", test_size=0.25, random_state=42, metric='canberra')\n",
    "test_data = np.column_stack((test_data, train_index))\n",
    "\n",
    "train_index, test_index = model_selection.train_test_split_idx(x, y=y, method=\"stratified\", test_size=0.25, random_state=42)\n",
    "test_data = np.column_stack((test_data, train_index))\n",
    "\n",
    "train_index, test_index = model_selection.train_test_split_idx(x, y=y, method=\"stratified\", test_size=0.25, random_state=42, n_bins=4)\n",
    "test_data = np.column_stack((test_data, train_index))\n",
    "\n",
    "train_index, test_index = model_selection.train_test_split_idx(x, y=y, method=\"circular\", test_size=0.25, random_state=42)\n",
    "test_data = np.column_stack((test_data, train_index))\n",
    "\n",
    "# train_index, test_index = model_selection.train_test_split_idx(x, method=\"SPlit\", test_size=0.25, random_state=42)\n",
    "# test_data = np.column_stack((test_data, train_index))\n",
    "\n",
    "np.savetxt(\"test_split_validation.csv\", test_data.astype(np.int32), delimiter=\";\", fmt='%i')\n"
   ]
  },
  {
   "cell_type": "code",
   "execution_count": 26,
   "metadata": {},
   "outputs": [
    {
     "name": "stdout",
     "output_type": "stream",
     "text": [
      "(10, 2)\n"
     ]
    },
    {
     "data": {
      "text/plain": [
       "array([[0, 0, 0],\n",
       "       [1, 1, 1],\n",
       "       [2, 2, 2],\n",
       "       [3, 3, 3],\n",
       "       [4, 4, 4],\n",
       "       [5, 5, 5],\n",
       "       [6, 6, 6],\n",
       "       [7, 7, 7],\n",
       "       [8, 8, 8],\n",
       "       [9, 9, 9]])"
      ]
     },
     "execution_count": 26,
     "metadata": {},
     "output_type": "execute_result"
    }
   ],
   "source": [
    "a = np.arange(10)\n",
    "b = np.arange(10)\n",
    "c = np.column_stack_stack((a,b))\n",
    "print(c.shape)\n",
    "d = np.column_stack_stack((c,a))\n",
    "d"
   ]
  }
 ],
 "metadata": {
  "interpreter": {
   "hash": "7b09f6e5407ec4329146609a0cb08cbbe4720f97bb26598a93c421b663bd10d2"
  },
  "kernelspec": {
   "display_name": "Python 3.7.9 64-bit ('pynirsENV': venv)",
   "language": "python",
   "name": "python3"
  },
  "language_info": {
   "codemirror_mode": {
    "name": "ipython",
    "version": 3
   },
   "file_extension": ".py",
   "mimetype": "text/x-python",
   "name": "python",
   "nbconvert_exporter": "python",
   "pygments_lexer": "ipython3",
   "version": "3.7.9"
  },
  "orig_nbformat": 4
 },
 "nbformat": 4,
 "nbformat_minor": 2
}
